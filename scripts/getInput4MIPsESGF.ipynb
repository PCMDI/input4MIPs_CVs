{
 "cells": [
  {
   "cell_type": "markdown",
   "id": "f0a176d8-3c44-44cc-b253-0dcf5d933746",
   "metadata": {},
   "source": [
    "# Query ESGF input4MIPs index and create source_id entries"
   ]
  },
  {
   "cell_type": "raw",
   "id": "20363c50-b6df-4b1b-8d87-8c9099479e6a",
   "metadata": {},
   "source": [
    "PJD 24 Oct 2023 - Started to query LLNL-ESGF input4MIPs index and extract all published source_id entries\n",
    "PJD 25 Oct 2023 - Updated with valid solr queries\n",
    "PJD 26 Oct 2023 - Added File-based solr search (augmenting Dataset)\n",
    "PJD 27 Oct 2023 - Updated project to input4MIPs (Sasha fixed all entries - replacing \"&fq=project:(input4mips%20OR%20input4MIPs)\" as the project)\n",
    "PJD 20 Nov 2023 - Updating to allow srcIds to be reused\n",
    "PJD 21 Nov 2023 - Start iterating through source_id's\n",
    "PJD 21 Nov 2023 - Updated to write out composite entries\n",
    "PJD 29 Nov 2023 - Added CMIP6Plus example\n",
    "PJD 29 Nov 2023 - Deployed prototype CVs - built from ESGF index and CMIP6Plus example\n",
    "PJD 29 Nov 2023 - Deployed prototype source_id html https://pcmdi.github.io/input4MIPs_CVs/docs/input4MIPs_source_id.html\n",
    "PJD 17 Jun 2024 - Updating to start source_id registration - no change from ESGF index 231129\n",
    "PJD 17 Jun 2024 - Adding input4MIPs_institution_id.json\n",
    "PJD 21 Jun 2024 - Rerunning, MRI-JRA55-do-1-6-0 published\n",
    "PJD 25 Jun 2024 - Rerunning, MRI-JRA55-do-1-6-0 republished\n",
    "PJD  1 Jul 2024 - Prototype new source_id format\n",
    "PJD  1 Jul 2024 - Added \"status = Published\" for all existing data; \"Registered\" for new\n",
    "PJD 25 Jul 2024 - Updated for latest poll\n",
    "\n",
    "To-do:\n",
    "- Add \"prototype\" as target_mip, new AMIP data\n",
    "- Register MRI-JRA55-do-1-6-0 https://github.com/PCMDI/input4MIPs_CVs/issues/18\n",
    "- Register SOLARIS-HEPPA-4-1 https://github.com/PCMDI/input4MIPs_CVs/issues/17#issuecomment-2146223824\n",
    "- Register CR-CMIP-0-2-0 https://github.com/PCMDI/input4MIPs_CVs/issues/13\n",
    "- Register DRES-CMIP-BB4CMIP7-1-0 https://github.com/PCMDI/input4MIPs_CVs/issues/10#issuecomment-2148147489\n",
    "- Register volcanic? https://github.com/PCMDI/input4MIPs_CVs/issues/9"
   ]
  },
  {
   "cell_type": "markdown",
   "id": "ccf97c08-e120-4513-8cf3-25e97110ddd8",
   "metadata": {},
   "source": [
    "## notes"
   ]
  },
  {
   "cell_type": "raw",
   "id": "1af44764-8e4a-46f4-a542-b18d2212cf45",
   "metadata": {
    "jupyter": {
     "source_hidden": true
    }
   },
   "source": [
    "# env - must be connected by home or office wired IP - *.95.87 or *.241.141\n",
    "\n",
    "# Notes\n",
    "Datasets with no source_id 231026\n",
    "input4mips.ImperialCollege.atmosphericState.C4MIP-OMIP.ImperialCollege-1-0.yr.Delta14co2-in-air.gz.v20170428\n",
    "input4mips.ImperialCollege.atmosphericState.C4MIP-OMIP.ImperialCollege-1-0.yr.delta13co2-in-air.gm.v20170428\n",
    "input4MIPs.ImperialCollege.atmosphericState.C4MIP-OMIP.ImperialCollege-1-0.yr.delta13co2-in-air.gm.v20170428\n",
    "\n",
    "# website tracking _config.yml\n",
    "https://github.com/pages-themes/minimal/issues/88\n",
    "\n",
    "# Links\n",
    "https://search.google.com/search-console"
   ]
  },
  {
   "cell_type": "markdown",
   "id": "41322843-6c92-423b-a468-f1e0a7fe022b",
   "metadata": {},
   "source": [
    "## imports"
   ]
  },
  {
   "cell_type": "code",
   "execution_count": 5,
   "id": "727c54fa-d454-4adc-953d-1c93a0abf392",
   "metadata": {},
   "outputs": [
    {
     "name": "stdout",
     "output_type": "stream",
     "text": [
      "CPU times: user 18 μs, sys: 1 μs, total: 19 μs\n",
      "Wall time: 21.9 μs\n"
     ]
    }
   ],
   "source": [
    "%%time\n",
    "import json\n",
    "import numpy as np\n",
    "import os\n",
    "import pdb\n",
    "import requests\n",
    "from IPython.display import clear_output"
   ]
  },
  {
   "cell_type": "markdown",
   "id": "fe77200e-f8c7-4f7a-98e9-7c38ad218ab3",
   "metadata": {},
   "source": [
    "## example source_id queries"
   ]
  },
  {
   "cell_type": "raw",
   "id": "bb92413c-8bf8-4b48-ae3b-a0563b7edd4c",
   "metadata": {
    "jupyter": {
     "source_hidden": true
    }
   },
   "source": [
    "esgf-search\n",
    "https://esgf-node.llnl.gov/esg-search/search/?limit=0&format=application%2Fsolr%2Bjson&facets=variable_id&project=input4mips&project=input4MIPs&distrib=false 5879\n",
    "https://esgf-node.llnl.gov/esg-search/search/?limit=0&format=application%2Fsolr%2Bjson&facets=source_id&project=input4mips&project=input4MIPs&distrib=false 5879\n",
    "https://esgf-node.llnl.gov/esg-search/search?activity_id=input4MIPs&offset=0&limit=0&type=Dataset&format=application%2Fsolr%2Bjson&facets=source_id&latest=true&distrib=false 5221\n",
    "\n",
    "solr\n",
    "solr - json - Dataset - input4MIPs - 5876\n",
    "https://esgf-node.llnl.gov/solr/datasets/select?q=*:*&rows=0&wt=json&facet=true&fq=type:Dataset&fq=replica:false&fq=project:input4MIPs&facet.field=source_id\n",
    "solr - json - File - input4MIPs - 9373\n",
    "https://esgf-node.llnl.gov/solr/files/select?q=*:*&rows=0&wt=json&facet=true&fq=type:File&fq=replica:false&fq=project:input4MIPs&facet.field=source_id"
   ]
  },
  {
   "cell_type": "markdown",
   "id": "e6082ca0-bbcb-44b4-a1b8-8e6750dfbda5",
   "metadata": {},
   "source": [
    "## get SOLR source_id entries"
   ]
  },
  {
   "cell_type": "code",
   "execution_count": 6,
   "id": "25d88e25-1c25-4800-93a2-d8838ee05d8c",
   "metadata": {
    "jupyter": {
     "source_hidden": true
    },
    "scrolled": true
   },
   "outputs": [
    {
     "name": "stdout",
     "output_type": "stream",
     "text": [
      "inputsD: https://esgf-node.llnl.gov/solr/datasets/select?q=*:*&rows=0&wt=json&facet=true&fq=type:Dataset&fq=replica:false&fq=activity_id:input4MIPs&facet.field=source_id\n",
      "inputsF: https://esgf-node.llnl.gov/solr/files/select?q=*:*&rows=0&wt=json&facet=true&fq=type:File&fq=replica:false&fq=activity_id:input4MIPs&facet.field=source_id\n",
      "CPU times: user 32.8 ms, sys: 7.21 ms, total: 40 ms\n",
      "Wall time: 264 ms\n"
     ]
    }
   ],
   "source": [
    "%%time\n",
    "# both input4MIPs and input4mips\n",
    "actId = \"input4MIPs\"\n",
    "\n",
    "# Dataset search\n",
    "inputsD = \"https://esgf-node.llnl.gov/solr/datasets/select?q=*:*&rows=0&wt=json&facet=true&\" \\\n",
    "         \"fq=type:Dataset&fq=replica:false&fq=activity_id:\" + actId + \"&facet.field=source_id\"\n",
    "js = requests.get(inputsD)\n",
    "js_mipsD = json.loads(js.text)\n",
    "print(\"inputsD:\", inputsD)\n",
    "\n",
    "# File search\n",
    "inputsF = \"https://esgf-node.llnl.gov/solr/files/select?q=*:*&rows=0&wt=json&facet=true&\" \\\n",
    "          \"fq=type:File&fq=replica:false&fq=activity_id:\" + actId + \"&facet.field=source_id\"\n",
    "js = requests.get(inputsF)\n",
    "js_mipsF = json.loads(js.text)\n",
    "print(\"inputsF:\", inputsF)"
   ]
  },
  {
   "cell_type": "markdown",
   "id": "2a85a901-e7fa-4e59-8e50-a8ea10024dfc",
   "metadata": {},
   "source": [
    "## extract SOLR source_id entries and composite"
   ]
  },
  {
   "cell_type": "code",
   "execution_count": 7,
   "id": "7d4c32c8-07a6-433a-b755-73d55bc97e3e",
   "metadata": {
    "jupyter": {
     "source_hidden": true
    }
   },
   "outputs": [
    {
     "name": "stdout",
     "output_type": "stream",
     "text": [
      "len(dicInpmD): 372\n",
      "len(dicInpmF): 350\n"
     ]
    }
   ],
   "source": [
    "dicInpmD = js_mipsD[\"facet_counts\"][\"facet_fields\"][\"source_id\"]\n",
    "print(\"len(dicInpmD):\", len(dicInpmD))\n",
    "dicInpmF = js_mipsF[\"facet_counts\"][\"facet_fields\"][\"source_id\"]\n",
    "print(\"len(dicInpmF):\", len(dicInpmF))\n",
    "#print(dicInpmD)\n",
    "#print(dicInpmF)"
   ]
  },
  {
   "cell_type": "code",
   "execution_count": 8,
   "id": "9b721c24-d533-4fdd-b687-561a3a7d0fe7",
   "metadata": {
    "jupyter": {
     "source_hidden": true
    }
   },
   "outputs": [
    {
     "name": "stdout",
     "output_type": "stream",
     "text": [
      "srcIdDLen: 372\n",
      "len(srcIdDDict.keys()): 186\n",
      "dataset counts: 5900\n",
      "srcIdFLen: 350\n",
      "len(srcIdFDict.keys()): 175\n",
      "dataset counts: 10387\n",
      "Search results: Dataset includes, excluded from File searches (likely latest:false):\n"
     ]
    },
    {
     "data": {
      "text/plain": [
       "{'CCMI-hist-nat-1-0',\n",
       " 'CCMI-hist-sol-1-0',\n",
       " 'CCMI-hist-volc-1-0',\n",
       " 'IAMC-AIM-ssp370-1-0',\n",
       " 'IAMC-GCAM4-ssp434-1-0',\n",
       " 'IAMC-GCAM4-ssp460-1-0',\n",
       " 'IAMC-IMAGE-ssp119-1-0',\n",
       " 'IAMC-IMAGE-ssp126-1-0',\n",
       " 'IAMC-MESSAGE-GLOBIOM-ssp245-1-0',\n",
       " 'IAMC-REMIND-MAGPIE-ssp534-over-1-0',\n",
       " 'IAMC-REMIND-MAGPIE-ssp585-1-0'}"
      ]
     },
     "execution_count": 8,
     "metadata": {},
     "output_type": "execute_result"
    }
   ],
   "source": [
    "# datasets\n",
    "srcIdLen = len(dicInpmD)\n",
    "print(\"srcIdDLen:\", srcIdLen)\n",
    "els = np.arange(0, srcIdLen, 2)\n",
    "srcIdDDict = {}\n",
    "srcIds = dicInpmD  # reset to generic variable name\n",
    "counts = 0\n",
    "for cnt, srcId in enumerate(els.tolist()):\n",
    "    #print(cnt, srcId)\n",
    "    srcIdDDict[srcIds[srcId]] = srcIds[srcId+1]\n",
    "    counts += int(srcIds[srcId+1])\n",
    "\n",
    "print(\"len(srcIdDDict.keys()):\", len(srcIdDDict.keys()))\n",
    "print(\"dataset counts:\", counts)\n",
    "# sort dictionary\n",
    "srcIdDDictList = list(sorted(srcIdDDict.keys()))\n",
    "#print(srcIdDDictList)\n",
    "\n",
    "# files\n",
    "srcIdLen = len(dicInpmF)\n",
    "print(\"srcIdFLen:\", srcIdLen)\n",
    "els = np.arange(0, srcIdLen, 2)\n",
    "srcIdFDict = {}\n",
    "srcIds = dicInpmF  # reset to generic variable name\n",
    "counts = 0\n",
    "for cnt, srcId in enumerate(els.tolist()):\n",
    "    #print(cnt, srcId)\n",
    "    srcIdFDict[srcIds[srcId]] = srcIds[srcId+1]\n",
    "    counts += int(srcIds[srcId+1])\n",
    "\n",
    "print(\"len(srcIdFDict.keys()):\", len(srcIdFDict.keys()))\n",
    "print(\"dataset counts:\", counts)\n",
    "# sort dictionary\n",
    "srcIdFDictList = list(sorted(srcIdFDict.keys()))\n",
    "#print(srcIdFDictList)\n",
    "\n",
    "# determine missing\n",
    "print(\"Search results: Dataset includes, excluded from File searches (likely latest:false):\")\n",
    "set(srcIdDDictList).difference(srcIdFDictList)"
   ]
  },
  {
   "cell_type": "markdown",
   "id": "2c5c1e35-7625-4011-9b18-70925fb0ee7e",
   "metadata": {},
   "source": [
    "## example esg-search source_id queries"
   ]
  },
  {
   "cell_type": "raw",
   "id": "bcfe3550-90aa-4774-b7e5-7ec48605557c",
   "metadata": {
    "jupyter": {
     "source_hidden": true
    }
   },
   "source": [
    "do something else\n",
    "https://esgf-node.llnl.gov/esg-search/search/?limit=1000&format=application%2Fsolr%2Bjson&source_id=ACCESS1-3-rcp85-1-0&project=input4mips&project=input4MIPs&distrib=false&fields=_timestamp - timestamps only\n",
    "\n",
    "https://esgf-node.llnl.gov/esg-search/search/?limit=1000&format=application%2Fsolr%2Bjson&source_id=ACCESS1-3-rcp85-1-0&project=input4mips&project=input4MIPs&distrib=false&fields=* - wildcard, all index entries, 4 files/variables"
   ]
  },
  {
   "cell_type": "markdown",
   "id": "f9cef7e5-0c2a-4cdf-af0e-0a72863486ca",
   "metadata": {},
   "source": [
    "## using source_id entries from Dataset search build a library"
   ]
  },
  {
   "cell_type": "code",
   "execution_count": 9,
   "id": "84724d0f-29bf-42b2-91ae-b54fa7e1ca0a",
   "metadata": {},
   "outputs": [
    {
     "name": "stdout",
     "output_type": "stream",
     "text": [
      "len(js_srcId): 247\n",
      "All done\n"
     ]
    }
   ],
   "source": [
    "solrQry = \"https://esgf-node.llnl.gov/esg-search/search/?limit=1000&format=application%2Fsolr%2Bjson&source_id=\" \\\n",
    "          \"PLACEHOLDER\" + \"&project=input4mips&project=input4MIPs&distrib=false&fields=*\"  # all fields\n",
    "mstrJson = {}  # create catch dictionary\n",
    "oF = \"tmp.json\"\n",
    "for count, srcId in enumerate(srcIdDDict.keys()):\n",
    "    print(count, srcId)\n",
    "    qryStr = solrQry.replace(\"PLACEHOLDER\", srcId)\n",
    "    #print(\"qryStr:\", qryStr)\n",
    "    js = requests.get(qryStr)\n",
    "    js_srcId = json.loads(js.text)\n",
    "    #print(js_srcId[\"response\"][\"docs\"][0])\n",
    "    # write to placeholder to test\n",
    "    srcIdLen = len(js_srcId[\"response\"][\"docs\"])\n",
    "    clear_output(wait=False)\n",
    "    # https://stackoverflow.com/questions/24816237/ipython-notebook-clear-cell-output-in-code\n",
    "    print(\"len(js_srcId):\", srcIdLen)\n",
    "    for entry in np.arange(0, srcIdLen):\n",
    "        a = js_srcId[\"response\"][\"docs\"][entry]\n",
    "        instId = a[\"instance_id\"]\n",
    "        mstrJson[instId] = a        \n",
    "        if os.path.exists(oF):\n",
    "            os.remove(oF)\n",
    "        fH = open(oF, \"w\")\n",
    "        json.dump(a, fH, ensure_ascii=True, sort_keys=True, indent=4, separators=(\",\", \":\"),)\n",
    "        #json.dump(mstrJson, fH, ensure_ascii=True, sort_keys=True, indent=4, separators=(\",\", \":\"),)\n",
    "        fH.close()\n",
    "    #pdb.set_trace()\n",
    "print(\"All done\")\n",
    "# cleanup\n",
    "os.remove(oF)  # cleanup\n",
    "# Write all out\n",
    "oF = \"comp.json\"\n",
    "if os.path.exists(oF):\n",
    "    os.remove(oF)\n",
    "fH = open(oF, \"w\")\n",
    "json.dump(mstrJson, fH, ensure_ascii=True, sort_keys=True, indent=4, separators=(\",\", \":\"),)\n",
    "fH.close()"
   ]
  },
  {
   "cell_type": "markdown",
   "id": "e5446ac5-bb2b-44fe-9ae4-70aa78d759b3",
   "metadata": {},
   "source": [
    "## from SOLR scour create input4MIPs_source_id.json"
   ]
  },
  {
   "cell_type": "code",
   "execution_count": 6,
   "id": "3fbe7b15-5ce1-4bb9-91e5-7d8b54720456",
   "metadata": {},
   "outputs": [
    {
     "name": "stdout",
     "output_type": "stream",
     "text": [
      "len(srcIdDict[\"source_id\"].keys()): 185\n",
      "CPU times: user 105 ms, sys: 4.68 ms, total: 110 ms\n",
      "Wall time: 110 ms\n"
     ]
    }
   ],
   "source": [
    "%%time\n",
    "srcIdDict = {}\n",
    "srcIdDict[\"source_id\"] = {}\n",
    "# Look up info\n",
    "# Implied by project: activity_id=input4MIPs, license=\"CC BY 4.0\"\n",
    "# Not already here and\n",
    "# source from input4mips-cmor-tables: region, title (ESGF version), variable_id (per file in SOLR)\n",
    "# needs validating: datetime_start, datetime_stop  # Adding for dataset/source_id temporal coverage\n",
    "# file: Conventions, creation_date, tracking_id \n",
    "# irrelevant: institution, table_id  # need for lookup\n",
    "\n",
    "# Define all keys\n",
    "stdKeys = [\n",
    "    \"contact\", \"dataset_category\", \"datetime_start\",\n",
    "    \"datetime_stop\", \"frequency\", \"further_info_url\", \"grid_label\", \"institution_id\",\n",
    "    \"mip_era\", \"nominal_resolution\", \"realm\", \"source\", \"source_id\",\n",
    "    \"source_version\", \"target_mip\",\n",
    "       ]\n",
    "extraKeys = [\"license\", \"region\", \"title\"]\n",
    "dataProviderFileKeys = [\"Conventions\", \"creation_date\", \"tracking_id\"]\n",
    "dataProviderExtraKeys = [\"source_variables\"]\n",
    "esgfIndexKeys = [\"_timestamp\", \"data_node\", \"latest\", \"replica\", \"version\", \"xlink\"]\n",
    "\n",
    "# loop through entries\n",
    "for c1, a in enumerate(mstrJson):\n",
    "    tmp = mstrJson[a]\n",
    "    srcId = tmp[\"source_id\"][0]\n",
    "    print(srcId)\n",
    "    if srcId not in srcIdDict.keys():\n",
    "        dic = [tmp.get(key) for key in stdKeys]\n",
    "        srcIdDict[\"source_id\"][srcId] = {}\n",
    "        # add \"published\" status\n",
    "        srcIdDict[\"source_id\"][srcId][\"_status\"] = \"Published\"\n",
    "        # do stdKeys entries\n",
    "        for c2, b in enumerate(stdKeys):\n",
    "            c = dic[c2]\n",
    "            if isinstance(c, list):\n",
    "                c = c[0]\n",
    "            if isinstance(c, str) and len(c) > 0 and \"datetime_\" in b:\n",
    "                ind = c.index('T')\n",
    "                c = c[:ind]\n",
    "            srcIdDict[\"source_id\"][srcId][stdKeys[c2]] = c\n",
    "        # do extraKeys entries\n",
    "        for c2, b in enumerate(extraKeys):\n",
    "            srcIdDict[\"source_id\"][srcId][extraKeys[c2]] = \"\"\n",
    "        srcIdDict[\"source_id\"][srcId][\"license\"] = \"CC BY 4.0\"\n",
    "        # do dataProviderFileKeys entries\n",
    "        dic = [tmp.get(key) for key in dataProviderFileKeys]\n",
    "        srcIdDict[\"source_id\"][srcId][\"|dataProviderFile\"] = {}\n",
    "        for c2, b in enumerate(dataProviderFileKeys):\n",
    "            c = dic[c2]\n",
    "            if isinstance(c, list):\n",
    "                c = c[0]\n",
    "            srcIdDict[\"source_id\"][srcId][\"|dataProviderFile\"][dataProviderFileKeys[c2]] = c\n",
    "        # do dataProviderExtraKeys entries\n",
    "        dic = [tmp.get(key) for key in dataProviderExtraKeys]\n",
    "        srcIdDict[\"source_id\"][srcId][\"|dataProviderExtra\"] = {}\n",
    "        srcIdDict[\"source_id\"][srcId][\"|dataProviderExtra\"][\"source_variables\"] = \"\"\n",
    "        for c2, b in enumerate(dataProviderExtraKeys):\n",
    "            c = dic[c2]\n",
    "            if isinstance(c, list):\n",
    "                c = c[0]\n",
    "            srcIdDict[\"source_id\"][srcId][\"|dataProviderExtra\"][dataProviderExtraKeys[c2]] = c\n",
    "        # do esgfIndexKeys entries\n",
    "        dic = [tmp.get(key) for key in esgfIndexKeys]\n",
    "        srcIdDict[\"source_id\"][srcId][\"|esgfIndex\"] = {}\n",
    "        for c2, b in enumerate(esgfIndexKeys):\n",
    "            c = dic[c2]\n",
    "            if isinstance(c, list):\n",
    "                c = c[0]\n",
    "            srcIdDict[\"source_id\"][srcId][\"|esgfIndex\"][esgfIndexKeys[c2]] = c\n",
    "\n",
    "clear_output(wait=False)\n",
    "print(\"len(srcIdDict[\\\"source_id\\\"].keys()):\", len(srcIdDict[\"source_id\"].keys()))\n",
    "# Write all out\n",
    "oF = \"../input4MIPs_source_id.json\"\n",
    "if os.path.exists(oF):\n",
    "    os.remove(oF)\n",
    "fH = open(oF, \"w\")\n",
    "json.dump(srcIdDict, fH, ensure_ascii=True, sort_keys=True, indent=4, separators=(\",\", \":\"),)\n",
    "fH.close()"
   ]
  },
  {
   "cell_type": "markdown",
   "id": "a1e6e126-5e74-4ab8-9dd7-2602b35e81f4",
   "metadata": {},
   "source": [
    "## augment source_id with input4mips-cmor-tables values"
   ]
  },
  {
   "cell_type": "code",
   "execution_count": 7,
   "id": "7f4317ea-a580-4727-b244-a45cb7dd9fb1",
   "metadata": {},
   "outputs": [
    {
     "name": "stdout",
     "output_type": "stream",
     "text": [
      "CPU times: user 42.2 ms, sys: 18.6 ms, total: 60.8 ms\n",
      "Wall time: 377 ms\n"
     ]
    }
   ],
   "source": [
    "%%time\n",
    "# read input4mips-cmor-tables holdings\n",
    "srcIdGithub = \"https://raw.githubusercontent.com/PCMDI/input4MIPs-cmor-tables/master/input4MIPs_source_id.json\"\n",
    "js = requests.get(srcIdGithub)\n",
    "srcIds = json.loads(js.text)\n",
    "\n",
    "# source from input4mips-cmor-tables: region, title (ESGF version), variable_id (per file in SOLR)\n",
    "for count, srcId in enumerate(srcIds[\"source_id\"].keys()):\n",
    "    print(\"srcId:\", srcId)\n",
    "    keyList = srcIds[\"source_id\"][srcId].keys()\n",
    "    if \"region\" in keyList:\n",
    "        a = srcIds[\"source_id\"][srcId][\"region\"]\n",
    "        print(\"source_id:region\", a)\n",
    "        srcIdDict[\"source_id\"][srcId][\"region\"] = a\n",
    "    if \"title\" in keyList:\n",
    "        a = srcIds[\"source_id\"][srcId][\"title\"]\n",
    "        print(\"source_id:title\", a)\n",
    "        srcIdDict[\"source_id\"][srcId][\"title\"] = a\n",
    "    if \"source_variables\" in keyList:\n",
    "        a = srcIds[\"source_id\"][srcId][\"source_variables\"]\n",
    "        print(\"source_id:source_variables\", a)\n",
    "        srcIdDict[\"source_id\"][srcId][\"|dataProviderExtra\"][\"source_variables\"] = a\n",
    "    clear_output(wait=False)\n",
    "# Write all out\n",
    "oF = \"../input4MIPs_source_id.json\"\n",
    "if os.path.exists(oF):\n",
    "    os.remove(oF)\n",
    "fH = open(oF, \"w\")\n",
    "json.dump(srcIdDict, fH, ensure_ascii=True, sort_keys=True, indent=4, separators=(\",\", \":\"),)\n",
    "fH.close()"
   ]
  },
  {
   "cell_type": "raw",
   "id": "2a43ee03-26b4-44e0-baa4-d69fd85adf7d",
   "metadata": {
    "jupyter": {
     "source_hidden": true
    }
   },
   "source": [
    "# working template\n",
    "\"PCMDI-AMIP-1-1-9\":{\n",
    "    \"contact\":\"PCMDI (pcmdi-cmip@llnl.gov)\",\n",
    "    \"dataset_category\":\"SSTsAndSeaIce\",\n",
    "    \"datetime_start\":\"1870-01-16\",\n",
    "    \"datetime_stop\":null,\n",
    "    \"frequency\":\"mon\",\n",
    "    \"further_info_url\":\"https://pcmdi.llnl.gov/mips/amip\",\n",
    "    \"grid_label\":\"gn\",\n",
    "    \"institution_id\":\"PCMDI\",\n",
    "    \"license\":\"CC BY 4.0\",\n",
    "    \"mip_era\":\"CMIP6Plus\",\n",
    "    \"nominal_resolution\":\"1x1 degree\",\n",
    "    \"realm\":\"seaIce\",\n",
    "    \"region\":[\n",
    "        \"global_ocean\"\n",
    "    ],\n",
    "    \"source\":\"PCMDI-AMIP 1.1.9: Merged SST based on UK MetOffice HadISST and NCEP OI2\",\n",
    "    \"source_id\":\"PCMDI-AMIP-1-1-9\",\n",
    "    \"source_version\":\"1.1.9\",\n",
    "    \"target_mip\":\"CMIP\",\n",
    "    \"title\":\"PCMDI-AMIP 1.1.9 dataset prepared for input4MIPs\",\n",
    "    \"|dataProviderExtra\":{\n",
    "        \"source_variables\":[\n",
    "            \"areacello\",\n",
    "            \"sftof\",\n",
    "            \"siconc\",\n",
    "            \"siconcbcs\",\n",
    "            \"tos\",\n",
    "            \"tosbcs\"\n",
    "        ]\n",
    "    },\n",
    "    \"|dataProviderFile\":{\n",
    "        \"Conventions\":\"CF-1.7 CMIP-6.2\",\n",
    "        \"creation_date\":\"2023-05-12T13:45:24Z\",\n",
    "        \"tracking_id\":null\n",
    "    },\n",
    "    \"|esgfIndex\":{\n",
    "        \"_timestamp\":\"2023-05-12T14:48:25.282Z\",\n",
    "        \"data_node\":\"esgf-data2.llnl.gov\",\n",
    "        \"latest\":true,\n",
    "        \"replica\":false,\n",
    "        \"version\":\"20230512\",\n",
    "        \"xlink\":\"http://cera-www.dkrz.de/WDCC/meta/CMIP6/input4MIPs.CMIP6Plus.CMIP.PCMDI.PCMDI-AMIP-1-1-9.seaIce.mon.siconc.gn.v20230512.json|Citation|citation\"\n",
    "    }\n",
    "},"
   ]
  },
  {
   "cell_type": "markdown",
   "id": "99a1c720-f284-4cd3-90ce-3adf9e84bbf1",
   "metadata": {},
   "source": [
    "## Check institution_id entries in source_id"
   ]
  },
  {
   "cell_type": "code",
   "execution_count": 70,
   "id": "3a166b94-68b6-48fa-9a13-9359483bc1eb",
   "metadata": {},
   "outputs": [],
   "source": [
    "instIds = []\n",
    "for cnt, key in enumerate(srcIdDict[\"source_id\"].keys()):\n",
    "    instId = srcIdDict[\"source_id\"][key][\"institution_id\"]\n",
    "    if instId not in instIds:\n",
    "        instIds.append(instId)\n",
    "        #print(\"srcId:inst_id:\", instId)\n",
    "\n",
    "instIds.sort()\n",
    "#instIds - matches"
   ]
  },
  {
   "cell_type": "markdown",
   "id": "7c973cb0-f877-443b-8730-de83f7f7a3ee",
   "metadata": {},
   "source": [
    "# Create other CV entries"
   ]
  },
  {
   "cell_type": "markdown",
   "id": "247aa657-4b5b-451e-95f6-264f5d18f866",
   "metadata": {},
   "source": [
    "## create other *.json entries - lift direct from repo"
   ]
  },
  {
   "cell_type": "code",
   "execution_count": 21,
   "id": "b15a025a-dbf9-4666-8550-7e85f8187c7a",
   "metadata": {},
   "outputs": [
    {
     "name": "stdout",
     "output_type": "stream",
     "text": [
      "https://raw.githubusercontent.com/PCMDI/input4MIPs_CVs/main/input4MIPs_DRS.json\n",
      "https://raw.githubusercontent.com/PCMDI/input4MIPs_CVs/main/input4MIPs_activity_id.json\n",
      "https://raw.githubusercontent.com/PCMDI/input4MIPs_CVs/main/input4MIPs_dataset_category.json\n",
      "https://raw.githubusercontent.com/PCMDI/input4MIPs_CVs/main/input4MIPs_institution_id.json\n",
      "https://raw.githubusercontent.com/PCMDI/input4MIPs_CVs/main/input4MIPs_license.json\n",
      "https://raw.githubusercontent.com/PCMDI/input4MIPs_CVs/main/input4MIPs_mip_era.json\n",
      "https://raw.githubusercontent.com/PCMDI/input4MIPs_CVs/main/input4MIPs_product.json\n",
      "https://raw.githubusercontent.com/PCMDI/input4MIPs_CVs/main/input4MIPs_required_global_attributes.json\n",
      "https://raw.githubusercontent.com/PCMDI/input4MIPs_CVs/main/input4MIPs_target_mip.json\n",
      "https://raw.githubusercontent.com/PCMDI/input4MIPs_CVs/main/input4MIPs_tracking_id.json\n",
      "CPU times: user 77.2 ms, sys: 21.2 ms, total: 98.4 ms\n",
      "Wall time: 2.07 s\n"
     ]
    }
   ],
   "source": [
    "%%time\n",
    "# read input4mips_CVs\n",
    "rawPath = \"https://raw.githubusercontent.com/PCMDI/input4MIPs_CVs/main/\"\n",
    "CVList = [\"DRS\", \"activity_id\", \"dataset_category\", \"license\", \"mip_era\",\n",
    "          \"product\", \"required_global_attributes\", \"target_mip\", \"tracking_id\"]\n",
    "# loop through entries\n",
    "for count, cv in enumerate(CVList):\n",
    "    path = \"\".join([rawPath, \"input4MIPs_\", cv, \".json\"])\n",
    "    print(path)\n",
    "    js = requests.get(path)\n",
    "    vars()[cv] = json.loads(js.text)"
   ]
  },
  {
   "cell_type": "markdown",
   "id": "6c245c7e-af83-41c3-a1f1-fa0c5759043b",
   "metadata": {},
   "source": [
    "## create institution_id from source_id entries"
   ]
  },
  {
   "cell_type": "code",
   "execution_count": 14,
   "id": "04adc6fa-7554-4bf0-b089-5cf21a1f48b8",
   "metadata": {},
   "outputs": [],
   "source": [
    "# load data\n",
    "srcIdPath = \"../input4MIPs_source_id.json\"\n",
    "with open(srcIdPath, 'r') as fH:\n",
    "    js_srcId = json.load(fH)\n",
    "\n",
    "#js_srcId[\"source_id\"].keys()\n",
    "#js_srcId[\"source_id\"][\"ACCESS1-3-rcp85-1-0\"][\"institution_id\"]"
   ]
  },
  {
   "cell_type": "code",
   "execution_count": 25,
   "id": "96eff421-3156-4d8a-93f1-4230d5fc354d",
   "metadata": {},
   "outputs": [
    {
     "data": {
      "text/plain": [
       "['CCCma',\n",
       " 'CNRM-Cerfacs',\n",
       " 'IACETH',\n",
       " 'IAMC',\n",
       " 'ImperialCollege',\n",
       " 'MOHC',\n",
       " 'MPI-B',\n",
       " 'MPI-M',\n",
       " 'MRI',\n",
       " 'NASA-GSFC',\n",
       " 'NCAR',\n",
       " 'NCAS',\n",
       " 'PCMDI',\n",
       " 'PNNL-JGCRI',\n",
       " 'SOLARIS-HEPPA',\n",
       " 'UCI',\n",
       " 'UColorado',\n",
       " 'UReading',\n",
       " 'UoM',\n",
       " 'UofMD',\n",
       " 'VUA']"
      ]
     },
     "execution_count": 25,
     "metadata": {},
     "output_type": "execute_result"
    }
   ],
   "source": [
    "# iterate through and catch\n",
    "instId = []\n",
    "for count, key in enumerate(js_srcId[\"source_id\"].keys()):\n",
    "    instIdTmp = js_srcId[\"source_id\"][key][\"institution_id\"]\n",
    "    #print(count, key, instIdTmp)\n",
    "    if instIdTmp not in instId:\n",
    "        instId.append(instIdTmp)\n",
    "instId.sort()\n",
    "instId"
   ]
  },
  {
   "cell_type": "code",
   "execution_count": 26,
   "id": "f021bd79-56f2-47b6-81ef-2b139ca2239a",
   "metadata": {},
   "outputs": [],
   "source": [
    "# write to input4MIPs_institution_id.json\n",
    "tmp = {}\n",
    "tmp[\"institution_id\"] = instId\n",
    "# Write all out\n",
    "oF = \"../input4MIPs_institution_id.json\"\n",
    "if os.path.exists(oF):\n",
    "    os.remove(oF)\n",
    "fH = open(oF, \"w\")\n",
    "json.dump(tmp, fH, ensure_ascii=True, sort_keys=True, indent=4, separators=(\",\", \":\"),)\n",
    "fH.close()"
   ]
  },
  {
   "cell_type": "markdown",
   "id": "1db0640a-ff07-49c8-a2fa-89c97349093e",
   "metadata": {},
   "source": [
    "## create composite CV"
   ]
  },
  {
   "cell_type": "code",
   "execution_count": 41,
   "id": "986f38c4-02ee-49ef-8758-78f8a5928e66",
   "metadata": {},
   "outputs": [],
   "source": [
    "CVExportList = [\"activity_id\", \"dataset_category\", \"DRS\", \"institution_id\", \"license\", \"mip_era\",\n",
    "                \"product\", \"required_global_attributes\", \"source_id\", \"target_mip\", \"tracking_id\"]\n",
    "CVExportList.sort()\n",
    "\n",
    "# Collate all CVs in master\n",
    "tmp = {}\n",
    "tmp[\"CV\"] = {}\n",
    "for key in CVExportList:\n",
    "    fileName = \"\".join([\"input4MIPs_\", key, \".json\"])\n",
    "    filePath = os.path.join(\"..\", fileName)\n",
    "    #print(filePath)\n",
    "    with open(filePath,'r') as fH:\n",
    "        keyDict = json.load(fH)\n",
    "        tmp[\"CV\"][key] = keyDict[key]\n",
    "\n",
    "# Write collated CVs to file\n",
    "if not os.path.exists(\"../CVs\"):\n",
    "    os.makedirs(\"../CVs\")\n",
    "oF = \"../CVs/input4MIPs_CV.json\"\n",
    "if os.path.exists(oF):\n",
    "    os.remove(oF)\n",
    "fH = open(oF, \"w\")\n",
    "json.dump(tmp, fH, ensure_ascii=True, sort_keys=True, indent=4, separators=(\",\", \":\"),)\n",
    "fH.close()"
   ]
  },
  {
   "cell_type": "code",
   "execution_count": 34,
   "id": "679fcc3f-d284-45c4-948e-bd369987b7a2",
   "metadata": {},
   "outputs": [
    {
     "data": {
      "text/plain": [
       "dict_keys(['DRS', 'activity_id', 'dataset_category', 'institution_id', 'license', 'mip_era', 'product', 'required_global_attributes', 'source_id', 'target_mip', 'tracking_id'])"
      ]
     },
     "execution_count": 34,
     "metadata": {},
     "output_type": "execute_result"
    }
   ],
   "source": [
    "tmp[\"CV\"].keys()"
   ]
  }
 ],
 "metadata": {
  "kernelspec": {
   "display_name": "Python 3 (ipykernel)",
   "language": "python",
   "name": "python3"
  },
  "language_info": {
   "codemirror_mode": {
    "name": "ipython",
    "version": 3
   },
   "file_extension": ".py",
   "mimetype": "text/x-python",
   "name": "python",
   "nbconvert_exporter": "python",
   "pygments_lexer": "ipython3",
   "version": "3.12.4"
  }
 },
 "nbformat": 4,
 "nbformat_minor": 5
}
