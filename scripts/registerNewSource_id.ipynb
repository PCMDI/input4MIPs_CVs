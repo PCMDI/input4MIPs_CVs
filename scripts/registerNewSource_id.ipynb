{
 "cells": [
  {
   "cell_type": "markdown",
   "id": "511ba8aa-2975-49b2-a3a5-9d3b55852d95",
   "metadata": {},
   "source": [
    "# Register new input4MIPs source_id entry"
   ]
  },
  {
   "cell_type": "raw",
   "id": "cd56422d-f7fe-49bf-b15a-7363308fa55d",
   "metadata": {},
   "source": [
    "PJD 26 Jun 2025 - Restarted to use revised input4MIPs_source_id.json template"
   ]
  },
  {
   "cell_type": "markdown",
   "id": "5a8abe05-52e4-4b75-b777-8e2fc067f18a",
   "metadata": {},
   "source": [
    "## imports"
   ]
  },
  {
   "cell_type": "code",
   "execution_count": 1,
   "id": "30def1fb-3753-4414-bf13-69c86dd18b39",
   "metadata": {},
   "outputs": [
    {
     "name": "stdout",
     "output_type": "stream",
     "text": [
      "CPU times: user 37.2 ms, sys: 12 ms, total: 49.2 ms\n",
      "Wall time: 56 ms\n"
     ]
    }
   ],
   "source": [
    "%%time\n",
    "import json\n",
    "import os\n",
    "import requests\n",
    "from IPython.display import clear_output"
   ]
  },
  {
   "cell_type": "markdown",
   "id": "c19deb74-994c-49e0-b45c-f437286a5ae7",
   "metadata": {},
   "source": [
    "## get existing info"
   ]
  },
  {
   "cell_type": "code",
   "execution_count": 2,
   "id": "223ec2a1-c8d7-4a82-8cfa-529a021f3ca9",
   "metadata": {},
   "outputs": [
    {
     "name": "stdout",
     "output_type": "stream",
     "text": [
      "CPU times: user 3.98 ms, sys: 2.7 ms, total: 6.68 ms\n",
      "Wall time: 20.9 ms\n"
     ]
    }
   ],
   "source": [
    "%%time\n",
    "# read input4mips_cvs source_id\n",
    "# remote\n",
    "srcIdGithub = \"https://raw.githubusercontent.com/PCMDI/input4MIPs_CVs/refs/heads/main/CVs/input4MIPs_source_id.json\"\n",
    "js = requests.get(srcIdGithub)\n",
    "srcIds = json.loads(js.text)"
   ]
  },
  {
   "cell_type": "code",
   "execution_count": 3,
   "id": "52b80139-cafb-4f24-9fb8-2185ba6f1109",
   "metadata": {},
   "outputs": [
    {
     "name": "stdout",
     "output_type": "stream",
     "text": [
      "48\n",
      "dict_keys(['CEDS-CMIP-2024-07-08', 'CEDS-CMIP-2024-07-08-supplemental', 'CEDS-CMIP-2024-10-21', 'CEDS-CMIP-2024-10-21-supplemental', 'CEDS-CMIP-2024-11-25', 'CEDS-CMIP-2024-11-25-supplemental', 'CEDS-CMIP-2025-03-18', 'CEDS-CMIP-2025-03-18-supplemental', 'CEDS-CMIP-2025-04-18', 'CEDS-CMIP-2025-04-18-supplemental', 'CR-CMIP-0-2-0', 'CR-CMIP-0-3-0', 'CR-CMIP-0-4-0', 'CR-CMIP-1-0-0', 'DRES-CMIP-BB4CMIP7-1-0', 'DRES-CMIP-BB4CMIP7-2-0', 'DRES-CMIP-BB4CMIP7-2-1', 'ImperialCollege-3-0', 'MRI-JRA55-do-1-6-0', 'PCMDI-AMIP-1-1-9', 'PCMDI-AMIP-ERSST5-1-0', 'PCMDI-AMIP-Had1p1-1-0', 'PCMDI-AMIP-OI2p1-1-0', 'SOLARIS-HEPPA-CMIP-4-1', 'SOLARIS-HEPPA-CMIP-4-2', 'SOLARIS-HEPPA-CMIP-4-3', 'SOLARIS-HEPPA-CMIP-4-4', 'SOLARIS-HEPPA-CMIP-4-5', 'SOLARIS-HEPPA-CMIP-4-6', 'UCLA-1-0-1', 'UCLA-1-0-1-constant', 'UCLA-1-0-1-decreasing', 'UCLA-1-0-1-increasing', 'UCLA-1-0-2', 'UCLA-1-0-2-constant', 'UCLA-1-0-2-decreasing', 'UCLA-1-0-2-increasing', 'UOEXETER-CMIP-0-1-0', 'UOEXETER-CMIP-1-1-2', 'UOEXETER-CMIP-1-1-3', 'UOEXETER-CMIP-1-2-0', 'UOEXETER-CMIP-1-3-0', 'UOEXETER-CMIP-1-3-1', 'UOEXETER-CMIP-2-0-0', 'UOEXETER-CMIP-2-2-1', 'UofMD-landState-3-0', 'UofMD-landState-3-1', 'UofMD-landState-3-1-1'])\n"
     ]
    }
   ],
   "source": [
    "print(len(srcIds.keys()))\n",
    "print(srcIds.keys())"
   ]
  },
  {
   "cell_type": "markdown",
   "id": "25442a82-5a4d-4e93-bef3-8173551f698f",
   "metadata": {},
   "source": [
    "## create new entry (e.g., PIK-CMIP-1-0-0)"
   ]
  },
  {
   "cell_type": "code",
   "execution_count": 4,
   "id": "59a90844-3275-4a02-b49d-9e0e4e9d854f",
   "metadata": {},
   "outputs": [
    {
     "data": {
      "text/plain": [
       "{'activity_id': 'input4MIPs',\n",
       " 'authors': ([{'name': 'Dominik Paprotny',\n",
       "    'email': 'dominik.paprotny@pik-potsdam.de',\n",
       "    'affiliations': ['Research Department Transformation Pathways, Potsdam Institute for Climate Impact Research (PIK), Member of the Leibniz Association, Potsdam, Germany'],\n",
       "    'orcid': '0000-0001-5090-8402'},\n",
       "   {'name': 'Laurence Hawker',\n",
       "    'email': 'laurence.hawker@bristol.ac.uk',\n",
       "    'affiliations': ['School of Geographical Sciences, University of Bristol, Bristol, UK',\n",
       "     'WorldPop, University of Southampton, Southampton, UK'],\n",
       "    'orcid': '0000-0002-8317-7084'},\n",
       "   {'name': 'Maksym Bondarenko',\n",
       "    'email': 'M.Bondarenko@soton.ac.uk',\n",
       "    'affiliations': ['WorldPop, University of Southampton, Southampton, UK'],\n",
       "    'orcid': '0000-0003-4958-6551'},\n",
       "   {'name': 'Jason Hilton',\n",
       "    'email': 'J.D.Hilton@soton.ac.uk',\n",
       "    'affiliations': ['Department of Social Statistics and Demography, University of Southampton, UK'],\n",
       "    'orcid': '0000-0001-9473-757X'},\n",
       "   {'name': 'Natalia Tejedor Garavito',\n",
       "    'email': 'n.tejedor-garavito@soton.ac.uk',\n",
       "    'affiliations': ['WorldPop, University of Southampton, Southampton, UK'],\n",
       "    'orcid': '0000-0002-1140-6263'},\n",
       "   {'name': 'Evgeny Noi',\n",
       "    'email': 'evgeny.noi@bristol.ac.uk',\n",
       "    'affiliations': ['School of Geographical Sciences, University of Bristol, Bristol, UK',\n",
       "     'WorldPop, University of Southampton, Southampton, UK'],\n",
       "    'orcid': '0000-0002-7914-1548'},\n",
       "   {'name': 'Andrew Tatem',\n",
       "    'email': 'A.J.Tatem@soton.ac.uk',\n",
       "    'affiliations': ['WorldPop, University of Southampton, Southampton, UK'],\n",
       "    'orcid': '00000-0002-7270-941X'}],),\n",
       " 'contact': 'Dominik Paprotny (dominik.paprotny@pik-potsdam.de); Laurence Hawker (laurence.hawker@bristol.ac.uk)',\n",
       " 'dataset_category': 'populationDensity',\n",
       " 'further_info_url': 'https://github.com/HORIZON-COMPASS/Exposure-and-vulnerability-modelling',\n",
       " 'institution_id': 'PIK',\n",
       " 'license_id': 'CC BY 4.0',\n",
       " 'mip_era': 'CMIP7',\n",
       " 'source_version': '1.0.0'}"
      ]
     },
     "execution_count": 4,
     "metadata": {},
     "output_type": "execute_result"
    }
   ],
   "source": [
    "sourceId = \"PIK-CMIP-1-0-0\"\n",
    "srcId = {}\n",
    "srcId[\"activity_id\"] = \"input4MIPs\"\n",
    "srcId[\"authors\"] = (\n",
    "    [\n",
    "        {\n",
    "            \"name\": \"Dominik Paprotny\",\n",
    "            \"email\": \"dominik.paprotny@pik-potsdam.de\",\n",
    "            \"affiliations\": [\n",
    "                \"Research Department Transformation Pathways, Potsdam Institute for Climate Impact Research (PIK), Member of the Leibniz Association, Potsdam, Germany\"\n",
    "            ],\n",
    "            \"orcid\": \"0000-0001-5090-8402\",\n",
    "        },\n",
    "        {\n",
    "            \"name\": \"Laurence Hawker\",\n",
    "            \"email\": \"laurence.hawker@bristol.ac.uk\",\n",
    "            \"affiliations\": [\n",
    "                \"School of Geographical Sciences, University of Bristol, Bristol, UK\",\n",
    "                \"WorldPop, University of Southampton, Southampton, UK\",\n",
    "            ],\n",
    "            \"orcid\": \"0000-0002-8317-7084\",\n",
    "        },\n",
    "        {\n",
    "            \"name\": \"Maksym Bondarenko\",\n",
    "            \"email\": \"M.Bondarenko@soton.ac.uk\",\n",
    "            \"affiliations\": [\n",
    "                \"WorldPop, University of Southampton, Southampton, UK\",\n",
    "            ],\n",
    "            \"orcid\": \"0000-0003-4958-6551\",\n",
    "        },\n",
    "        {\n",
    "            \"name\": \"Jason Hilton\",\n",
    "            \"email\": \"J.D.Hilton@soton.ac.uk\",\n",
    "            \"affiliations\": [\n",
    "                \"Department of Social Statistics and Demography, University of Southampton, UK\",\n",
    "            ],\n",
    "            \"orcid\": \"0000-0001-9473-757X\",\n",
    "        },\n",
    "        {\n",
    "            \"name\": \"Natalia Tejedor Garavito\",\n",
    "            \"email\": \"n.tejedor-garavito@soton.ac.uk\",\n",
    "            \"affiliations\": [\n",
    "                \"WorldPop, University of Southampton, Southampton, UK\",\n",
    "            ],\n",
    "            \"orcid\": \"0000-0002-1140-6263\",\n",
    "        },\n",
    "        {\n",
    "            \"name\": \"Evgeny Noi\",\n",
    "            \"email\": \"evgeny.noi@bristol.ac.uk\",\n",
    "            \"affiliations\": [\n",
    "                \"School of Geographical Sciences, University of Bristol, Bristol, UK\",\n",
    "                \"WorldPop, University of Southampton, Southampton, UK\",\n",
    "            ],\n",
    "            \"orcid\": \"0000-0002-7914-1548\",\n",
    "        },\n",
    "        {\n",
    "            \"name\": \"Andrew Tatem\",\n",
    "            \"email\": \"A.J.Tatem@soton.ac.uk\",\n",
    "            \"affiliations\": [\n",
    "                \"WorldPop, University of Southampton, Southampton, UK\",\n",
    "            ],\n",
    "            \"orcid\": \"00000-0002-7270-941X\",\n",
    "        },\n",
    "    ],\n",
    ")\n",
    "srcId[\"contact\"] = (\n",
    "    \"Dominik Paprotny (dominik.paprotny@pik-potsdam.de); Laurence Hawker (laurence.hawker@bristol.ac.uk)\"\n",
    ")\n",
    "srcId[\"dataset_category\"] = \"populationDensity\"\n",
    "srcId[\"further_info_url\"] = (\n",
    "    \"https://github.com/HORIZON-COMPASS/Exposure-and-vulnerability-modelling\"\n",
    ")\n",
    "srcId[\"institution_id\"] = \"PIK\"\n",
    "srcId[\"license_id\"] = \"CC BY 4.0\"\n",
    "srcId[\"mip_era\"] = \"CMIP7\"\n",
    "srcId[\"source_version\"] = \"1.0.0\"\n",
    "# validate entry\n",
    "srcId"
   ]
  },
  {
   "cell_type": "markdown",
   "id": "da50deb4-b488-4877-9747-fe4b7147ecc1",
   "metadata": {},
   "source": [
    "## add back into master"
   ]
  },
  {
   "cell_type": "code",
   "execution_count": 5,
   "id": "3fc1d2c9-0b82-4696-b2cd-db2ecba770b7",
   "metadata": {},
   "outputs": [
    {
     "name": "stdout",
     "output_type": "stream",
     "text": [
      "PIK-CMIP-1-0-0\n"
     ]
    }
   ],
   "source": [
    "print(sourceId)\n",
    "srcIds[sourceId] = srcId"
   ]
  },
  {
   "cell_type": "markdown",
   "id": "3ea71049-34df-43de-8f79-ba01290deb27",
   "metadata": {},
   "source": [
    "## check for new key in new composite"
   ]
  },
  {
   "cell_type": "code",
   "execution_count": 6,
   "id": "2854d25a-accc-4ca7-9ec2-4848604ba491",
   "metadata": {},
   "outputs": [
    {
     "name": "stdout",
     "output_type": "stream",
     "text": [
      "49\n",
      "dict_keys(['CEDS-CMIP-2024-07-08', 'CEDS-CMIP-2024-07-08-supplemental', 'CEDS-CMIP-2024-10-21', 'CEDS-CMIP-2024-10-21-supplemental', 'CEDS-CMIP-2024-11-25', 'CEDS-CMIP-2024-11-25-supplemental', 'CEDS-CMIP-2025-03-18', 'CEDS-CMIP-2025-03-18-supplemental', 'CEDS-CMIP-2025-04-18', 'CEDS-CMIP-2025-04-18-supplemental', 'CR-CMIP-0-2-0', 'CR-CMIP-0-3-0', 'CR-CMIP-0-4-0', 'CR-CMIP-1-0-0', 'DRES-CMIP-BB4CMIP7-1-0', 'DRES-CMIP-BB4CMIP7-2-0', 'DRES-CMIP-BB4CMIP7-2-1', 'ImperialCollege-3-0', 'MRI-JRA55-do-1-6-0', 'PCMDI-AMIP-1-1-9', 'PCMDI-AMIP-ERSST5-1-0', 'PCMDI-AMIP-Had1p1-1-0', 'PCMDI-AMIP-OI2p1-1-0', 'SOLARIS-HEPPA-CMIP-4-1', 'SOLARIS-HEPPA-CMIP-4-2', 'SOLARIS-HEPPA-CMIP-4-3', 'SOLARIS-HEPPA-CMIP-4-4', 'SOLARIS-HEPPA-CMIP-4-5', 'SOLARIS-HEPPA-CMIP-4-6', 'UCLA-1-0-1', 'UCLA-1-0-1-constant', 'UCLA-1-0-1-decreasing', 'UCLA-1-0-1-increasing', 'UCLA-1-0-2', 'UCLA-1-0-2-constant', 'UCLA-1-0-2-decreasing', 'UCLA-1-0-2-increasing', 'UOEXETER-CMIP-0-1-0', 'UOEXETER-CMIP-1-1-2', 'UOEXETER-CMIP-1-1-3', 'UOEXETER-CMIP-1-2-0', 'UOEXETER-CMIP-1-3-0', 'UOEXETER-CMIP-1-3-1', 'UOEXETER-CMIP-2-0-0', 'UOEXETER-CMIP-2-2-1', 'UofMD-landState-3-0', 'UofMD-landState-3-1', 'UofMD-landState-3-1-1', 'PIK-CMIP-1-0-0'])\n"
     ]
    }
   ],
   "source": [
    "print(len(srcIds.keys()))\n",
    "print(srcIds.keys())"
   ]
  },
  {
   "cell_type": "markdown",
   "id": "ec517caa-1a61-4fee-b41d-bab12b060e1f",
   "metadata": {},
   "source": [
    "## update file"
   ]
  },
  {
   "cell_type": "code",
   "execution_count": 7,
   "id": "80cbd9ca-0fca-4e88-884d-1d1dae1ea82d",
   "metadata": {},
   "outputs": [
    {
     "name": "stdout",
     "output_type": "stream",
     "text": [
      "/Users/durack1/sync/git/input4MIPs_CVs/scripts\n"
     ]
    }
   ],
   "source": [
    "print(os.getcwd())\n",
    "destFile = \"../CVs/input4MIPs_source_id.json\"\n",
    "if os.path.exists(destFile):\n",
    "    os.remove(destFile)\n",
    "with open(destFile, 'w') as fH:\n",
    "    json.dump(srcIds, fH, ensure_ascii=True, sort_keys=True, indent=4, separators=(\",\", \":\"))"
   ]
  }
 ],
 "metadata": {
  "kernelspec": {
   "display_name": "Python 3 (ipykernel)",
   "language": "python",
   "name": "python3"
  },
  "language_info": {
   "codemirror_mode": {
    "name": "ipython",
    "version": 3
   },
   "file_extension": ".py",
   "mimetype": "text/x-python",
   "name": "python",
   "nbconvert_exporter": "python",
   "pygments_lexer": "ipython3",
   "version": "3.13.3"
  }
 },
 "nbformat": 4,
 "nbformat_minor": 5
}
