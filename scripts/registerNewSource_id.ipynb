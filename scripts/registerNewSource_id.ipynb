{
 "cells": [
  {
   "cell_type": "markdown",
   "id": "511ba8aa-2975-49b2-a3a5-9d3b55852d95",
   "metadata": {},
   "source": [
    "# Register new input4MIPs source_id entry"
   ]
  },
  {
   "cell_type": "raw",
   "id": "cd56422d-f7fe-49bf-b15a-7363308fa55d",
   "metadata": {
    "vscode": {
     "languageId": "raw"
    }
   },
   "source": [
    "PJD 26 Jun 2025 - Restarted to use revised input4MIPs_source_id.json template\n",
    "PJD 26 Jun 2025 - Registered PIK-CMIP-1-0-0\n",
    "PJD  5 Aug 2025 - Registered PCMDI-AMIP-1-1-10\n",
    "PJD  5 Aug 2025 - Fix dataset_category type for PCMDI-AMIP-1-1-10, PIK-CMIP-1-0-0"
   ]
  },
  {
   "cell_type": "markdown",
   "id": "5a8abe05-52e4-4b75-b777-8e2fc067f18a",
   "metadata": {},
   "source": [
    "## imports"
   ]
  },
  {
   "cell_type": "code",
   "execution_count": 1,
   "id": "30def1fb-3753-4414-bf13-69c86dd18b39",
   "metadata": {},
   "outputs": [
    {
     "name": "stdout",
     "output_type": "stream",
     "text": [
      "CPU times: user 31.6 ms, sys: 14.2 ms, total: 45.8 ms\n",
      "Wall time: 84.6 ms\n"
     ]
    }
   ],
   "source": [
    "%%time\n",
    "import json\n",
    "import os\n",
    "import requests\n",
    "from IPython.display import clear_output"
   ]
  },
  {
   "cell_type": "markdown",
   "id": "c19deb74-994c-49e0-b45c-f437286a5ae7",
   "metadata": {},
   "source": [
    "## get existing info"
   ]
  },
  {
   "cell_type": "code",
   "execution_count": 2,
   "id": "223ec2a1-c8d7-4a82-8cfa-529a021f3ca9",
   "metadata": {},
   "outputs": [
    {
     "name": "stdout",
     "output_type": "stream",
     "text": [
      "CPU times: user 6.49 ms, sys: 5.13 ms, total: 11.6 ms\n",
      "Wall time: 201 ms\n"
     ]
    }
   ],
   "source": [
    "%%time\n",
    "# read input4mips_cvs source_id\n",
    "# remote\n",
    "srcIdGithub = \"https://raw.githubusercontent.com/PCMDI/input4MIPs_CVs/refs/heads/main/CVs/input4MIPs_source_id.json\"\n",
    "js = requests.get(srcIdGithub)\n",
    "srcIds = json.loads(js.text)"
   ]
  },
  {
   "cell_type": "code",
   "execution_count": 3,
   "id": "52b80139-cafb-4f24-9fb8-2185ba6f1109",
   "metadata": {},
   "outputs": [
    {
     "name": "stdout",
     "output_type": "stream",
     "text": [
      "49\n",
      "dict_keys(['CEDS-CMIP-2024-07-08', 'CEDS-CMIP-2024-07-08-supplemental', 'CEDS-CMIP-2024-10-21', 'CEDS-CMIP-2024-10-21-supplemental', 'CEDS-CMIP-2024-11-25', 'CEDS-CMIP-2024-11-25-supplemental', 'CEDS-CMIP-2025-03-18', 'CEDS-CMIP-2025-03-18-supplemental', 'CEDS-CMIP-2025-04-18', 'CEDS-CMIP-2025-04-18-supplemental', 'CR-CMIP-0-2-0', 'CR-CMIP-0-3-0', 'CR-CMIP-0-4-0', 'CR-CMIP-1-0-0', 'DRES-CMIP-BB4CMIP7-1-0', 'DRES-CMIP-BB4CMIP7-2-0', 'DRES-CMIP-BB4CMIP7-2-1', 'ImperialCollege-3-0', 'MRI-JRA55-do-1-6-0', 'PCMDI-AMIP-1-1-9', 'PCMDI-AMIP-ERSST5-1-0', 'PCMDI-AMIP-Had1p1-1-0', 'PCMDI-AMIP-OI2p1-1-0', 'PIK-CMIP-1-0-0', 'SOLARIS-HEPPA-CMIP-4-1', 'SOLARIS-HEPPA-CMIP-4-2', 'SOLARIS-HEPPA-CMIP-4-3', 'SOLARIS-HEPPA-CMIP-4-4', 'SOLARIS-HEPPA-CMIP-4-5', 'SOLARIS-HEPPA-CMIP-4-6', 'UCLA-1-0-1', 'UCLA-1-0-1-constant', 'UCLA-1-0-1-decreasing', 'UCLA-1-0-1-increasing', 'UCLA-1-0-2', 'UCLA-1-0-2-constant', 'UCLA-1-0-2-decreasing', 'UCLA-1-0-2-increasing', 'UOEXETER-CMIP-0-1-0', 'UOEXETER-CMIP-1-1-2', 'UOEXETER-CMIP-1-1-3', 'UOEXETER-CMIP-1-2-0', 'UOEXETER-CMIP-1-3-0', 'UOEXETER-CMIP-1-3-1', 'UOEXETER-CMIP-2-0-0', 'UOEXETER-CMIP-2-2-1', 'UofMD-landState-3-0', 'UofMD-landState-3-1', 'UofMD-landState-3-1-1'])\n"
     ]
    }
   ],
   "source": [
    "print(len(srcIds.keys()))\n",
    "print(srcIds.keys())"
   ]
  },
  {
   "cell_type": "markdown",
   "id": "25442a82-5a4d-4e93-bef3-8173551f698f",
   "metadata": {},
   "source": [
    "## create new entry (e.g., PCMDI-AMIP-1-1-10)"
   ]
  },
  {
   "cell_type": "code",
   "execution_count": 4,
   "id": "59a90844-3275-4a02-b49d-9e0e4e9d854f",
   "metadata": {},
   "outputs": [],
   "source": [
    "sourceId = \"PCMDI-AMIP-1-1-10\"\n",
    "srcId = {}\n",
    "srcId[\"activity_id\"] = \"input4MIPs\"\n",
    "srcId[\"authors\"] = (\n",
    "    [\n",
    "        {\n",
    "            \"name\": \"Paul J. Durack\",\n",
    "            \"email\": \"durack1@llnl.gov; pauldurack@gmail.com\",\n",
    "            \"affiliations\": [\n",
    "                \"PCMDI, Lawrence Livermore National Laboratory (LLNL), Livermore, CA 94550, USA\"\n",
    "            ],\n",
    "            \"orcid\": \"0000-0003-2835-1438\",\n",
    "        },\n",
    "        {\n",
    "            \"name\": \"Karl E. Taylor\",\n",
    "            \"email\": \"taylor13@llnl.gov\",\n",
    "            \"affiliations\": [\n",
    "                \"PCMDI, Lawrence Livermore National Laboratory (LLNL), Livermore, CA 94550, USA\"\n",
    "            ],\n",
    "            \"orcid\": \"0000-0002-6491-2135\",\n",
    "        },\n",
    "        {\n",
    "            \"name\": \"Sasha K. Ames\",\n",
    "            \"email\": \"ames4@llnl.gov\",\n",
    "            \"affiliations\": [\n",
    "                \"PCMDI, Lawrence Livermore National Laboratory (LLNL), Livermore, CA 94550, USA\"\n",
    "            ],\n",
    "            \"orcid\": \"0000-0001-9981-2997\",\n",
    "        },\n",
    "        {\n",
    "            \"name\": \"Stephen Po-Chedley\",\n",
    "            \"email\": \"pochedley1@llnl.gov\",\n",
    "            \"affiliations\": [\n",
    "                \"PCMDI, Lawrence Livermore National Laboratory (LLNL), Livermore, CA 94550, USA\"\n",
    "            ],\n",
    "            \"orcid\": \"0000-0002-0390-238X\",\n",
    "        },\n",
    "        {\n",
    "            \"name\": \"Chris Mauzey\",\n",
    "            \"email\": \"mauzey1@llnl.gov\",\n",
    "            \"affiliations\": [\n",
    "                \"PCMDI, Lawrence Livermore National Laboratory (LLNL), Livermore, CA 94550, USA\"\n",
    "            ],\n",
    "            \"orcid\": \"0000-0003-1156-6774\",\n",
    "        },\n",
    "    ],\n",
    ")\n",
    "srcId[\"contact\"] = (\n",
    "    \"Paul J. Durack (durack1@llnl.gov); Karl E. Taylor (taylor13@llnl.gov); PCMDI (pcmdi-cmip@llnl.gov)\"\n",
    ")\n",
    "srcId[\"dataset_category\"] = [\"SSTsAndSeaIce\"]\n",
    "srcId[\"further_info_url\"] = (\n",
    "    \"https://pcmdi.llnl.gov/mips/amip; https://github.com/PCMDI/amipbcs\"\n",
    ")\n",
    "srcId[\"institution_id\"] = \"PCMDI\"\n",
    "srcId[\"license_id\"] = \"CC BY 4.0\"\n",
    "srcId[\"mip_era\"] = \"CMIP7\"\n",
    "srcId[\"source_version\"] = \"1.1.10\"\n",
    "# validate entry\n",
    "srcId\n",
    "# Fix PIK-CMIP-1-0-0 dataset_category type\n",
    "srcIds[\"PIK-CMIP-1-0-0\"][\"dataset_category\"] = [\"population\"]"
   ]
  },
  {
   "cell_type": "markdown",
   "id": "da50deb4-b488-4877-9747-fe4b7147ecc1",
   "metadata": {},
   "source": [
    "## add back into master"
   ]
  },
  {
   "cell_type": "code",
   "execution_count": 5,
   "id": "3fc1d2c9-0b82-4696-b2cd-db2ecba770b7",
   "metadata": {},
   "outputs": [
    {
     "name": "stdout",
     "output_type": "stream",
     "text": [
      "PCMDI-AMIP-1-1-10\n"
     ]
    }
   ],
   "source": [
    "print(sourceId)\n",
    "srcIds[sourceId] = srcId"
   ]
  },
  {
   "cell_type": "markdown",
   "id": "3ea71049-34df-43de-8f79-ba01290deb27",
   "metadata": {},
   "source": [
    "## check for new key in new composite"
   ]
  },
  {
   "cell_type": "code",
   "execution_count": 6,
   "id": "2854d25a-accc-4ca7-9ec2-4848604ba491",
   "metadata": {},
   "outputs": [
    {
     "name": "stdout",
     "output_type": "stream",
     "text": [
      "50\n",
      "00 CEDS-CMIP-2024-07-08\n",
      "01 CEDS-CMIP-2024-07-08-supplemental\n",
      "02 CEDS-CMIP-2024-10-21\n",
      "03 CEDS-CMIP-2024-10-21-supplemental\n",
      "04 CEDS-CMIP-2024-11-25\n",
      "05 CEDS-CMIP-2024-11-25-supplemental\n",
      "06 CEDS-CMIP-2025-03-18\n",
      "07 CEDS-CMIP-2025-03-18-supplemental\n",
      "08 CEDS-CMIP-2025-04-18\n",
      "09 CEDS-CMIP-2025-04-18-supplemental\n",
      "10 CR-CMIP-0-2-0\n",
      "11 CR-CMIP-0-3-0\n",
      "12 CR-CMIP-0-4-0\n",
      "13 CR-CMIP-1-0-0\n",
      "14 DRES-CMIP-BB4CMIP7-1-0\n",
      "15 DRES-CMIP-BB4CMIP7-2-0\n",
      "16 DRES-CMIP-BB4CMIP7-2-1\n",
      "17 ImperialCollege-3-0\n",
      "18 MRI-JRA55-do-1-6-0\n",
      "19 PCMDI-AMIP-1-1-9\n",
      "20 PCMDI-AMIP-ERSST5-1-0\n",
      "21 PCMDI-AMIP-Had1p1-1-0\n",
      "22 PCMDI-AMIP-OI2p1-1-0\n",
      "23 PIK-CMIP-1-0-0\n",
      "24 SOLARIS-HEPPA-CMIP-4-1\n",
      "25 SOLARIS-HEPPA-CMIP-4-2\n",
      "26 SOLARIS-HEPPA-CMIP-4-3\n",
      "27 SOLARIS-HEPPA-CMIP-4-4\n",
      "28 SOLARIS-HEPPA-CMIP-4-5\n",
      "29 SOLARIS-HEPPA-CMIP-4-6\n",
      "30 UCLA-1-0-1\n",
      "31 UCLA-1-0-1-constant\n",
      "32 UCLA-1-0-1-decreasing\n",
      "33 UCLA-1-0-1-increasing\n",
      "34 UCLA-1-0-2\n",
      "35 UCLA-1-0-2-constant\n",
      "36 UCLA-1-0-2-decreasing\n",
      "37 UCLA-1-0-2-increasing\n",
      "38 UOEXETER-CMIP-0-1-0\n",
      "39 UOEXETER-CMIP-1-1-2\n",
      "40 UOEXETER-CMIP-1-1-3\n",
      "41 UOEXETER-CMIP-1-2-0\n",
      "42 UOEXETER-CMIP-1-3-0\n",
      "43 UOEXETER-CMIP-1-3-1\n",
      "44 UOEXETER-CMIP-2-0-0\n",
      "45 UOEXETER-CMIP-2-2-1\n",
      "46 UofMD-landState-3-0\n",
      "47 UofMD-landState-3-1\n",
      "48 UofMD-landState-3-1-1\n",
      "49 PCMDI-AMIP-1-1-10\n"
     ]
    }
   ],
   "source": [
    "print(len(srcIds.keys()))\n",
    "for count, key in enumerate(srcIds):\n",
    "    print(\"{:02d}\".format(count), key)"
   ]
  },
  {
   "cell_type": "markdown",
   "id": "ec517caa-1a61-4fee-b41d-bab12b060e1f",
   "metadata": {},
   "source": [
    "## update file"
   ]
  },
  {
   "cell_type": "code",
   "execution_count": 7,
   "id": "80cbd9ca-0fca-4e88-884d-1d1dae1ea82d",
   "metadata": {},
   "outputs": [
    {
     "name": "stdout",
     "output_type": "stream",
     "text": [
      "/Users/durack1/sync/git/input4MIPs_CVs/scripts\n"
     ]
    }
   ],
   "source": [
    "print(os.getcwd())\n",
    "destFile = \"../CVs/input4MIPs_source_id.json\"\n",
    "if os.path.exists(destFile):\n",
    "    os.remove(destFile)\n",
    "with open(destFile, \"w\") as fH:\n",
    "    json.dump(\n",
    "        srcIds, fH, ensure_ascii=True, sort_keys=True, indent=4, separators=(\",\", \":\")\n",
    "    )"
   ]
  }
 ],
 "metadata": {
  "kernelspec": {
   "display_name": "cmor3110xcd091",
   "language": "python",
   "name": "python3"
  },
  "language_info": {
   "codemirror_mode": {
    "name": "ipython",
    "version": 3
   },
   "file_extension": ".py",
   "mimetype": "text/x-python",
   "name": "python",
   "nbconvert_exporter": "python",
   "pygments_lexer": "ipython3",
   "version": "3.13.5"
  }
 },
 "nbformat": 4,
 "nbformat_minor": 5
}
