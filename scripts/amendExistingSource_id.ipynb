{
 "cells": [
  {
   "cell_type": "markdown",
   "id": "511ba8aa-2975-49b2-a3a5-9d3b55852d95",
   "metadata": {},
   "source": [
    "# Revise existing input4MIPs source_id entry"
   ]
  },
  {
   "cell_type": "raw",
   "id": "cd56422d-f7fe-49bf-b15a-7363308fa55d",
   "metadata": {
    "vscode": {
     "languageId": "raw"
    }
   },
   "source": [
    "PJD 11 Aug 2025 - copied registerNewSource_id.ipynb and reused\n",
    "PJD 11 Aug 2025 - cleanup PCMDI-AMIP-1-1-9 entry"
   ]
  },
  {
   "cell_type": "markdown",
   "id": "5a8abe05-52e4-4b75-b777-8e2fc067f18a",
   "metadata": {},
   "source": [
    "## imports"
   ]
  },
  {
   "cell_type": "code",
   "execution_count": 1,
   "id": "30def1fb-3753-4414-bf13-69c86dd18b39",
   "metadata": {},
   "outputs": [
    {
     "name": "stdout",
     "output_type": "stream",
     "text": [
      "CPU times: user 34.2 ms, sys: 24.2 ms, total: 58.5 ms\n",
      "Wall time: 74.8 ms\n"
     ]
    }
   ],
   "source": [
    "%%time\n",
    "import json\n",
    "import os\n",
    "import requests\n",
    "from IPython.display import clear_output"
   ]
  },
  {
   "cell_type": "markdown",
   "id": "c19deb74-994c-49e0-b45c-f437286a5ae7",
   "metadata": {},
   "source": [
    "## get existing info"
   ]
  },
  {
   "cell_type": "code",
   "execution_count": 2,
   "id": "223ec2a1-c8d7-4a82-8cfa-529a021f3ca9",
   "metadata": {},
   "outputs": [
    {
     "name": "stdout",
     "output_type": "stream",
     "text": [
      "CPU times: user 9.9 ms, sys: 10.9 ms, total: 20.8 ms\n",
      "Wall time: 251 ms\n"
     ]
    }
   ],
   "source": [
    "%%time\n",
    "# read input4mips_cvs source_id\n",
    "# remote\n",
    "srcIdGithub = \"https://raw.githubusercontent.com/PCMDI/input4MIPs_CVs/refs/heads/main/CVs/input4MIPs_source_id.json\"\n",
    "js = requests.get(srcIdGithub)\n",
    "srcIds = json.loads(js.text)"
   ]
  },
  {
   "cell_type": "code",
   "execution_count": 3,
   "id": "52b80139-cafb-4f24-9fb8-2185ba6f1109",
   "metadata": {},
   "outputs": [
    {
     "name": "stdout",
     "output_type": "stream",
     "text": [
      "50\n",
      "dict_keys(['CEDS-CMIP-2024-07-08', 'CEDS-CMIP-2024-07-08-supplemental', 'CEDS-CMIP-2024-10-21', 'CEDS-CMIP-2024-10-21-supplemental', 'CEDS-CMIP-2024-11-25', 'CEDS-CMIP-2024-11-25-supplemental', 'CEDS-CMIP-2025-03-18', 'CEDS-CMIP-2025-03-18-supplemental', 'CEDS-CMIP-2025-04-18', 'CEDS-CMIP-2025-04-18-supplemental', 'CR-CMIP-0-2-0', 'CR-CMIP-0-3-0', 'CR-CMIP-0-4-0', 'CR-CMIP-1-0-0', 'DRES-CMIP-BB4CMIP7-1-0', 'DRES-CMIP-BB4CMIP7-2-0', 'DRES-CMIP-BB4CMIP7-2-1', 'ImperialCollege-3-0', 'MRI-JRA55-do-1-6-0', 'PCMDI-AMIP-1-1-10', 'PCMDI-AMIP-1-1-9', 'PCMDI-AMIP-ERSST5-1-0', 'PCMDI-AMIP-Had1p1-1-0', 'PCMDI-AMIP-OI2p1-1-0', 'PIK-CMIP-1-0-0', 'SOLARIS-HEPPA-CMIP-4-1', 'SOLARIS-HEPPA-CMIP-4-2', 'SOLARIS-HEPPA-CMIP-4-3', 'SOLARIS-HEPPA-CMIP-4-4', 'SOLARIS-HEPPA-CMIP-4-5', 'SOLARIS-HEPPA-CMIP-4-6', 'UCLA-1-0-1', 'UCLA-1-0-1-constant', 'UCLA-1-0-1-decreasing', 'UCLA-1-0-1-increasing', 'UCLA-1-0-2', 'UCLA-1-0-2-constant', 'UCLA-1-0-2-decreasing', 'UCLA-1-0-2-increasing', 'UOEXETER-CMIP-0-1-0', 'UOEXETER-CMIP-1-1-2', 'UOEXETER-CMIP-1-1-3', 'UOEXETER-CMIP-1-2-0', 'UOEXETER-CMIP-1-3-0', 'UOEXETER-CMIP-1-3-1', 'UOEXETER-CMIP-2-0-0', 'UOEXETER-CMIP-2-2-1', 'UofMD-landState-3-0', 'UofMD-landState-3-1', 'UofMD-landState-3-1-1'])\n"
     ]
    }
   ],
   "source": [
    "print(len(srcIds.keys()))\n",
    "print(srcIds.keys())"
   ]
  },
  {
   "cell_type": "markdown",
   "id": "25442a82-5a4d-4e93-bef3-8173551f698f",
   "metadata": {},
   "source": [
    "## amend existing entries (e.g., PCMDI-AMIP-ERSST5-1-0)"
   ]
  },
  {
   "cell_type": "code",
   "execution_count": 4,
   "id": "59a90844-3275-4a02-b49d-9e0e4e9d854f",
   "metadata": {},
   "outputs": [],
   "source": [
    "sourceIds = [\"PCMDI-AMIP-ERSST5-1-0\", \"PCMDI-AMIP-Had1p1-1-0\", \"PCMDI-AMIP-OI2p1-1-0\"]\n",
    "for count, srcId in enumerate(sourceIds):\n",
    "    # update fields\n",
    "    srcIds[srcId][\"authors\"] = [\n",
    "        {\n",
    "            \"name\": \"Paul J. Durack\",\n",
    "            \"email\": \"durack1@llnl.gov; pauldurack@gmail.com\",\n",
    "            \"affiliations\": [\n",
    "                \"PCMDI, Lawrence Livermore National Laboratory (LLNL), Livermore, CA 94550, USA\"\n",
    "            ],\n",
    "            \"orcid\": \"0000-0003-2835-1438\",\n",
    "        },\n",
    "        {\n",
    "            \"name\": \"Mark D. Zelinka\",\n",
    "            \"email\": \"zelinka1@llnl.gov\",\n",
    "            \"affiliations\": [\n",
    "                \"PCMDI, Lawrence Livermore National Laboratory (LLNL), Livermore, CA 94550, USA\"\n",
    "            ],\n",
    "            \"orcid\": \"0000-0002-6570-5445\",\n",
    "        },\n",
    "        {\n",
    "            \"name\": \"Karl E. Taylor\",\n",
    "            \"email\": \"taylor13@llnl.gov\",\n",
    "            \"affiliations\": [\n",
    "                \"PCMDI, Lawrence Livermore National Laboratory (LLNL), Livermore, CA 94550, USA\"\n",
    "            ],\n",
    "            \"orcid\": \"0000-0002-6491-2135\",\n",
    "        },\n",
    "    ]\n",
    "    srcIds[srcId][\n",
    "        \"contact\"\n",
    "    ] = \"Paul J. Durack (durack1@llnl.gov; pauldurack@gmail.com); Mark D. Zelinka (zelinka1@llnl.gov); PCMDI (pcmdi-cmip@llnl.gov)\"\n",
    "    srcIds[srcId][\"dataset_category\"] = [\"SSTsAndSeaIce\"]\n",
    "    srcIds[srcId][\"further_info_url\"] = \"https://pcmdi.llnl.gov/mips/amip\"\n",
    "    srcIds[srcId][\"institution_id\"] = \"PCMDI\"\n",
    "    srcIds[srcId][\"license_id\"] = \"CC BY 4.0\"\n",
    "    srcIds[srcId][\"mip_era\"] = \"CMIP7Plus\"\n",
    "    srcIds[srcId][\"source_version\"] = \"1.0\"\n",
    "\n",
    "    # validate entry\n",
    "    srcIds[srcId]\n",
    "\n",
    "# Amend other entries\n",
    "sourceIds = [\"PCMDI-AMIP-1-1-9\", \"PCMDI-AMIP-1-1-10\"]\n",
    "for count, srcId in enumerate(sourceIds):\n",
    "    # update fields\n",
    "    srcIds[srcId][\n",
    "        \"contact\"\n",
    "    ] = \"Paul J. Durack (durack1@llnl.gov; pauldurack@gmail.com); Karl E. Taylor (taylor13@llnl.gov); PCMDI (pcmdi-cmip@llnl.gov)\"\n",
    "\n",
    "# Update PCMDI-AMIP-1-1-9 with correct authors\n",
    "srcIds[\"PCMDI-AMIP-1-1-9\"][\"authors\"] = srcIds[\"PCMDI-AMIP-1-1-10\"][\"authors\"]"
   ]
  },
  {
   "cell_type": "markdown",
   "id": "ec517caa-1a61-4fee-b41d-bab12b060e1f",
   "metadata": {},
   "source": [
    "## update file"
   ]
  },
  {
   "cell_type": "code",
   "execution_count": 5,
   "id": "80cbd9ca-0fca-4e88-884d-1d1dae1ea82d",
   "metadata": {},
   "outputs": [
    {
     "name": "stdout",
     "output_type": "stream",
     "text": [
      "/Users/durack1/sync/git/input4MIPs_CVs/scripts\n"
     ]
    }
   ],
   "source": [
    "print(os.getcwd())\n",
    "destFile = \"../CVs/input4MIPs_source_id.json\"\n",
    "if os.path.exists(destFile):\n",
    "    os.remove(destFile)\n",
    "with open(destFile, \"w\") as fH:\n",
    "    json.dump(\n",
    "        srcIds, fH, ensure_ascii=True, sort_keys=True, indent=4, separators=(\",\", \":\")\n",
    "    )"
   ]
  }
 ],
 "metadata": {
  "kernelspec": {
   "display_name": "Python 3 (ipykernel)",
   "language": "python",
   "name": "python3"
  },
  "language_info": {
   "codemirror_mode": {
    "name": "ipython",
    "version": 3
   },
   "file_extension": ".py",
   "mimetype": "text/x-python",
   "name": "python",
   "nbconvert_exporter": "python",
   "pygments_lexer": "ipython3",
   "version": "3.13.5"
  }
 },
 "nbformat": 4,
 "nbformat_minor": 5
}
