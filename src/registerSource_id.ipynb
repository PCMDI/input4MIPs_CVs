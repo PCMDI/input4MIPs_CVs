{
 "cells": [
  {
   "cell_type": "markdown",
   "id": "49e51c5f-6b73-4688-a52c-54748b11fc7d",
   "metadata": {},
   "source": [
    "# Register new input4MIPs source_id entry"
   ]
  },
  {
   "cell_type": "raw",
   "id": "636e50ac-04ee-4867-94fc-9e28be62ada2",
   "metadata": {},
   "source": [
    "PJD  1 Jul 2024 - Started using new source_id template\n",
    "PJD  2 Jul 2024 - Updating with new entries\n",
    "PJD  2 Jul 2024 - Add missing \"license\" in stdDict"
   ]
  },
  {
   "cell_type": "raw",
   "id": "6ff92b50-2250-4946-aa11-4a0067aff2c2",
   "metadata": {
    "jupyter": {
     "source_hidden": true
    }
   },
   "source": [
    "# working template\n",
    "\"PCMDI-AMIP-1-1-9\":{\n",
    "    \"contact\":\"PCMDI (pcmdi-cmip@llnl.gov)\",\n",
    "    \"dataset_category\":\"SSTsAndSeaIce\",\n",
    "    \"datetime_start\":\"1870-01-16\",\n",
    "    \"datetime_stop\":null,\n",
    "    \"frequency\":\"mon\",\n",
    "    \"further_info_url\":\"https://pcmdi.llnl.gov/mips/amip\",\n",
    "    \"grid_label\":\"gn\",\n",
    "    \"institution_id\":\"PCMDI\",\n",
    "    \"license\":\"CC BY 4.0\",\n",
    "    \"mip_era\":\"CMIP6Plus\",\n",
    "    \"nominal_resolution\":\"1x1 degree\",\n",
    "    \"realm\":\"seaIce\",\n",
    "    \"region\":[\n",
    "        \"global_ocean\"\n",
    "    ],\n",
    "    \"source\":\"PCMDI-AMIP 1.1.9: Merged SST based on UK MetOffice HadISST and NCEP OI2\",\n",
    "    \"source_id\":\"PCMDI-AMIP-1-1-9\",\n",
    "    \"source_version\":\"1.1.9\",\n",
    "    \"target_mip\":\"CMIP\",\n",
    "    \"title\":\"PCMDI-AMIP 1.1.9 dataset prepared for input4MIPs\",\n",
    "    \"|dataProviderExtra\":{\n",
    "        \"source_variables\":[\n",
    "            \"areacello\",\n",
    "            \"sftof\",\n",
    "            \"siconc\",\n",
    "            \"siconcbcs\",\n",
    "            \"tos\",\n",
    "            \"tosbcs\"\n",
    "        ]\n",
    "    },\n",
    "    \"|dataProviderFile\":{\n",
    "        \"Conventions\":\"CF-1.7 CMIP-6.2\",\n",
    "        \"creation_date\":\"2023-05-12T13:45:24Z\",\n",
    "        \"tracking_id\":null\n",
    "    },\n",
    "    \"|esgfIndex\":{\n",
    "        \"_timestamp\":\"2023-05-12T14:48:25.282Z\",\n",
    "        \"data_node\":\"esgf-data2.llnl.gov\",\n",
    "        \"latest\":true,\n",
    "        \"replica\":false,\n",
    "        \"version\":\"20230512\",\n",
    "        \"xlink\":\"http://cera-www.dkrz.de/WDCC/meta/CMIP6/input4MIPs.CMIP6Plus.CMIP.PCMDI.PCMDI-AMIP-1-1-9.seaIce.mon.siconc.gn.v20230512.json|Citation|citation\"\n",
    "    }\n",
    "},"
   ]
  },
  {
   "cell_type": "markdown",
   "id": "3144d01c-e8da-4073-b501-897801e00b81",
   "metadata": {},
   "source": [
    "## imports"
   ]
  },
  {
   "cell_type": "code",
   "execution_count": 103,
   "id": "e8e04310-dd0f-4900-9903-b4dcc6f8f9f8",
   "metadata": {},
   "outputs": [
    {
     "name": "stdout",
     "output_type": "stream",
     "text": [
      "CPU times: user 11 μs, sys: 1e+03 ns, total: 12 μs\n",
      "Wall time: 15 μs\n"
     ]
    }
   ],
   "source": [
    "%%time\n",
    "import json\n",
    "import os\n",
    "import requests\n",
    "from IPython.display import clear_output"
   ]
  },
  {
   "cell_type": "markdown",
   "id": "04f2fd3a-ba48-4514-ab2b-8a943bb9ee28",
   "metadata": {},
   "source": [
    "## function defs"
   ]
  },
  {
   "cell_type": "code",
   "execution_count": 104,
   "id": "776826bd-f567-44e5-ac7c-aee5d38933ee",
   "metadata": {
    "jupyter": {
     "source_hidden": true
    }
   },
   "outputs": [],
   "source": [
    "def make_srcId(keyId, stdDict, dataProviderDict, dataProviderFileDict):\n",
    "    '''\n",
    "    Generate source_id from user-provided inputs\n",
    "    '''\n",
    "    srcId = {}\n",
    "    srcId[keyId] = {}\n",
    "    # standard keys\n",
    "    stdKeys = [\"_status\",\"contact\", \"dataset_category\", \"datetime_start\",\n",
    "               \"datetime_stop\", \"frequency\", \"further_info_url\",\n",
    "               \"grid_label\", \"institution_id\", \"license\", \"mip_era\",\n",
    "               \"nominal_resolution\", \"realm\", \"source\",\n",
    "               \"source_id\", \"source_version\", \"target_mip\"]\n",
    "    # fill standard entries\n",
    "    for cnt, key in enumerate(stdKeys):\n",
    "        srcId[keyId][key] = stdDict[key]\n",
    "    # data provider extra keys\n",
    "    dataProviderExtraKeys = dataProviderDict.keys()\n",
    "    srcId[keyId][\"|dataProviderExtra\"] = {}\n",
    "    # fill data provider extra entries\n",
    "    for key in dataProviderExtraKeys:\n",
    "        srcId[keyId][\"|dataProviderExtra\"][key] = dataProviderDict[key]\n",
    "    # data provider file keys\n",
    "    dataProviderFileKeys = [\"Conventions\", \"creation_date\", \"tracking_id\"]\n",
    "    srcId[keyId][\"|dataProviderFile\"] = {}\n",
    "    # fill data provider file entries\n",
    "    for key in dataProviderFileKeys:\n",
    "        srcId[keyId][\"|dataProviderFile\"][key] = dataProviderFileDict[key]\n",
    "    # ESGF default entries (once data is published)\n",
    "    esgfKeys = [\"_timestamp\", \"data_node\", \"latest\", \"replica\",\n",
    "                \"version\", \"xlink\"]\n",
    "    srcId[keyId][\"|esgfIndex\"] = {}\n",
    "    # fill ESGF entries\n",
    "    for key in esgfKeys:\n",
    "        srcId[keyId][\"|esgfIndex\"][key] = \"\"\n",
    "\n",
    "    return srcId\n",
    "\n"
   ]
  },
  {
   "cell_type": "markdown",
   "id": "72b18763-2be5-49eb-8388-963036d2c138",
   "metadata": {},
   "source": [
    "## Data provider to complete form entries below"
   ]
  },
  {
   "cell_type": "code",
   "execution_count": 107,
   "id": "e8c81dc8-252f-46bc-9011-d55aa456daf2",
   "metadata": {},
   "outputs": [
    {
     "name": "stdout",
     "output_type": "stream",
     "text": [
      "PCMDI-AMIP-Had1p1-1-0\n"
     ]
    }
   ],
   "source": [
    "stdDict = {}\n",
    "\n",
    "# required keys\n",
    "# PCMDI-AMIP-ERSST5-1-0\n",
    "stdDict[\"_status\"] = \"Registered\"\n",
    "stdDict[\"contact\"] = \"zelinka1@llnl.gov; durack1@llnl.gov\"\n",
    "stdDict[\"dataset_category\"] = \"SSTsAndSeaIce\"\n",
    "stdDict[\"datetime_start\"] = \"1979-01-16\"\n",
    "stdDict[\"datetime_stop\"] = \"2024-06-16\"\n",
    "stdDict[\"frequency\"] = \"mon\"\n",
    "stdDict[\"further_info_url\"] = \"https://pcmdi.llnl.gov/mips/amip\"\n",
    "stdDict[\"grid_label\"] = \"gn\"\n",
    "stdDict[\"institution_id\"] = \"PCMDI\"\n",
    "stdDict[\"license\"] = \"CC BY 4.0\"\n",
    "stdDict[\"mip_era\"] = \"CMIP6Plus\"\n",
    "stdDict[\"nominal_resolution\"] = \"1x1 degree\"\n",
    "stdDict[\"realm\"] = \"ocean\"\n",
    "stdDict[\"region\"] = [\"global_ocean\"]\n",
    "stdDict[\"source\"] = \" \".join([\"PCMDI-AMIP ERSST5 1.0: SST based on NOAA ERSST 5.0\"])\n",
    "stdDict[\"source_id\"] = \"PCMDI-AMIP-ERSST5-1-0\"\n",
    "print(stdDict[\"source_id\"])\n",
    "stdDict[\"source_version\"] = \"1.0\"\n",
    "stdDict[\"target_mip\"] = \"Prototype\"\n",
    "stdDict[\"title\"] = \"PCMDI-AMIP ERSST5 1.0 prototype dataset prepared for input4MIPs\"\n",
    "\n",
    "# optional entries\n",
    "# dataProviderExtra\n",
    "dataProviderDict = {}\n",
    "dataProviderDict[\"source_variables\"] = [\"tos\", \"tosbcs\"]\n",
    "dataProviderDict[\"comment\"] = \" \".join([\"Prototype dataset for the evaluation of SST forcing\",\n",
    "                                        \"uncertainty over the satellite era - not for production use\"])\n",
    "dataProviderDict[\"data_usage_tips\"] = \" \".join([\"This dataset has been generated for evaluation\",\n",
    "                                                \"purposes only - not for production use in CMIP7\",\n",
    "                                                \"simulations\"])\n",
    "dataProviderDict[\"grid\"] = \"0.25x0.25 degree latitude x longitude\"\n",
    "\n",
    "# dataProviderFile\n",
    "dataProviderFileDict = {}\n",
    "dataProviderFileDict[\"Conventions\"] = \"CF-1.7\"\n",
    "dataProviderFileDict[\"creation_date\"] = \"\"\n",
    "dataProviderFileDict[\"tracking_id\"] = \"\"\n",
    "\n",
    "# call function to populate\n",
    "newId = make_srcId(stdDict[\"source_id\"], stdDict, dataProviderDict, dataProviderFileDict)"
   ]
  },
  {
   "cell_type": "code",
   "execution_count": 108,
   "id": "7f3f584f-3d6f-439f-8cc5-9fb6603395e5",
   "metadata": {},
   "outputs": [
    {
     "data": {
      "text/plain": [
       "{'PCMDI-AMIP-Had1p1-1-0': {'_status': 'Registered',\n",
       "  'contact': 'zelinka1@llnl.gov; durack1@llnl.gov',\n",
       "  'dataset_category': 'SSTsAndSeaIce',\n",
       "  'datetime_start': '1979-01-16',\n",
       "  'datetime_stop': '2024-06-16',\n",
       "  'frequency': 'mon',\n",
       "  'further_info_url': 'https://pcmdi.llnl.gov/mips/amip',\n",
       "  'grid_label': 'gn',\n",
       "  'institution_id': 'PCMDI',\n",
       "  'license': 'CC BY 4.0',\n",
       "  'mip_era': 'CMIP6Plus',\n",
       "  'nominal_resolution': '1x1 degree',\n",
       "  'realm': 'ocean',\n",
       "  'source': 'PCMDI-AMIP Had-1.1 1.0: SST based on UK MetOffice HadISST 1.1',\n",
       "  'source_id': 'PCMDI-AMIP-Had1p1-1-0',\n",
       "  'source_version': '1.0',\n",
       "  'target_mip': 'Prototype',\n",
       "  '|dataProviderExtra': {'source_variables': ['tos', 'tosbcs'],\n",
       "   'comment': 'Prototype dataset for the evaluation of SST forcing uncertainty over the satellite era - not for production use',\n",
       "   'data_usage_tips': 'This dataset has been generated for evaluation purposes only - not for production use in CMIP7 simulations',\n",
       "   'grid': '0.25x0.25 degree latitude x longitude'},\n",
       "  '|dataProviderFile': {'Conventions': 'CF-1.7',\n",
       "   'creation_date': '',\n",
       "   'tracking_id': ''},\n",
       "  '|esgfIndex': {'_timestamp': '',\n",
       "   'data_node': '',\n",
       "   'latest': '',\n",
       "   'replica': '',\n",
       "   'version': '',\n",
       "   'xlink': ''}}}"
      ]
     },
     "execution_count": 108,
     "metadata": {},
     "output_type": "execute_result"
    }
   ],
   "source": [
    "newId"
   ]
  },
  {
   "cell_type": "markdown",
   "id": "df78753f-8f8b-490c-9719-7ebbe2ca2e7e",
   "metadata": {},
   "source": [
    "## sync with repo - input4MIPs_source_id.json (and DRES input4MIPs_institution_id.json)"
   ]
  },
  {
   "cell_type": "code",
   "execution_count": 112,
   "id": "b58189a2-5a81-488f-a206-d1318d168a1f",
   "metadata": {},
   "outputs": [
    {
     "name": "stdout",
     "output_type": "stream",
     "text": [
      "CPU times: user 15.1 ms, sys: 4.46 ms, total: 19.6 ms\n",
      "Wall time: 19.9 ms\n"
     ]
    }
   ],
   "source": [
    "%%time\n",
    "# read input4mips_cvs source_id\n",
    "# remote\n",
    "#srcIdGithub = \"https://raw.githubusercontent.com/PCMDI/input4MIPs_CVs/main/input4MIPs_source_id.json\"\n",
    "#js = requests.get(srcIdGithub)\n",
    "#srcIds = json.loads(js)\n",
    "# local\n",
    "srcIdGithub = \"../input4MIPs_source_id.json\"\n",
    "with open(srcIdGithub, 'r') as f:\n",
    "    srcIds = json.load(f)\n",
    "\n",
    "# add new source_id\n",
    "srcIds[\"source_id\"][stdDict[\"source_id\"]] = {}\n",
    "srcIds[\"source_id\"][stdDict[\"source_id\"]] = newId[stdDict[\"source_id\"]]\n",
    "\n",
    "# Write all out\n",
    "oF = \"../input4MIPs_source_id.json\"\n",
    "if os.path.exists(oF):\n",
    "    os.remove(oF)\n",
    "fH = open(oF, \"w\")\n",
    "json.dump(srcIds, fH, ensure_ascii=True, sort_keys=True, indent=4, separators=(\",\", \":\"),)\n",
    "fH.close()"
   ]
  },
  {
   "cell_type": "code",
   "execution_count": null,
   "id": "b828af9c-d742-47e9-9664-8e20a468a21c",
   "metadata": {},
   "outputs": [],
   "source": []
  }
 ],
 "metadata": {
  "kernelspec": {
   "display_name": "Python 3 (ipykernel)",
   "language": "python",
   "name": "python3"
  },
  "language_info": {
   "codemirror_mode": {
    "name": "ipython",
    "version": 3
   },
   "file_extension": ".py",
   "mimetype": "text/x-python",
   "name": "python",
   "nbconvert_exporter": "python",
   "pygments_lexer": "ipython3",
   "version": "3.12.4"
  }
 },
 "nbformat": 4,
 "nbformat_minor": 5
}
