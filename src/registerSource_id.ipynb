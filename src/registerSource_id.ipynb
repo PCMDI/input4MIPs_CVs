{
 "cells": [
  {
   "cell_type": "markdown",
   "id": "49e51c5f-6b73-4688-a52c-54748b11fc7d",
   "metadata": {},
   "source": [
    "# Register new input4MIPs source_id entry"
   ]
  },
  {
   "cell_type": "raw",
   "id": "636e50ac-04ee-4867-94fc-9e28be62ada2",
   "metadata": {},
   "source": [
    "PJD  1 Jul 2024 - Started using new source_id template\n",
    "PJD  2 Jul 2024 - Updating with new entries\n",
    "PJD  2 Jul 2024 - Add missing \"license\" in stdDict\n",
    "PJD  2 Jul 2024 - Add missing \"region\" in stdDict"
   ]
  },
  {
   "cell_type": "raw",
   "id": "6ff92b50-2250-4946-aa11-4a0067aff2c2",
   "metadata": {
    "jupyter": {
     "source_hidden": true
    }
   },
   "source": [
    "# working template\n",
    "\"PCMDI-AMIP-1-1-9\":{\n",
    "    \"contact\":\"PCMDI (pcmdi-cmip@llnl.gov)\",\n",
    "    \"dataset_category\":\"SSTsAndSeaIce\",\n",
    "    \"datetime_start\":\"1870-01-16\",\n",
    "    \"datetime_stop\":null,\n",
    "    \"frequency\":\"mon\",\n",
    "    \"further_info_url\":\"https://pcmdi.llnl.gov/mips/amip\",\n",
    "    \"grid_label\":\"gn\",\n",
    "    \"institution_id\":\"PCMDI\",\n",
    "    \"license\":\"CC BY 4.0\",\n",
    "    \"mip_era\":\"CMIP6Plus\",\n",
    "    \"nominal_resolution\":\"1x1 degree\",\n",
    "    \"realm\":\"seaIce\",\n",
    "    \"region\":[\n",
    "        \"global_ocean\"\n",
    "    ],\n",
    "    \"source\":\"PCMDI-AMIP 1.1.9: Merged SST based on UK MetOffice HadISST and NCEP OI2\",\n",
    "    \"source_id\":\"PCMDI-AMIP-1-1-9\",\n",
    "    \"source_version\":\"1.1.9\",\n",
    "    \"target_mip\":\"CMIP\",\n",
    "    \"title\":\"PCMDI-AMIP 1.1.9 dataset prepared for input4MIPs\",\n",
    "    \"|dataProviderExtra\":{\n",
    "        \"source_variables\":[\n",
    "            \"areacello\",\n",
    "            \"sftof\",\n",
    "            \"siconc\",\n",
    "            \"siconcbcs\",\n",
    "            \"tos\",\n",
    "            \"tosbcs\"\n",
    "        ]\n",
    "    },\n",
    "    \"|dataProviderFile\":{\n",
    "        \"Conventions\":\"CF-1.7 CMIP-6.2\",\n",
    "        \"creation_date\":\"2023-05-12T13:45:24Z\",\n",
    "        \"tracking_id\":null\n",
    "    },\n",
    "    \"|esgfIndex\":{\n",
    "        \"_timestamp\":\"2023-05-12T14:48:25.282Z\",\n",
    "        \"data_node\":\"esgf-data2.llnl.gov\",\n",
    "        \"latest\":true,\n",
    "        \"replica\":false,\n",
    "        \"version\":\"20230512\",\n",
    "        \"xlink\":\"http://cera-www.dkrz.de/WDCC/meta/CMIP6/input4MIPs.CMIP6Plus.CMIP.PCMDI.PCMDI-AMIP-1-1-9.seaIce.mon.siconc.gn.v20230512.json|Citation|citation\"\n",
    "    }\n",
    "},"
   ]
  },
  {
   "cell_type": "markdown",
   "id": "3144d01c-e8da-4073-b501-897801e00b81",
   "metadata": {},
   "source": [
    "## imports"
   ]
  },
  {
   "cell_type": "code",
   "execution_count": 134,
   "id": "e8e04310-dd0f-4900-9903-b4dcc6f8f9f8",
   "metadata": {},
   "outputs": [
    {
     "name": "stdout",
     "output_type": "stream",
     "text": [
      "CPU times: user 10 μs, sys: 1e+03 ns, total: 11 μs\n",
      "Wall time: 14.1 μs\n"
     ]
    }
   ],
   "source": [
    "%%time\n",
    "import json\n",
    "import os\n",
    "import requests\n",
    "from IPython.display import clear_output"
   ]
  },
  {
   "cell_type": "markdown",
   "id": "04f2fd3a-ba48-4514-ab2b-8a943bb9ee28",
   "metadata": {},
   "source": [
    "## function defs"
   ]
  },
  {
   "cell_type": "code",
   "execution_count": 135,
   "id": "776826bd-f567-44e5-ac7c-aee5d38933ee",
   "metadata": {},
   "outputs": [],
   "source": [
    "def make_srcId(keyId, stdDict, dataProviderDict, dataProviderFileDict):\n",
    "    '''\n",
    "    Generate source_id from user-provided inputs\n",
    "    '''\n",
    "    srcId = {}\n",
    "    srcId[keyId] = {}\n",
    "    # standard keys\n",
    "    stdKeys = [\"_status\",\"contact\", \"dataset_category\", \"datetime_start\",\n",
    "               \"datetime_stop\", \"frequency\", \"further_info_url\",\n",
    "               \"grid_label\", \"institution_id\", \"license\", \"mip_era\",\n",
    "               \"nominal_resolution\", \"realm\", \"region\", \"source\",\n",
    "               \"source_id\", \"source_version\", \"target_mip\"]\n",
    "    # fill standard entries\n",
    "    for cnt, key in enumerate(stdKeys):\n",
    "        srcId[keyId][key] = stdDict[key]\n",
    "    # data provider extra keys\n",
    "    dataProviderExtraKeys = dataProviderDict.keys()\n",
    "    srcId[keyId][\"|dataProviderExtra\"] = {}\n",
    "    # fill data provider extra entries\n",
    "    for key in dataProviderExtraKeys:\n",
    "        srcId[keyId][\"|dataProviderExtra\"][key] = dataProviderDict[key]\n",
    "    # data provider file keys\n",
    "    dataProviderFileKeys = [\"Conventions\", \"creation_date\", \"tracking_id\"]\n",
    "    srcId[keyId][\"|dataProviderFile\"] = {}\n",
    "    # fill data provider file entries\n",
    "    for key in dataProviderFileKeys:\n",
    "        srcId[keyId][\"|dataProviderFile\"][key] = dataProviderFileDict[key]\n",
    "    # ESGF default entries (once data is published)\n",
    "    esgfKeys = [\"_timestamp\", \"data_node\", \"latest\", \"replica\",\n",
    "                \"version\", \"xlink\"]\n",
    "    srcId[keyId][\"|esgfIndex\"] = {}\n",
    "    # fill ESGF entries\n",
    "    for key in esgfKeys:\n",
    "        srcId[keyId][\"|esgfIndex\"][key] = \"\"\n",
    "\n",
    "    return srcId\n",
    "\n"
   ]
  },
  {
   "cell_type": "markdown",
   "id": "72b18763-2be5-49eb-8388-963036d2c138",
   "metadata": {},
   "source": [
    "## Data provider to complete form entries below"
   ]
  },
  {
   "cell_type": "code",
   "execution_count": 136,
   "id": "e8c81dc8-252f-46bc-9011-d55aa456daf2",
   "metadata": {},
   "outputs": [
    {
     "name": "stdout",
     "output_type": "stream",
     "text": [
      "SOLARIS-HEPPA-CMIP-4-1\n"
     ]
    }
   ],
   "source": [
    "stdDict = {}\n",
    "# required keys\n",
    "# SOLARIS-HEPPA-CMIP-4-1\n",
    "stdDict[\"_status\"] = \"Registered\"\n",
    "stdDict[\"contact\"] = \"bernd@iaa.es\"\n",
    "stdDict[\"dataset_category\"] = \"solar\"\n",
    "stdDict[\"datetime_start\"] = \"1850-01-01\"\n",
    "stdDict[\"datetime_stop\"] = \"2023-12-31\"\n",
    "stdDict[\"frequency\"] = [\"day\", \"mon\", \"yr\"]\n",
    "stdDict[\"further_info_url\"] = \"http://solarisheppa.geomar.de/cmip7\"\n",
    "stdDict[\"grid_label\"] = \"gn\"\n",
    "stdDict[\"institution_id\"] = \"SOLARIS-HEPPA\"\n",
    "stdDict[\"license\"] = \"CC BY 4.0\"\n",
    "stdDict[\"mip_era\"] = \"CMIP6Plus\"\n",
    "stdDict[\"nominal_resolution\"] = \"250 km\"\n",
    "stdDict[\"realm\"] = \"atmos\"\n",
    "stdDict[\"region\"] = [\"global\"]\n",
    "stdDict[\"source\"] = \" \".join([\"SOLARIS-HEPPA CMIP 4.1 solar forcing based on SSI,\",\n",
    "                              \"TSI, and F10.7 from ssi_v03r00_preliminary\",\n",
    "                              \"(Odele Coddington et al., pers. comm.); Ap and Kp\",\n",
    "                              \"from ftp.ngdc.noaa.gov until 2014, afterwards from\",\n",
    "                              \"GFZ Potsdam (https://kp.gfz-potsdam.de), P-IPR from\",\n",
    "                              \"SEP-II (Ilya Usoskin et al., pers. comm.), MEE-IPR\",\n",
    "                              \"from FMI APEEP v2024b_cmip7 (Max van de Kamp et al.,\",\n",
    "                              \"pers. comm.), GCR-IPR from CRII v2024-02 (Ilya\",\n",
    "                              \"Usoskin et al., pers. comm.)\"])\n",
    "stdDict[\"source_id\"] = \"SOLARIS-HEPPA-CMIP-4-1\"\n",
    "print(stdDict[\"source_id\"])\n",
    "stdDict[\"source_version\"] = \"4.1\"\n",
    "stdDict[\"target_mip\"] = \"CMIP\"\n",
    "stdDict[\"title\"] = \"SOLARIS-HEPPA 4.1 CMIP7 solar forcing\"\n",
    "\n",
    "# optional entries\n",
    "# dataProviderExtra\n",
    "dataProviderDict = {}\n",
    "dataProviderDict[\"source_variables\"] = [\"multiple\"]\n",
    "dataProviderDict[\"metadata_url\"] = \"\".join([\"see http://solarisheppa.geomar.de/solarisheppa/\",\n",
    "                                            \"sites/default/files/data/cmip7/CMIP7_metadata_\",\n",
    "                                            \"description_4.1.pdf\"])\n",
    "dataProviderDict[\"contributor_names\"] = \" \".join([\"Bernd Funke, Timo Asikainen, Stefan Bender,\",\n",
    "                                                  \"Odele Coddington, Thierry Dudok de Wit,\",\n",
    "                                                  \"Illaria Ermolli, Margit Haberreiter,\",\n",
    "                                                  \"Doug Kinnison, Judith Lean,\",\n",
    "                                                  \"Sergey Koldoboskiy, Daniel R. Marsh,\",\n",
    "                                                  \"Hilde Nesse, Annika Seppaelae,\",\n",
    "                                                  \"Miriam Sinnhuber, Ilya Usoskin,\",\n",
    "                                                  \"Max van de Kamp, Pekka T. Verronen\"])\n",
    "dataProviderDict[\"reference\"] = \" \".join([\n",
    "    \"Funke et al., 2024: Towards the definition of a solar forcing dataset for CMIP7,\",\n",
    "    \"Geosci. Model Dev., 17 (3), pp 1217--1227. doi: https://doi.org/10.5194/gmd-17-1217-2024\"])\n",
    "\n",
    "# dataProviderFile\n",
    "dataProviderFileDict = {}\n",
    "dataProviderFileDict[\"Conventions\"] = \"CF-1.6\"\n",
    "dataProviderFileDict[\"creation_date\"] = \"\"\n",
    "dataProviderFileDict[\"tracking_id\"] = \"\"\n",
    "\n",
    "# call function to populate\n",
    "newId = make_srcId(stdDict[\"source_id\"], stdDict, dataProviderDict, dataProviderFileDict)"
   ]
  },
  {
   "cell_type": "code",
   "execution_count": 137,
   "id": "7f3f584f-3d6f-439f-8cc5-9fb6603395e5",
   "metadata": {
    "collapsed": true,
    "jupyter": {
     "outputs_hidden": true
    },
    "scrolled": true
   },
   "outputs": [
    {
     "data": {
      "text/plain": [
       "{'SOLARIS-HEPPA-CMIP-4-1': {'_status': 'Registered',\n",
       "  'contact': 'bernd@iaa.es',\n",
       "  'dataset_category': 'solar',\n",
       "  'datetime_start': '1850-01-01',\n",
       "  'datetime_stop': '2023-12-31',\n",
       "  'frequency': ['day', 'mon', 'yr'],\n",
       "  'further_info_url': 'http://solarisheppa.geomar.de/cmip7',\n",
       "  'grid_label': 'gn',\n",
       "  'institution_id': 'SOLARIS-HEPPA',\n",
       "  'license': 'CC BY 4.0',\n",
       "  'mip_era': 'CMIP6Plus',\n",
       "  'nominal_resolution': '250 km',\n",
       "  'realm': 'atmos',\n",
       "  'region': ['global'],\n",
       "  'source': 'SOLARIS-HEPPA CMIP 4.1 solar forcing based on SSI, TSI, and F10.7 from ssi_v03r00_preliminary (Odele Coddington et al., pers. comm.); Ap and Kp from ftp.ngdc.noaa.gov until 2014, afterwards from GFZ Potsdam (https://kp.gfz-potsdam.de), P-IPR from SEP-II (Ilya Usoskin et al., pers. comm.), MEE-IPR from FMI APEEP v2024b_cmip7 (Max van de Kamp et al., pers. comm.), GCR-IPR from CRII v2024-02 (Ilya Usoskin et al., pers. comm.)',\n",
       "  'source_id': 'SOLARIS-HEPPA-CMIP-4-1',\n",
       "  'source_version': '4.1',\n",
       "  'target_mip': 'CMIP',\n",
       "  '|dataProviderExtra': {'source_variables': ['multiple'],\n",
       "   'metadata_url': 'see http://solarisheppa.geomar.de/solarisheppa/sites/default/files/data/cmip7/CMIP7_metadata_description_4.1.pdf',\n",
       "   'contributor_names': 'Bernd Funke, Timo Asikainen, Stefan Bender, Odele Coddington, Thierry Dudok de Wit, Illaria Ermolli, Margit Haberreiter, Doug Kinnison, Judith Lean, Sergey Koldoboskiy, Daniel R. Marsh, Hilde Nesse, Annika Seppaelae, Miriam Sinnhuber, Ilya Usoskin, Max van de Kamp, Pekka T. Verronen',\n",
       "   'reference': 'Funke et al., 2024: Towards the definition of a solar forcing dataset for CMIP7, Geosci. Model Dev., 17 (3), pp 1217--1227. doi: https://doi.org/10.5194/gmd-17-1217-2024'},\n",
       "  '|dataProviderFile': {'Conventions': 'CF-1.6',\n",
       "   'creation_date': '',\n",
       "   'tracking_id': ''},\n",
       "  '|esgfIndex': {'_timestamp': '',\n",
       "   'data_node': '',\n",
       "   'latest': '',\n",
       "   'replica': '',\n",
       "   'version': '',\n",
       "   'xlink': ''}}}"
      ]
     },
     "execution_count": 137,
     "metadata": {},
     "output_type": "execute_result"
    }
   ],
   "source": [
    "newId"
   ]
  },
  {
   "cell_type": "markdown",
   "id": "df78753f-8f8b-490c-9719-7ebbe2ca2e7e",
   "metadata": {},
   "source": [
    "## sync with repo - input4MIPs_source_id.json (and DRES input4MIPs_institution_id.json)"
   ]
  },
  {
   "cell_type": "code",
   "execution_count": 143,
   "id": "b58189a2-5a81-488f-a206-d1318d168a1f",
   "metadata": {},
   "outputs": [
    {
     "name": "stdout",
     "output_type": "stream",
     "text": [
      "CPU times: user 31.3 ms, sys: 7.89 ms, total: 39.2 ms\n",
      "Wall time: 249 ms\n"
     ]
    }
   ],
   "source": [
    "%%time\n",
    "# read input4mips_cvs source_id\n",
    "# remote\n",
    "srcIdGithub = \"https://raw.githubusercontent.com/PCMDI/input4MIPs_CVs/main/input4MIPs_source_id.json\"\n",
    "js = requests.get(srcIdGithub)\n",
    "srcIds = json.loads(js.text)\n",
    "# local\n",
    "#srcIdGithub = \"../input4MIPs_source_id.json\"\n",
    "#with open(srcIdGithub, 'r') as f:\n",
    "#    srcIds = json.load(f)\n",
    "\n",
    "# add new source_id\n",
    "#srcIds[\"source_id\"][stdDict[\"source_id\"]] = {}\n",
    "#srcIds[\"source_id\"][stdDict[\"source_id\"]] = newId[stdDict[\"source_id\"]]\n",
    "\n",
    "# fix inconsistent fields\n",
    "for srcId in [\"VUA-CMIP-BB4CMIP6-1-0\", \"VUA-CMIP-BB4CMIP6-1-1\", \"VUA-CMIP-BB4CMIP6-1-2\"]:\n",
    "    srcIds[\"source_id\"][srcId][\"contact\"] = \"guido.vander.werf@vu.nl; m.j.e.van.marle@vu.nl\"\n",
    "    srcIds[\"source_id\"][srcId][\"region\"] = [\"global\"]\n",
    "    srcIds[\"source_id\"][srcId][\"source\"] = \" \".join([\"Global fire emissions from 1750 through 2015\",\n",
    "                                                     \"based on GFED4s, FireMIP, visibility-observations\",\n",
    "                                                     \"and GCD data. Data sources differ per region and year\"])\n",
    "    srcIds[\"source_id\"][srcId][\"|dataProviderExtra\"][\"source_variables\"] = [\"multiple\"]\n",
    "\n",
    "# Write all out\n",
    "oF = \"../input4MIPs_source_id.json\"\n",
    "if os.path.exists(oF):\n",
    "    os.remove(oF)\n",
    "fH = open(oF, \"w\")\n",
    "json.dump(srcIds, fH, ensure_ascii=True, sort_keys=True, indent=4, separators=(\",\", \":\"),)\n",
    "fH.close()"
   ]
  },
  {
   "cell_type": "code",
   "execution_count": null,
   "id": "79d91479-95e2-41a8-ac17-afe6663a29bb",
   "metadata": {},
   "outputs": [],
   "source": []
  }
 ],
 "metadata": {
  "kernelspec": {
   "display_name": "Python 3 (ipykernel)",
   "language": "python",
   "name": "python3"
  },
  "language_info": {
   "codemirror_mode": {
    "name": "ipython",
    "version": 3
   },
   "file_extension": ".py",
   "mimetype": "text/x-python",
   "name": "python",
   "nbconvert_exporter": "python",
   "pygments_lexer": "ipython3",
   "version": "3.12.4"
  }
 },
 "nbformat": 4,
 "nbformat_minor": 5
}
