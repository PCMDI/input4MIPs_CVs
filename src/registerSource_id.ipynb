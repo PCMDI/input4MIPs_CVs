{
 "cells": [
  {
   "cell_type": "markdown",
   "id": "49e51c5f-6b73-4688-a52c-54748b11fc7d",
   "metadata": {},
   "source": [
    "# Register new input4MIPs source_id entry"
   ]
  },
  {
   "cell_type": "raw",
   "id": "636e50ac-04ee-4867-94fc-9e28be62ada2",
   "metadata": {},
   "source": [
    "PJD  1 Jul 2024 - Started using new source_id template"
   ]
  },
  {
   "cell_type": "raw",
   "id": "6ff92b50-2250-4946-aa11-4a0067aff2c2",
   "metadata": {
    "jupyter": {
     "source_hidden": true
    }
   },
   "source": [
    "# working template\n",
    "\"PCMDI-AMIP-1-1-9\":{\n",
    "    \"contact\":\"PCMDI (pcmdi-cmip@llnl.gov)\",\n",
    "    \"dataset_category\":\"SSTsAndSeaIce\",\n",
    "    \"datetime_start\":\"1870-01-16\",\n",
    "    \"datetime_stop\":null,\n",
    "    \"frequency\":\"mon\",\n",
    "    \"further_info_url\":\"https://pcmdi.llnl.gov/mips/amip\",\n",
    "    \"grid_label\":\"gn\",\n",
    "    \"institution_id\":\"PCMDI\",\n",
    "    \"license\":\"CC BY 4.0\",\n",
    "    \"mip_era\":\"CMIP6Plus\",\n",
    "    \"nominal_resolution\":\"1x1 degree\",\n",
    "    \"realm\":\"seaIce\",\n",
    "    \"region\":[\n",
    "        \"global_ocean\"\n",
    "    ],\n",
    "    \"source\":\"PCMDI-AMIP 1.1.9: Merged SST based on UK MetOffice HadISST and NCEP OI2\",\n",
    "    \"source_id\":\"PCMDI-AMIP-1-1-9\",\n",
    "    \"source_version\":\"1.1.9\",\n",
    "    \"target_mip\":\"CMIP\",\n",
    "    \"title\":\"PCMDI-AMIP 1.1.9 dataset prepared for input4MIPs\",\n",
    "    \"|dataProviderExtra\":{\n",
    "        \"source_variables\":[\n",
    "            \"areacello\",\n",
    "            \"sftof\",\n",
    "            \"siconc\",\n",
    "            \"siconcbcs\",\n",
    "            \"tos\",\n",
    "            \"tosbcs\"\n",
    "        ]\n",
    "    },\n",
    "    \"|dataProviderFile\":{\n",
    "        \"Conventions\":\"CF-1.7 CMIP-6.2\",\n",
    "        \"creation_date\":\"2023-05-12T13:45:24Z\",\n",
    "        \"tracking_id\":null\n",
    "    },\n",
    "    \"|esgfIndex\":{\n",
    "        \"_timestamp\":\"2023-05-12T14:48:25.282Z\",\n",
    "        \"data_node\":\"esgf-data2.llnl.gov\",\n",
    "        \"latest\":true,\n",
    "        \"replica\":false,\n",
    "        \"version\":\"20230512\",\n",
    "        \"xlink\":\"http://cera-www.dkrz.de/WDCC/meta/CMIP6/input4MIPs.CMIP6Plus.CMIP.PCMDI.PCMDI-AMIP-1-1-9.seaIce.mon.siconc.gn.v20230512.json|Citation|citation\"\n",
    "    }\n",
    "},"
   ]
  },
  {
   "cell_type": "markdown",
   "id": "3144d01c-e8da-4073-b501-897801e00b81",
   "metadata": {},
   "source": [
    "## imports"
   ]
  },
  {
   "cell_type": "code",
   "execution_count": 1,
   "id": "e8e04310-dd0f-4900-9903-b4dcc6f8f9f8",
   "metadata": {},
   "outputs": [
    {
     "name": "stdout",
     "output_type": "stream",
     "text": [
      "CPU times: user 32.4 ms, sys: 16 ms, total: 48.5 ms\n",
      "Wall time: 69.9 ms\n"
     ]
    }
   ],
   "source": [
    "%%time\n",
    "import json\n",
    "import os\n",
    "import requests\n",
    "from IPython.display import clear_output"
   ]
  },
  {
   "cell_type": "markdown",
   "id": "04f2fd3a-ba48-4514-ab2b-8a943bb9ee28",
   "metadata": {},
   "source": [
    "## function defs"
   ]
  },
  {
   "cell_type": "code",
   "execution_count": 42,
   "id": "776826bd-f567-44e5-ac7c-aee5d38933ee",
   "metadata": {},
   "outputs": [],
   "source": [
    "def make_srcId(keyId, stdDict, dataProviderDict, dataProviderFileDict):\n",
    "    '''\n",
    "    Generate source_id from user-provided inputs\n",
    "    '''\n",
    "    srcId = {}\n",
    "    srcId[keyId] = {}\n",
    "    # standard keys\n",
    "    stdKeys = [\"_status\",\"contact\", \"dataset_category\", \"datetime_start\",\n",
    "               \"datetime_stop\", \"frequency\", \"further_info_url\",\n",
    "               \"grid_label\", \"institution_id\", \"mip_era\",\n",
    "               \"nominal_resolution\", \"realm\", \"source\",\n",
    "               \"source_id\", \"source_version\", \"target_mip\"]\n",
    "    # fill standard entries\n",
    "    for cnt, key in enumerate(stdKeys):\n",
    "        srcId[keyId][key] = stdDict[key]\n",
    "    # data provider extra keys\n",
    "    dataProviderExtraKeys = [\"source_variables\"]\n",
    "    srcId[keyId][\"|dataProviderExtra\"] = {}\n",
    "    # fill data provider extra entries\n",
    "    for key in dataProviderExtraKeys:\n",
    "        srcId[keyId][\"|dataProviderExtra\"][key] = dataProviderDict[key]\n",
    "    # data provider file keys\n",
    "    dataProviderFileKeys = [\"Conventions\", \"creation_date\", \"tracking_id\"]\n",
    "    srcId[keyId][\"|dataProviderFile\"] = {}\n",
    "    # fill data provider file entries\n",
    "    for key in dataProviderFileKeys:\n",
    "        srcId[keyId][\"|dataProviderFile\"][key] = dataProviderFileDict[key]\n",
    "    # ESGF default entries (once data is published)\n",
    "    esgfKeys = [\"_timestamp\", \"data_node\", \"latest\", \"replica\",\n",
    "                \"version\", \"xlink\"]\n",
    "    srcId[keyId][\"|esgfIndex\"] = {}\n",
    "    # fill ESGF entries\n",
    "    for key in esgfKeys:\n",
    "        srcId[keyId][\"|esgfIndex\"][key] = \"\"\n",
    "\n",
    "    return srcId\n",
    "\n"
   ]
  },
  {
   "cell_type": "markdown",
   "id": "72b18763-2be5-49eb-8388-963036d2c138",
   "metadata": {},
   "source": [
    "## Data provider to complete form entries below"
   ]
  },
  {
   "cell_type": "code",
   "execution_count": 43,
   "id": "e8c81dc8-252f-46bc-9011-d55aa456daf2",
   "metadata": {},
   "outputs": [
    {
     "name": "stdout",
     "output_type": "stream",
     "text": [
      "CR-CMIP-0-2-0\n"
     ]
    }
   ],
   "source": [
    "# required keys\n",
    "stdDict = {}\n",
    "'''\n",
    "# BB4CMIP7-1-0\n",
    "stdDict[\"_status\"] = \"Registered\"\n",
    "stdDict[\"contact\"] = \"Margreet.vanMarle@deltares.nl; guido.vanderwerf@wur.nl\"\n",
    "stdDict[\"dataset_category\"] = \"emissions\"\n",
    "stdDict[\"datetime_start\"] = \"1990-01-16\"\n",
    "stdDict[\"datetime_stop\"] = \"2022-12-16\"\n",
    "stdDict[\"frequency\"] = \"mon\"\n",
    "stdDict[\"further_info_url\"] = \"http://www.globalfiredata.org\"\n",
    "stdDict[\"grid_label\"] = \"gn\"\n",
    "stdDict[\"institution_id\"] = \"DRES\"\n",
    "stdDict[\"license\"] = \"CC BY 4.0\"\n",
    "stdDict[\"mip_era\"] = \"CMIP6Plus\"\n",
    "stdDict[\"nominal_resolution\"] = \"25 km\"\n",
    "stdDict[\"realm\"] = \"atmos\"\n",
    "stdDict[\"region\"] = [\"global_land\"]\n",
    "stdDict[\"source\"] = \" \".join([\"Global fire emissions 1750 through 2022 based on GFED4s,\",\n",
    "                              \"FireMIP, visibility-observations, and GCD data. Data\",\n",
    "                              \"sources differ per region and year\"])\n",
    "stdDict[\"source_id\"] = \"DRES-CMIP-BB4CMIP7-1-0\"\n",
    "print(stdDict[\"source_id\"])\n",
    "stdDict[\"source_version\"] = \"1.0\"\n",
    "stdDict[\"target_mip\"] = \"CMIP\"\n",
    "stdDict[\"title\"] = \"WUR/Deltares BB4CMIP7 1.0 Global Biomass Burning Emissions prepared for input4MIPs\"\n",
    "'''\n",
    "# CR-CMIP-0-2-0\n",
    "stdDict[\"_status\"] = \"Registered\"\n",
    "stdDict[\"contact\"] = \"zebedee.nicholls@climate-resource.com; malte.meinshausen@climate-resource.com\"\n",
    "stdDict[\"dataset_category\"] = \"GHGConcentrations\"\n",
    "stdDict[\"datetime_start\"] = \"0001-01-15\"\n",
    "stdDict[\"datetime_stop\"] = \"2022-12-15\"\n",
    "stdDict[\"frequency\"] = \"mon\"\n",
    "stdDict[\"further_info_url\"] = \"https://www.climate-resource.com/\"\n",
    "stdDict[\"grid_label\"] = \"gm\"\n",
    "stdDict[\"institution_id\"] = \"CR\"\n",
    "stdDict[\"license\"] = \"CC BY 4.0\"\n",
    "stdDict[\"mip_era\"] = \"CMIP6Plus\"\n",
    "stdDict[\"nominal_resolution\"] = \"10000 km\"\n",
    "stdDict[\"realm\"] = \"atmos\"\n",
    "stdDict[\"region\"] = [\"global\"]\n",
    "stdDict[\"source\"] = \"Global greenhouse gas concentrations 0001 through 2022 based on NOAA/AGAGE/GAGE data\"\n",
    "stdDict[\"source_id\"] = \"CR-CMIP-0-2-0\"\n",
    "print(stdDict[\"source_id\"])\n",
    "stdDict[\"source_version\"] = \"0.2.0\"\n",
    "stdDict[\"target_mip\"] = \"CMIP\"\n",
    "stdDict[\"title\"] = \"Climate Resource CMIP 0.2.0 Global Greenhouse Gas (GHG) Concentrations prepared for input4MIPs\"\n",
    "# optional entries\n",
    "# dataProviderExtra\n",
    "dataProviderDict = {}\n",
    "dataProviderDict[\"source_variables\"] = \"\"\n",
    "dataProviderDict[\"comment\"] = \" \".join([\"[TBC which grant] Data produced by Climate Resource\",\n",
    "                                        \"supported by funding from the CMIP IPO (Coupled Model\",\n",
    "                                        \"Intercomparison Project International Project Office).\",\n",
    "                                        \"This is an interim dataset, not for production use\"])\n",
    "# dataProviderFile\n",
    "dataProviderFileDict = {}\n",
    "dataProviderFileDict[\"Conventions\"] = \"\"  # \"CF-1.7\"\n",
    "dataProviderFileDict[\"creation_date\"] = \"\"\n",
    "dataProviderFileDict[\"tracking_id\"] = \"\"\n",
    "\n",
    "# call function to populate\n",
    "newId = make_srcId(stdDict[\"source_id\"], stdDict, dataProviderDict, dataProviderFileDict)"
   ]
  },
  {
   "cell_type": "code",
   "execution_count": 45,
   "id": "7f3f584f-3d6f-439f-8cc5-9fb6603395e5",
   "metadata": {},
   "outputs": [
    {
     "data": {
      "text/plain": [
       "{'CR-CMIP-0-2-0': {'_status': 'Registered',\n",
       "  'contact': 'zebedee.nicholls@climate-resource.com; malte.meinshausen@climate-resource.com',\n",
       "  'dataset_category': 'GHGConcentrations',\n",
       "  'datetime_start': '0001-01-15',\n",
       "  'datetime_stop': '2022-12-15',\n",
       "  'frequency': 'mon',\n",
       "  'further_info_url': 'https://www.climate-resource.com/',\n",
       "  'grid_label': 'gm',\n",
       "  'institution_id': 'CR',\n",
       "  'mip_era': 'CMIP6Plus',\n",
       "  'nominal_resolution': '10000 km',\n",
       "  'realm': 'atmos',\n",
       "  'source': 'Global greenhouse gas concentrations 0001 through 2022 based on NOAA/AGAGE/GAGE data',\n",
       "  'source_id': 'CR-CMIP-0-2-0',\n",
       "  'source_version': '0.2.0',\n",
       "  'target_mip': 'CMIP',\n",
       "  '|dataProviderExtra': {'source_variables': ''},\n",
       "  '|dataProviderFile': {'Conventions': '',\n",
       "   'creation_date': '',\n",
       "   'tracking_id': ''},\n",
       "  '|esgfIndex': {'_timestamp': '',\n",
       "   'data_node': '',\n",
       "   'latest': '',\n",
       "   'replica': '',\n",
       "   'version': '',\n",
       "   'xlink': ''}}}"
      ]
     },
     "execution_count": 45,
     "metadata": {},
     "output_type": "execute_result"
    }
   ],
   "source": [
    "newId"
   ]
  },
  {
   "cell_type": "markdown",
   "id": "df78753f-8f8b-490c-9719-7ebbe2ca2e7e",
   "metadata": {},
   "source": [
    "## sync with repo - input4MIPs_CVs.json"
   ]
  },
  {
   "cell_type": "code",
   "execution_count": 62,
   "id": "b58189a2-5a81-488f-a206-d1318d168a1f",
   "metadata": {},
   "outputs": [
    {
     "name": "stdout",
     "output_type": "stream",
     "text": [
      "CPU times: user 18.4 ms, sys: 5.4 ms, total: 23.7 ms\n",
      "Wall time: 42.7 ms\n"
     ]
    }
   ],
   "source": [
    "%%time\n",
    "# read input4mips_cvs source_id\n",
    "srcIdGithub = \"https://raw.githubusercontent.com/PCMDI/input4MIPs_CVs/main/input4MIPs_source_id.json\"\n",
    "js = requests.get(srcIdGithub)\n",
    "srcIds = json.loads(js.text)\n",
    "\n",
    "# add new source_id\n",
    "srcIds[\"source_id\"][stdDict[\"source_id\"]] = {}\n",
    "srcIds[\"source_id\"][stdDict[\"source_id\"]] = newId[stdDict[\"source_id\"]]\n",
    "\n",
    "# Write all out\n",
    "oF = \"../input4MIPs_source_id.json\"\n",
    "if os.path.exists(oF):\n",
    "    os.remove(oF)\n",
    "fH = open(oF, \"w\")\n",
    "json.dump(srcIds, fH, ensure_ascii=True, sort_keys=True, indent=4, separators=(\",\", \":\"),)\n",
    "fH.close()"
   ]
  },
  {
   "cell_type": "code",
   "execution_count": null,
   "id": "979e1f9e-970a-42d8-b6fe-21c6889b637d",
   "metadata": {},
   "outputs": [],
   "source": []
  }
 ],
 "metadata": {
  "kernelspec": {
   "display_name": "Python 3 (ipykernel)",
   "language": "python",
   "name": "python3"
  },
  "language_info": {
   "codemirror_mode": {
    "name": "ipython",
    "version": 3
   },
   "file_extension": ".py",
   "mimetype": "text/x-python",
   "name": "python",
   "nbconvert_exporter": "python",
   "pygments_lexer": "ipython3",
   "version": "3.12.4"
  }
 },
 "nbformat": 4,
 "nbformat_minor": 5
}
