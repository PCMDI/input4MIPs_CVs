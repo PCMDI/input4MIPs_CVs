{
 "cells": [
  {
   "cell_type": "markdown",
   "id": "f0a176d8-3c44-44cc-b253-0dcf5d933746",
   "metadata": {},
   "source": [
    "# Query ESGF input4MIPs index and extract source_id entries"
   ]
  },
  {
   "cell_type": "raw",
   "id": "20363c50-b6df-4b1b-8d87-8c9099479e6a",
   "metadata": {},
   "source": [
    "PJD 24 Oct 2023 - Started to query LLNL-ESGF input4MIPs index and extract all published source_id entries\n",
    "PJD 25 Oct 2023 - Updated with valid solr queries"
   ]
  },
  {
   "cell_type": "markdown",
   "id": "41322843-6c92-423b-a468-f1e0a7fe022b",
   "metadata": {},
   "source": [
    "## imports"
   ]
  },
  {
   "cell_type": "code",
   "execution_count": 39,
   "id": "727c54fa-d454-4adc-953d-1c93a0abf392",
   "metadata": {},
   "outputs": [],
   "source": [
    "import json\n",
    "import numpy as np\n",
    "import requests"
   ]
  },
  {
   "cell_type": "markdown",
   "id": "fe77200e-f8c7-4f7a-98e9-7c38ad218ab3",
   "metadata": {},
   "source": [
    "## example source_id queries"
   ]
  },
  {
   "cell_type": "raw",
   "id": "bb92413c-8bf8-4b48-ae3b-a0563b7edd4c",
   "metadata": {},
   "source": [
    "esgf-search\n",
    "https://esgf-node.llnl.gov/esg-search/search/?limit=0&format=application%2Fsolr%2Bjson&facets=variable_id&project=input4mips&project=input4MIPs&distrib=false 5879\n",
    "https://esgf-node.llnl.gov/esg-search/search/?limit=0&format=application%2Fsolr%2Bjson&facets=source_id&project=input4mips&project=input4MIPs&distrib=false 5879\n",
    "\n",
    "esgf-search\n",
    "https://esgf-node.llnl.gov/esg-search/search?activity_id=input4MIPs&offset=0&limit=0&type=Dataset&format=application%2Fsolr%2Bjson&facets=source_id&latest=true&distrib=false 5221\n",
    "\n",
    "solr - json - input4MIPs - 219\n",
    "input4MIPs = https://esgf-node.llnl.gov/solr/datasets/select?q=*:*&rows=0&wt=json&facet=true&fq=type:Dataset&fq=replica:false&fq=project:input4MIPs&facet.field=source_id\n",
    "\n",
    "solr - json - input4mips - 5660\n",
    "input4mips = https://esgf-node.llnl.gov/solr/datasets/select?q=*:*&rows=0&wt=json&facet=true&fq=type:Dataset&fq=replica:false&fq=project:input4mips&facet.field=source_id\n",
    "\n",
    "solr - json - both - Dataset - 5879\n",
    "https://esgf-node.llnl.gov/solr/datasets/select?q=*:*&rows=0&wt=json&facet=true&fq=type:Dataset&fq=replica:false&fq=project:(input4mips%20OR%20input4MIPs)&facet.field=source_id\n",
    "\n",
    "solr - json - both - File - 9373\n",
    "https://esgf-node.llnl.gov/solr/files/select?q=*:*&rows=0&wt=json&facet=true&fq=type:File&fq=replica:false&fq=project:(input4mips%20OR%20input4MIPs)&facet.field=source_id"
   ]
  },
  {
   "cell_type": "markdown",
   "id": "e6082ca0-bbcb-44b4-a1b8-8e6750dfbda5",
   "metadata": {},
   "source": [
    "## get source_id entries"
   ]
  },
  {
   "cell_type": "code",
   "execution_count": 49,
   "id": "25d88e25-1c25-4800-93a2-d8838ee05d8c",
   "metadata": {},
   "outputs": [
    {
     "name": "stdout",
     "output_type": "stream",
     "text": [
      "https://esgf-node.llnl.gov/solr/datasets/select?q=*:*&rows=0&wt=json&facet=true&fq=type:Dataset&fq=replica:false&fq=project:(input4mips%20OR%20input4MIPs)&facet.field=source_id\n"
     ]
    }
   ],
   "source": [
    "#input4MIPs = \"https://esgf-node.llnl.gov/solr/datasets/select?q=*:*&rows=0&wt=json&facet=true\" \\\n",
    "#             \"&fq=type:Dataset&fq=replica:false&fq=project:input4MIPs&facet.field=source_id\"\n",
    "#js = requests.get(input4MIPs)\n",
    "#js_MIPs = json.loads(js.text)\n",
    "#print(input4MIPs)\n",
    "\n",
    "#input4mips = \"https://esgf-node.llnl.gov/solr/datasets/select?q=*:*&rows=0&wt=json&facet=true\" \\\n",
    "#             \"&fq=type:Dataset&fq=replica:false&fq=project:input4mips&facet.field=source_id\"\n",
    "#js = requests.get(input4mips)\n",
    "#js_mips = json.loads(js.text)\n",
    "#print(input4mips)\n",
    "\n",
    "inputs = \"https://esgf-node.llnl.gov/solr/datasets/select?q=*:*&rows=0&wt=json&facet=true&\" \\\n",
    "         \"fq=type:Dataset&fq=replica:false&fq=project:(input4mips%20OR%20input4MIPs)&facet.field=source_id\"\n",
    "js = requests.get(inputs)\n",
    "js_mips = json.loads(js.text)\n",
    "print(inputs)"
   ]
  },
  {
   "cell_type": "markdown",
   "id": "2a85a901-e7fa-4e59-8e50-a8ea10024dfc",
   "metadata": {},
   "source": [
    "## extract source_id entries and composite"
   ]
  },
  {
   "cell_type": "code",
   "execution_count": 55,
   "id": "9b721c24-d533-4fdd-b687-561a3a7d0fe7",
   "metadata": {},
   "outputs": [
    {
     "name": "stdout",
     "output_type": "stream",
     "text": [
      "srcIdLen: 368\n",
      "len(srcIdDict.keys()): 184\n",
      "dataset counts: 5876\n",
      "{'ACCESS1-3-rcp85-1-0': 4, 'CCMI-hist-nat-1-0': 1, 'CCMI-hist-nat-1-1': 1, 'CCMI-hist-sol-1-0': 1, 'CCMI-hist-sol-1-1': 1, 'CCMI-hist-stratO3-1-0': 1, 'CCMI-hist-volc-1-0': 1, 'CCMI-hist-volc-1-1': 1, 'CCMI-ssp245-nat-1-0': 1, 'CCMI-ssp245-sol-1-0': 1, 'CCMI-ssp245-stratO3-1-0': 1, 'CCMI-ssp245-volc-1-0': 1, 'CCSM4-rcp26-1-0': 5, 'CCSM4-rcp85-1-0': 8, 'CEDS-2016-06-18': 7, 'CEDS-2016-06-18-sectorDimV2': 37, 'CEDS-2016-06-18-supplemental-data': 30, 'CEDS-2016-07-26': 7, 'CEDS-2016-07-26-sectorDim': 7, 'CEDS-2016-07-26-sectorDim-supplemental-data': 30, 'CEDS-2017-05-18': 18, 'CEDS-2017-05-18-supplemental-data': 33, 'CEDS-2017-08-30': 9, 'CEDS-2017-08-30-supplemental-data': 1, 'CEDS-2017-10-05': 1, 'CESM2-ssp585-1-0': 12, 'CNRM-CM6-1-ssp126-1-0': 12, 'CNRM-CM6-1-ssp585-1-0': 12, 'CNRM-ESM2-1-ssp585-1-0': 12, 'CSIRO-MK3-6-0-rcp85-1-0': 11, 'DCPP-C-amv-1-1': 4, 'DCPP-C-ipv-1-1': 3, 'HadGEM2-ES-rcp85-1-0': 12, 'IACETH-SAGE3lambda-2-1-0': 3, 'IACETH-SAGE3lambda-3-0-0': 3, 'IAMC-AIM-ssp370-1-0': 32, 'IAMC-AIM-ssp370-1-1': 40, 'IAMC-AIM-ssp370-1-1-supplemental-data': 73, 'IAMC-AIM-ssp370-lowNTCF-1-1': 40, 'IAMC-AIM-ssp370-lowNTCF-1-1-supplemental-data': 73, 'IAMC-GCAM4-ssp434-1-0': 32, 'IAMC-GCAM4-ssp434-1-1': 40, 'IAMC-GCAM4-ssp434-1-1-supplemental-data': 73, 'IAMC-GCAM4-ssp460-1-0': 32, 'IAMC-GCAM4-ssp460-1-1': 40, 'IAMC-GCAM4-ssp460-1-1-supplemental-data': 73, 'IAMC-IMAGE-ssp119-1-0': 32, 'IAMC-IMAGE-ssp119-1-1': 40, 'IAMC-IMAGE-ssp119-1-1-supplemental-data': 73, 'IAMC-IMAGE-ssp126-1-0': 32, 'IAMC-IMAGE-ssp126-1-1': 40, 'IAMC-IMAGE-ssp126-1-1-supplemental-data': 73, 'IAMC-MESSAGE-GLOBIOM-ssp245-1-0': 32, 'IAMC-MESSAGE-GLOBIOM-ssp245-1-1': 40, 'IAMC-MESSAGE-GLOBIOM-ssp245-1-1-supplemental-data': 73, 'IAMC-REMIND-MAGPIE-ssp534-over-1-0': 32, 'IAMC-REMIND-MAGPIE-ssp534-over-1-1': 40, 'IAMC-REMIND-MAGPIE-ssp534-over-1-1-supplemental-data': 73, 'IAMC-REMIND-MAGPIE-ssp585-1-0': 32, 'IAMC-REMIND-MAGPIE-ssp585-1-1': 40, 'IAMC-REMIND-MAGPIE-ssp585-1-1-supplemental-data': 73, 'IPSL-CM5A-MR-rcp26-1-0': 6, 'IPSL-CM5A-MR-rcp85-1-0': 11, 'ImperialCollege-1-0': 2, 'ImperialCollege-1-1': 1, 'ImperialCollege-2-0': 1, 'ImperialCollege-AIM-ssp370-1-0': 2, 'ImperialCollege-GLOBIOM-ssp245-1-0': 2, 'ImperialCollege-IMAGE-ssp119-1-0': 2, 'ImperialCollege-IMAGE-ssp126-1-0': 2, 'ImperialCollege-REMIND-MAGPIE-ssp534os-1-0': 2, 'ImperialCollege-REMIND-MAGPIE-ssp585-1-0': 2, 'ImperialCollege-ssp245-covid-4-8-1': 11, 'MIROC-ESM-CHEM-rcp26-1-0': 5, 'MIROC-ESM-CHEM-rcp85-1-0': 8, 'MIROC5-rcp26-1-0': 4, 'MIROC5-rcp85-1-0': 4, 'MOHC-HadISST-2-2-0-0-0': 2, 'MOHC-highresSST-future-1-0-0': 2, 'MOHC-highresSST-future-1-0-1': 2, 'MPI-B-1pctNdep-1-0': 4, 'MPI-M-MACv2-SP-1-0': 1, 'MRI-JRA55-do-1-3': 21, 'MRI-JRA55-do-1-3-2': 3, 'MRI-JRA55-do-1-4-0': 21, 'MRI-JRA55-do-1-5-0': 21, 'NCAR-CCMI-1-0': 8, 'NCAR-CCMI-2-0': 8, 'NCAR-CCMI-ssp119-1-0': 4, 'NCAR-CCMI-ssp126-1-0': 4, 'NCAR-CCMI-ssp126-2-0': 1, 'NCAR-CCMI-ssp245-1-0': 4, 'NCAR-CCMI-ssp245-2-0': 1, 'NCAR-CCMI-ssp370-1-0': 4, 'NCAR-CCMI-ssp370-2-0': 1, 'NCAR-CCMI-ssp434-1-0': 4, 'NCAR-CCMI-ssp460-1-0': 4, 'NCAR-CCMI-ssp534os-1-0': 4, 'NCAR-CCMI-ssp585-1-0': 4, 'NCAR-CCMI-ssp585-2-0': 1, 'NCAS-2-1-0': 4, 'NorESM1-M-rcp26-1-0': 7, 'NorESM1-M-rcp85-1-0': 12, 'PCMDI-AMIP-1-1-0': 5, 'PCMDI-AMIP-1-1-1': 5, 'PCMDI-AMIP-1-1-2': 6, 'PCMDI-AMIP-1-1-3': 6, 'PCMDI-AMIP-1-1-4': 6, 'PCMDI-AMIP-1-1-5': 6, 'PCMDI-AMIP-1-1-6': 6, 'PCMDI-AMIP-1-1-7': 6, 'PCMDI-AMIP-1-1-8': 6, 'PCMDI-AMIP-1-1-9': 6, 'SOLARIS-HEPPA-3-2': 3, 'UCI-fu-prArctic-prAntarctic-1-0': 1, 'UCI-fut2CAntarctic-1-0': 3, 'UCI-fut2CArctic-1-0': 3, 'UCI-fut2CArctic-2mAntarctic-1-0': 1, 'UCI-fut2CBKSeas-1-0': 2, 'UCI-fut2COkhotsk-1-0': 2, 'UCI-pi-prArctic-prAntarctic-1-0': 1, 'UCI-pi-prArctic-prAntarctic-1-1': 1, 'UCI-piAntarctic-1-0': 2, 'UCI-piArctic-1-0': 2, 'UCI-preindustrial-1-0': 2, 'UCI-present-1-0': 4, 'UCI-present-197901-201412-Arctic-Antarctic-1-0': 1, 'UCI-present-197901-201412-clim-Arctic-Antarctic-1-0': 1, 'UCI-present-2mAntarctic-1-0': 1, 'UColorado-RFMIP-0-4': 1, 'UColorado-RFMIP-1-0': 1, 'UColorado-RFMIP-1-1': 1, 'UColorado-RFMIP-1-2': 1, 'UKESM1-0-LL-ssp585-1-0': 12, 'UReading-CCMI-1-0': 2, 'UReading-CCMI-ssp119-1-0': 1, 'UReading-CCMI-ssp119-1-1': 2, 'UReading-CCMI-ssp126-1-0': 1, 'UReading-CCMI-ssp245-1-0': 1, 'UReading-CCMI-ssp370-1-0': 1, 'UReading-CCMI-ssp434-1-0': 1, 'UReading-CCMI-ssp434-1-1': 2, 'UReading-CCMI-ssp460-1-0': 1, 'UReading-CCMI-ssp460-1-1': 2, 'UReading-CCMI-ssp534os-1-0': 1, 'UReading-CCMI-ssp534os-1-1': 2, 'UReading-CCMI-ssp585-1-0': 1, 'UoM-AIM-ssp370-1-2-0': 184, 'UoM-AIM-ssp370-1-2-1': 184, 'UoM-AIM-ssp370-lowNTCF-1-2-0': 184, 'UoM-AIM-ssp370-lowNTCF-1-2-1': 184, 'UoM-CMIP-1-2-0': 184, 'UoM-GCAM4-ssp434-1-2-0': 184, 'UoM-GCAM4-ssp434-1-2-1': 184, 'UoM-GCAM4-ssp460-1-2-0': 184, 'UoM-GCAM4-ssp460-1-2-1': 184, 'UoM-IMAGE-ssp119-1-2-0': 184, 'UoM-IMAGE-ssp119-1-2-1': 184, 'UoM-IMAGE-ssp126-1-2-0': 184, 'UoM-IMAGE-ssp126-1-2-1': 184, 'UoM-MESSAGE-GLOBIOM-ssp245-1-2-0': 184, 'UoM-MESSAGE-GLOBIOM-ssp245-1-2-1': 184, 'UoM-REMIND-MAGPIE-ssp534-over-1-2-0': 184, 'UoM-REMIND-MAGPIE-ssp534-over-1-2-1': 184, 'UoM-REMIND-MAGPIE-ssp585-1-2-0': 184, 'UoM-REMIND-MAGPIE-ssp585-1-2-1': 184, 'UoM-ssp126-1-1-0': 95, 'UofMD-landState-2-1-h': 1, 'UofMD-landState-AIM-ssp370-2-1-f': 4, 'UofMD-landState-GCAM-ssp434-2-1-f': 4, 'UofMD-landState-GCAM-ssp460-2-1-f': 4, 'UofMD-landState-IMAGE-ssp119-2-1-f': 4, 'UofMD-landState-IMAGE-ssp126-2-1-e': 4, 'UofMD-landState-IMAGE-ssp126-2-1-f': 4, 'UofMD-landState-MAGPIE-ssp534-2-1-e': 4, 'UofMD-landState-MAGPIE-ssp534-2-1-f': 4, 'UofMD-landState-MAGPIE-ssp585-2-1-e': 4, 'UofMD-landState-MAGPIE-ssp585-2-1-f': 4, 'UofMD-landState-MESSAGE-ssp245-2-1-f': 4, 'UofMD-landState-high-2-1-h': 3, 'UofMD-landState-low-2-1-h': 3, 'VUA-CMIP-BB4CMIP6-1-0': 39, 'VUA-CMIP-BB4CMIP6-1-1': 44, 'VUA-CMIP-BB4CMIP6-1-2': 247}\n"
     ]
    }
   ],
   "source": [
    "#print(js_MIPs)\n",
    "#print(js_MIPs.keys())\n",
    "#print(js_mips[\"facet_counts\"][\"facet_fields\"][\"source_id\"])\n",
    "srcIds = js_mips[\"facet_counts\"][\"facet_fields\"][\"source_id\"]\n",
    "srcIdLen = len(srcIds)\n",
    "print(\"srcIdLen:\", srcIdLen)\n",
    "els = np.arange(0, srcIdLen, 2)\n",
    "#print(els.tolist())\n",
    "srcIdDict = {}\n",
    "counts = 0\n",
    "for cnt, srcId in enumerate(els.tolist()):\n",
    "    #print(cnt, srcId)\n",
    "    srcIdDict[srcIds[srcId]] = srcIds[srcId+1]\n",
    "    counts += int(srcIds[srcId+1])\n",
    "\n",
    "print(\"len(srcIdDict.keys()):\", len(srcIdDict.keys()))\n",
    "print(\"dataset counts:\", counts)\n",
    "print(srcIdDict)"
   ]
  },
  {
   "cell_type": "markdown",
   "id": "2c5c1e35-7625-4011-9b18-70925fb0ee7e",
   "metadata": {},
   "source": [
    "## example source_id queries"
   ]
  },
  {
   "cell_type": "raw",
   "id": "bcfe3550-90aa-4774-b7e5-7ec48605557c",
   "metadata": {},
   "source": [
    "Datasets with no source_id\n",
    "input4mips.ImperialCollege.atmosphericState.C4MIP-OMIP.ImperialCollege-1-0.yr.Delta14co2-in-air.gz.v20170428\n",
    "input4mips.ImperialCollege.atmosphericState.C4MIP-OMIP.ImperialCollege-1-0.yr.delta13co2-in-air.gm.v20170428\n",
    "input4MIPs.ImperialCollege.atmosphericState.C4MIP-OMIP.ImperialCollege-1-0.yr.delta13co2-in-air.gm.v20170428\n",
    "\n",
    "do something else\n",
    "https://esgf-node.llnl.gov/esg-search/search/?limit=1000&format=application%2Fsolr%2Bjson&source_id=ACCESS1-3-rcp85-1-0&project=input4mips&project=input4MIPs&distrib=false&fields=_timestamp - timestamps only\n",
    "\n",
    "https://esgf-node.llnl.gov/esg-search/search/?limit=1000&format=application%2Fsolr%2Bjson&source_id=ACCESS1-3-rcp85-1-0&project=input4mips&project=input4MIPs&distrib=false&fields=* - wildcard, all index entries, 4 files/variables"
   ]
  },
  {
   "cell_type": "code",
   "execution_count": null,
   "id": "57adef62-3d7d-414f-a55d-f7aa0f756fad",
   "metadata": {},
   "outputs": [],
   "source": [
    "https://esgf-node.llnl.gov/esg-search/search/?limit=0&format=application%2Fsolr%2Bjson&facets=variable_id&project=input4mips&project=input4MIPs&mip_era=CMIP6&distrib=false"
   ]
  }
 ],
 "metadata": {
  "kernelspec": {
   "display_name": "Python 3 (ipykernel)",
   "language": "python",
   "name": "python3"
  },
  "language_info": {
   "codemirror_mode": {
    "name": "ipython",
    "version": 3
   },
   "file_extension": ".py",
   "mimetype": "text/x-python",
   "name": "python",
   "nbconvert_exporter": "python",
   "pygments_lexer": "ipython3",
   "version": "3.10.6"
  }
 },
 "nbformat": 4,
 "nbformat_minor": 5
}
