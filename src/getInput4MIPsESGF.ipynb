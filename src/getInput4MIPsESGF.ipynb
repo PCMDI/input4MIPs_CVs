{
 "cells": [
  {
   "cell_type": "markdown",
   "id": "f0a176d8-3c44-44cc-b253-0dcf5d933746",
   "metadata": {},
   "source": [
    "# Query ESGF input4MIPs index and extract source_id entries"
   ]
  },
  {
   "cell_type": "raw",
   "id": "20363c50-b6df-4b1b-8d87-8c9099479e6a",
   "metadata": {},
   "source": [
    "PJD 24 Oct 2023 - Started to query LLNL-ESGF input4MIPs index and extract all published source_id entries\n",
    "PJD 25 Oct 2023 - Updated with valid solr queries\n",
    "PJD 26 Oct 2023 - Added File-based solr search (augmenting Dataset)"
   ]
  },
  {
   "cell_type": "markdown",
   "id": "41322843-6c92-423b-a468-f1e0a7fe022b",
   "metadata": {},
   "source": [
    "## imports"
   ]
  },
  {
   "cell_type": "code",
   "execution_count": 69,
   "id": "727c54fa-d454-4adc-953d-1c93a0abf392",
   "metadata": {},
   "outputs": [],
   "source": [
    "import json\n",
    "import numpy as np\n",
    "import requests"
   ]
  },
  {
   "cell_type": "markdown",
   "id": "fe77200e-f8c7-4f7a-98e9-7c38ad218ab3",
   "metadata": {},
   "source": [
    "## example source_id queries"
   ]
  },
  {
   "cell_type": "raw",
   "id": "bb92413c-8bf8-4b48-ae3b-a0563b7edd4c",
   "metadata": {},
   "source": [
    "esgf-search\n",
    "https://esgf-node.llnl.gov/esg-search/search/?limit=0&format=application%2Fsolr%2Bjson&facets=variable_id&project=input4mips&project=input4MIPs&distrib=false 5879\n",
    "https://esgf-node.llnl.gov/esg-search/search/?limit=0&format=application%2Fsolr%2Bjson&facets=source_id&project=input4mips&project=input4MIPs&distrib=false 5879\n",
    "\n",
    "esgf-search\n",
    "https://esgf-node.llnl.gov/esg-search/search?activity_id=input4MIPs&offset=0&limit=0&type=Dataset&format=application%2Fsolr%2Bjson&facets=source_id&latest=true&distrib=false 5221\n",
    "\n",
    "solr - json - input4MIPs - 219\n",
    "input4MIPs = https://esgf-node.llnl.gov/solr/datasets/select?q=*:*&rows=0&wt=json&facet=true&fq=type:Dataset&fq=replica:false&fq=project:input4MIPs&facet.field=source_id\n",
    "\n",
    "solr - json - input4mips - 5660\n",
    "input4mips = https://esgf-node.llnl.gov/solr/datasets/select?q=*:*&rows=0&wt=json&facet=true&fq=type:Dataset&fq=replica:false&fq=project:input4mips&facet.field=source_id\n",
    "\n",
    "solr - json - both - Dataset - 5879\n",
    "https://esgf-node.llnl.gov/solr/datasets/select?q=*:*&rows=0&wt=json&facet=true&fq=type:Dataset&fq=replica:false&fq=project:(input4mips%20OR%20input4MIPs)&facet.field=source_id\n",
    "\n",
    "solr - json - both - File - 9373\n",
    "https://esgf-node.llnl.gov/solr/files/select?q=*:*&rows=0&wt=json&facet=true&fq=type:File&fq=replica:false&fq=project:(input4mips%20OR%20input4MIPs)&facet.field=source_id"
   ]
  },
  {
   "cell_type": "markdown",
   "id": "e6082ca0-bbcb-44b4-a1b8-8e6750dfbda5",
   "metadata": {},
   "source": [
    "## get source_id entries"
   ]
  },
  {
   "cell_type": "code",
   "execution_count": 70,
   "id": "25d88e25-1c25-4800-93a2-d8838ee05d8c",
   "metadata": {},
   "outputs": [
    {
     "name": "stdout",
     "output_type": "stream",
     "text": [
      "https://esgf-node.llnl.gov/solr/datasets/select?q=*:*&rows=0&wt=json&facet=true&fq=type:Dataset&fq=replica:false&fq=project:(input4mips%20OR%20input4MIPs)&facet.field=source_id\n",
      "https://esgf-node.llnl.gov/solr/files/select?q=*:*&rows=0&wt=json&facet=true&fq=type:File&fq=replica:false&fq=project:(input4mips%20OR%20input4MIPs)&facet.field=source_id\n"
     ]
    }
   ],
   "source": [
    "# both input4MIPs and input4mips\n",
    "# Dataset search\n",
    "inputsD = \"https://esgf-node.llnl.gov/solr/datasets/select?q=*:*&rows=0&wt=json&facet=true&\" \\\n",
    "         \"fq=type:Dataset&fq=replica:false&fq=project:(input4mips%20OR%20input4MIPs)&facet.field=source_id\"\n",
    "js = requests.get(inputsD)\n",
    "js_mipsD = json.loads(js.text)\n",
    "print(inputsD)\n",
    "# File search\n",
    "inputsF = \"https://esgf-node.llnl.gov/solr/files/select?q=*:*&rows=0&wt=json&facet=true&\" \\\n",
    "          \"fq=type:File&fq=replica:false&fq=project:(input4mips%20OR%20input4MIPs)&facet.field=source_id\"\n",
    "js = requests.get(inputsF)\n",
    "js_mipsF = json.loads(js.text)\n",
    "print(inputsF)"
   ]
  },
  {
   "cell_type": "markdown",
   "id": "2a85a901-e7fa-4e59-8e50-a8ea10024dfc",
   "metadata": {},
   "source": [
    "## extract source_id entries and composite"
   ]
  },
  {
   "cell_type": "code",
   "execution_count": 71,
   "id": "7d4c32c8-07a6-433a-b755-73d55bc97e3e",
   "metadata": {},
   "outputs": [
    {
     "name": "stdout",
     "output_type": "stream",
     "text": [
      "len(dicInpmD): 368\n",
      "len(dicInpmF): 346\n"
     ]
    }
   ],
   "source": [
    "dicInpmD = js_mipsD[\"facet_counts\"][\"facet_fields\"][\"source_id\"]\n",
    "print(\"len(dicInpmD):\", len(dicInpmD))\n",
    "dicInpmF = js_mipsF[\"facet_counts\"][\"facet_fields\"][\"source_id\"]\n",
    "print(\"len(dicInpmF):\", len(dicInpmF))\n",
    "#print(dicInpmD)\n",
    "#print(dicInpmF)"
   ]
  },
  {
   "cell_type": "code",
   "execution_count": 79,
   "id": "9b721c24-d533-4fdd-b687-561a3a7d0fe7",
   "metadata": {},
   "outputs": [
    {
     "name": "stdout",
     "output_type": "stream",
     "text": [
      "srcIdLen: 368\n",
      "len(srcIdDDict.keys()): 184\n",
      "dataset counts: 5876\n",
      "srcIdLen: 346\n",
      "len(srcIdFDict.keys()): 173\n",
      "dataset counts: 5516\n"
     ]
    },
    {
     "data": {
      "text/plain": [
       "{'UofMD-landState-IMAGE-ssp126-2-1-f',\n",
       " 'UofMD-landState-MAGPIE-ssp534-2-1-e',\n",
       " 'UofMD-landState-MAGPIE-ssp534-2-1-f',\n",
       " 'UofMD-landState-MAGPIE-ssp585-2-1-e',\n",
       " 'UofMD-landState-MAGPIE-ssp585-2-1-f',\n",
       " 'UofMD-landState-MESSAGE-ssp245-2-1-f',\n",
       " 'UofMD-landState-high-2-1-h',\n",
       " 'UofMD-landState-low-2-1-h',\n",
       " 'VUA-CMIP-BB4CMIP6-1-0',\n",
       " 'VUA-CMIP-BB4CMIP6-1-1',\n",
       " 'VUA-CMIP-BB4CMIP6-1-2'}"
      ]
     },
     "execution_count": 79,
     "metadata": {},
     "output_type": "execute_result"
    }
   ],
   "source": [
    "# datasets\n",
    "srcIdLen = len(dicInpmD)\n",
    "print(\"srcIdLen:\", srcIdLen)\n",
    "els = np.arange(0, srcIdLen, 2)\n",
    "srcIdDDict = {}\n",
    "counts = 0\n",
    "for cnt, srcId in enumerate(els.tolist()):\n",
    "    #print(cnt, srcId)\n",
    "    srcIdDDict[srcIds[srcId]] = srcIds[srcId+1]\n",
    "    counts += int(srcIds[srcId+1])\n",
    "\n",
    "print(\"len(srcIdDDict.keys()):\", len(srcIdDDict.keys()))\n",
    "print(\"dataset counts:\", counts)\n",
    "# sort dictionary\n",
    "#sorted(srcIdDDict.items())\n",
    "#print(srcIdDDict)\n",
    "srcIdDDictList = list(sorted(srcIdDDict.keys()))\n",
    "#print(srcIdDDictList)\n",
    "\n",
    "# files\n",
    "srcIdLen = len(dicInpmF)\n",
    "print(\"srcIdLen:\", srcIdLen)\n",
    "els = np.arange(0, srcIdLen, 2)\n",
    "srcIdFDict = {}\n",
    "counts = 0\n",
    "for cnt, srcId in enumerate(els.tolist()):\n",
    "    #print(cnt, srcId)\n",
    "    srcIdFDict[srcIds[srcId]] = srcIds[srcId+1]\n",
    "    counts += int(srcIds[srcId+1])\n",
    "\n",
    "print(\"len(srcIdFDict.keys()):\", len(srcIdFDict.keys()))\n",
    "print(\"dataset counts:\", counts)\n",
    "# sort dictionary\n",
    "srcIdFDictList = list(sorted(srcIdFDict.keys()))\n",
    "#print(srcIdFDictList)\n",
    "\n",
    "# determine missing\n",
    "set(srcIdDDictList).difference(srcIdFDictList)"
   ]
  },
  {
   "cell_type": "markdown",
   "id": "2c5c1e35-7625-4011-9b18-70925fb0ee7e",
   "metadata": {},
   "source": [
    "## example source_id queries"
   ]
  },
  {
   "cell_type": "raw",
   "id": "bcfe3550-90aa-4774-b7e5-7ec48605557c",
   "metadata": {},
   "source": [
    "Datasets with no source_id\n",
    "input4mips.ImperialCollege.atmosphericState.C4MIP-OMIP.ImperialCollege-1-0.yr.Delta14co2-in-air.gz.v20170428\n",
    "input4mips.ImperialCollege.atmosphericState.C4MIP-OMIP.ImperialCollege-1-0.yr.delta13co2-in-air.gm.v20170428\n",
    "input4MIPs.ImperialCollege.atmosphericState.C4MIP-OMIP.ImperialCollege-1-0.yr.delta13co2-in-air.gm.v20170428\n",
    "\n",
    "Datasets with no File entries\n",
    "'UofMD-landState-IMAGE-ssp126-2-1-f'\n",
    "'UofMD-landState-MAGPIE-ssp534-2-1-e'\n",
    "'UofMD-landState-MAGPIE-ssp534-2-1-f'\n",
    "'UofMD-landState-MAGPIE-ssp585-2-1-e'\n",
    "'UofMD-landState-MAGPIE-ssp585-2-1-f'\n",
    "'UofMD-landState-MESSAGE-ssp245-2-1-f'\n",
    "'UofMD-landState-high-2-1-h'\n",
    "'UofMD-landState-low-2-1-h'\n",
    "'VUA-CMIP-BB4CMIP6-1-0'\n",
    "'VUA-CMIP-BB4CMIP6-1-1'\n",
    "'VUA-CMIP-BB4CMIP6-1-2'\n",
    "\n",
    "do something else\n",
    "https://esgf-node.llnl.gov/esg-search/search/?limit=1000&format=application%2Fsolr%2Bjson&source_id=ACCESS1-3-rcp85-1-0&project=input4mips&project=input4MIPs&distrib=false&fields=_timestamp - timestamps only\n",
    "\n",
    "https://esgf-node.llnl.gov/esg-search/search/?limit=1000&format=application%2Fsolr%2Bjson&source_id=ACCESS1-3-rcp85-1-0&project=input4mips&project=input4MIPs&distrib=false&fields=* - wildcard, all index entries, 4 files/variables"
   ]
  },
  {
   "cell_type": "code",
   "execution_count": null,
   "id": "57adef62-3d7d-414f-a55d-f7aa0f756fad",
   "metadata": {},
   "outputs": [],
   "source": [
    "https://esgf-node.llnl.gov/esg-search/search/?limit=0&format=application%2Fsolr%2Bjson&facets=variable_id&project=input4mips&project=input4MIPs&mip_era=CMIP6&distrib=false"
   ]
  }
 ],
 "metadata": {
  "kernelspec": {
   "display_name": "Python 3 (ipykernel)",
   "language": "python",
   "name": "python3"
  },
  "language_info": {
   "codemirror_mode": {
    "name": "ipython",
    "version": 3
   },
   "file_extension": ".py",
   "mimetype": "text/x-python",
   "name": "python",
   "nbconvert_exporter": "python",
   "pygments_lexer": "ipython3",
   "version": "3.10.6"
  }
 },
 "nbformat": 4,
 "nbformat_minor": 5
}
