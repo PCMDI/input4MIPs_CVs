{
 "cells": [
  {
   "cell_type": "markdown",
   "id": "f0a176d8-3c44-44cc-b253-0dcf5d933746",
   "metadata": {},
   "source": [
    "# Query ESGF input4MIPs index and extract source_id entries"
   ]
  },
  {
   "cell_type": "raw",
   "id": "20363c50-b6df-4b1b-8d87-8c9099479e6a",
   "metadata": {},
   "source": [
    "PJD 24 Oct 2023 - Started to query LLNL-ESGF input4MIPs index and extract all published source_id entries\n",
    "PJD 25 Oct 2023 - Updated with valid solr queries\n",
    "PJD 26 Oct 2023 - Added File-based solr search (augmenting Dataset)\n",
    "PJD 27 Oct 2023 - Updated project to input4MIPs (Sasha fixed all entries - replacing \"&fq=project:(input4mips%20OR%20input4MIPs)\" as the project)\n",
    "PJD 20 Nov 2023 - Updating to allow srcIds to be reused\n",
    "PJD 21 Nov 2023 - Start iterating through source_id's\n",
    "PJD 21 Nov 2023 - Updated to write out composite entries\n",
    "PJD 29 Nov 2023 - Added CMIP6Plus example\n",
    "PJD 29 Nov 2023 - Deployed prototype CVs - built from ESGF index and CMIP6Plus example\n",
    "PJD 29 Nov 2023 - Deployed prototype source_id html https://pcmdi.github.io/input4MIPs_CVs/docs/input4MIPs_source_id.html\n",
    "PJD 17 Jun 2024 - Updating to start source_id registration\n",
    "PJD 17 Jun 2024 - Adding input4MIPs_institution_id.json"
   ]
  },
  {
   "cell_type": "markdown",
   "id": "ccf97c08-e120-4513-8cf3-25e97110ddd8",
   "metadata": {},
   "source": [
    "## notes"
   ]
  },
  {
   "cell_type": "raw",
   "id": "1af44764-8e4a-46f4-a542-b18d2212cf45",
   "metadata": {},
   "source": [
    "# env\n",
    "Must be connected by home or office wired IP - *.95.87 or *.241.141\n",
    "\n",
    "# Notes\n",
    "Datasets with no source_id 231026\n",
    "input4mips.ImperialCollege.atmosphericState.C4MIP-OMIP.ImperialCollege-1-0.yr.Delta14co2-in-air.gz.v20170428\n",
    "input4mips.ImperialCollege.atmosphericState.C4MIP-OMIP.ImperialCollege-1-0.yr.delta13co2-in-air.gm.v20170428\n",
    "input4MIPs.ImperialCollege.atmosphericState.C4MIP-OMIP.ImperialCollege-1-0.yr.delta13co2-in-air.gm.v20170428\n",
    "\n",
    "# website tracking _config.yml\n",
    "https://github.com/pages-themes/minimal/issues/88\n",
    "\n",
    "# Links\n",
    "https://search.google.com/search-console"
   ]
  },
  {
   "cell_type": "markdown",
   "id": "41322843-6c92-423b-a468-f1e0a7fe022b",
   "metadata": {},
   "source": [
    "## imports"
   ]
  },
  {
   "cell_type": "code",
   "execution_count": 2,
   "id": "727c54fa-d454-4adc-953d-1c93a0abf392",
   "metadata": {},
   "outputs": [
    {
     "name": "stdout",
     "output_type": "stream",
     "text": [
      "CPU times: user 15 µs, sys: 2 µs, total: 17 µs\n",
      "Wall time: 27.2 µs\n"
     ]
    }
   ],
   "source": [
    "%%time\n",
    "import json\n",
    "import numpy as np\n",
    "import os\n",
    "import pdb\n",
    "import requests\n",
    "from IPython.display import clear_output"
   ]
  },
  {
   "cell_type": "markdown",
   "id": "fe77200e-f8c7-4f7a-98e9-7c38ad218ab3",
   "metadata": {},
   "source": [
    "## example source_id queries"
   ]
  },
  {
   "cell_type": "raw",
   "id": "bb92413c-8bf8-4b48-ae3b-a0563b7edd4c",
   "metadata": {},
   "source": [
    "esgf-search\n",
    "https://esgf-node.llnl.gov/esg-search/search/?limit=0&format=application%2Fsolr%2Bjson&facets=variable_id&project=input4mips&project=input4MIPs&distrib=false 5879\n",
    "https://esgf-node.llnl.gov/esg-search/search/?limit=0&format=application%2Fsolr%2Bjson&facets=source_id&project=input4mips&project=input4MIPs&distrib=false 5879\n",
    "https://esgf-node.llnl.gov/esg-search/search?activity_id=input4MIPs&offset=0&limit=0&type=Dataset&format=application%2Fsolr%2Bjson&facets=source_id&latest=true&distrib=false 5221\n",
    "\n",
    "solr\n",
    "solr - json - Dataset - input4MIPs - 5876\n",
    "https://esgf-node.llnl.gov/solr/datasets/select?q=*:*&rows=0&wt=json&facet=true&fq=type:Dataset&fq=replica:false&fq=project:input4MIPs&facet.field=source_id\n",
    "solr - json - File - input4MIPs - 9373\n",
    "https://esgf-node.llnl.gov/solr/files/select?q=*:*&rows=0&wt=json&facet=true&fq=type:File&fq=replica:false&fq=project:input4MIPs&facet.field=source_id"
   ]
  },
  {
   "cell_type": "markdown",
   "id": "e6082ca0-bbcb-44b4-a1b8-8e6750dfbda5",
   "metadata": {},
   "source": [
    "## get source_id entries"
   ]
  },
  {
   "cell_type": "code",
   "execution_count": 3,
   "id": "25d88e25-1c25-4800-93a2-d8838ee05d8c",
   "metadata": {
    "scrolled": true
   },
   "outputs": [
    {
     "name": "stdout",
     "output_type": "stream",
     "text": [
      "https://esgf-node.llnl.gov/solr/datasets/select?q=*:*&rows=0&wt=json&facet=true&fq=type:Dataset&fq=replica:false&fq=project:input4MIPs&facet.field=source_id\n",
      "https://esgf-node.llnl.gov/solr/files/select?q=*:*&rows=0&wt=json&facet=true&fq=type:File&fq=replica:false&fq=project:input4MIPs&facet.field=source_id\n"
     ]
    }
   ],
   "source": [
    "# both input4MIPs and input4mips\n",
    "project = \"input4MIPs\"\n",
    "\n",
    "# Dataset search\n",
    "inputsD = \"https://esgf-node.llnl.gov/solr/datasets/select?q=*:*&rows=0&wt=json&facet=true&\" \\\n",
    "         \"fq=type:Dataset&fq=replica:false&fq=project:\" + project + \"&facet.field=source_id\"\n",
    "js = requests.get(inputsD)\n",
    "js_mipsD = json.loads(js.text)\n",
    "print(inputsD)\n",
    "\n",
    "# File search\n",
    "inputsF = \"https://esgf-node.llnl.gov/solr/files/select?q=*:*&rows=0&wt=json&facet=true&\" \\\n",
    "          \"fq=type:File&fq=replica:false&fq=project:\" + project + \"&facet.field=source_id\"\n",
    "js = requests.get(inputsF)\n",
    "js_mipsF = json.loads(js.text)\n",
    "print(inputsF)"
   ]
  },
  {
   "cell_type": "markdown",
   "id": "2a85a901-e7fa-4e59-8e50-a8ea10024dfc",
   "metadata": {},
   "source": [
    "## extract source_id entries and composite"
   ]
  },
  {
   "cell_type": "code",
   "execution_count": 4,
   "id": "7d4c32c8-07a6-433a-b755-73d55bc97e3e",
   "metadata": {},
   "outputs": [
    {
     "name": "stdout",
     "output_type": "stream",
     "text": [
      "len(dicInpmD): 368\n",
      "len(dicInpmF): 346\n"
     ]
    }
   ],
   "source": [
    "dicInpmD = js_mipsD[\"facet_counts\"][\"facet_fields\"][\"source_id\"]\n",
    "print(\"len(dicInpmD):\", len(dicInpmD))\n",
    "dicInpmF = js_mipsF[\"facet_counts\"][\"facet_fields\"][\"source_id\"]\n",
    "print(\"len(dicInpmF):\", len(dicInpmF))\n",
    "#print(dicInpmD)\n",
    "#print(dicInpmF)"
   ]
  },
  {
   "cell_type": "code",
   "execution_count": 5,
   "id": "9b721c24-d533-4fdd-b687-561a3a7d0fe7",
   "metadata": {},
   "outputs": [
    {
     "name": "stdout",
     "output_type": "stream",
     "text": [
      "srcIdDLen: 368\n",
      "len(srcIdDDict.keys()): 184\n",
      "dataset counts: 5876\n",
      "srcIdFLen: 346\n",
      "len(srcIdFDict.keys()): 173\n",
      "dataset counts: 9373\n",
      "Search results: Dataset includes, excluded from File searches:\n"
     ]
    },
    {
     "data": {
      "text/plain": [
       "{'CCMI-hist-nat-1-0',\n",
       " 'CCMI-hist-sol-1-0',\n",
       " 'CCMI-hist-volc-1-0',\n",
       " 'IAMC-AIM-ssp370-1-0',\n",
       " 'IAMC-GCAM4-ssp434-1-0',\n",
       " 'IAMC-GCAM4-ssp460-1-0',\n",
       " 'IAMC-IMAGE-ssp119-1-0',\n",
       " 'IAMC-IMAGE-ssp126-1-0',\n",
       " 'IAMC-MESSAGE-GLOBIOM-ssp245-1-0',\n",
       " 'IAMC-REMIND-MAGPIE-ssp534-over-1-0',\n",
       " 'IAMC-REMIND-MAGPIE-ssp585-1-0'}"
      ]
     },
     "execution_count": 5,
     "metadata": {},
     "output_type": "execute_result"
    }
   ],
   "source": [
    "# datasets\n",
    "srcIdLen = len(dicInpmD)\n",
    "print(\"srcIdDLen:\", srcIdLen)\n",
    "els = np.arange(0, srcIdLen, 2)\n",
    "srcIdDDict = {}\n",
    "srcIds = dicInpmD  # reset to generic variable name\n",
    "counts = 0\n",
    "for cnt, srcId in enumerate(els.tolist()):\n",
    "    #print(cnt, srcId)\n",
    "    srcIdDDict[srcIds[srcId]] = srcIds[srcId+1]\n",
    "    counts += int(srcIds[srcId+1])\n",
    "\n",
    "print(\"len(srcIdDDict.keys()):\", len(srcIdDDict.keys()))\n",
    "print(\"dataset counts:\", counts)\n",
    "# sort dictionary\n",
    "#sorted(srcIdDDict.items())\n",
    "#print(srcIdDDict)\n",
    "srcIdDDictList = list(sorted(srcIdDDict.keys()))\n",
    "#print(srcIdDDictList)\n",
    "\n",
    "# files\n",
    "srcIdLen = len(dicInpmF)\n",
    "print(\"srcIdFLen:\", srcIdLen)\n",
    "els = np.arange(0, srcIdLen, 2)\n",
    "srcIdFDict = {}\n",
    "srcIds = dicInpmF  # reset to generic variable name\n",
    "counts = 0\n",
    "for cnt, srcId in enumerate(els.tolist()):\n",
    "    #print(cnt, srcId)\n",
    "    srcIdFDict[srcIds[srcId]] = srcIds[srcId+1]\n",
    "    counts += int(srcIds[srcId+1])\n",
    "\n",
    "print(\"len(srcIdFDict.keys()):\", len(srcIdFDict.keys()))\n",
    "print(\"dataset counts:\", counts)\n",
    "# sort dictionary\n",
    "srcIdFDictList = list(sorted(srcIdFDict.keys()))\n",
    "#print(srcIdFDictList)\n",
    "\n",
    "# determine missing\n",
    "print(\"Search results: Dataset includes, excluded from File searches:\")\n",
    "set(srcIdDDictList).difference(srcIdFDictList)"
   ]
  },
  {
   "cell_type": "markdown",
   "id": "2c5c1e35-7625-4011-9b18-70925fb0ee7e",
   "metadata": {},
   "source": [
    "## example source_id queries"
   ]
  },
  {
   "cell_type": "raw",
   "id": "bcfe3550-90aa-4774-b7e5-7ec48605557c",
   "metadata": {},
   "source": [
    "do something else\n",
    "https://esgf-node.llnl.gov/esg-search/search/?limit=1000&format=application%2Fsolr%2Bjson&source_id=ACCESS1-3-rcp85-1-0&project=input4mips&project=input4MIPs&distrib=false&fields=_timestamp - timestamps only\n",
    "\n",
    "https://esgf-node.llnl.gov/esg-search/search/?limit=1000&format=application%2Fsolr%2Bjson&source_id=ACCESS1-3-rcp85-1-0&project=input4mips&project=input4MIPs&distrib=false&fields=* - wildcard, all index entries, 4 files/variables"
   ]
  },
  {
   "cell_type": "markdown",
   "id": "f9cef7e5-0c2a-4cdf-af0e-0a72863486ca",
   "metadata": {},
   "source": [
    "## using source_id entries from Dataset search build a library"
   ]
  },
  {
   "cell_type": "code",
   "execution_count": 9,
   "id": "84724d0f-29bf-42b2-91ae-b54fa7e1ca0a",
   "metadata": {},
   "outputs": [
    {
     "name": "stdout",
     "output_type": "stream",
     "text": [
      "len(js_srcId): 247\n",
      "All done\n"
     ]
    }
   ],
   "source": [
    "solrQry = \"https://esgf-node.llnl.gov/esg-search/search/?limit=1000&format=application%2Fsolr%2Bjson&source_id=\" \\\n",
    "          \"PLACEHOLDER\" + \"&project=input4mips&project=input4MIPs&distrib=false&fields=*\"  # all fields\n",
    "mstrJson = {}  # create catch dictionary\n",
    "oF = \"tmp.json\"\n",
    "for count, srcId in enumerate(srcIdDDict.keys()):\n",
    "    print(count, srcId)\n",
    "    qryStr = solrQry.replace(\"PLACEHOLDER\", srcId)\n",
    "    #print(\"qryStr:\", qryStr)\n",
    "    js = requests.get(qryStr)\n",
    "    js_srcId = json.loads(js.text)\n",
    "    #print(js_srcId[\"response\"][\"docs\"][0])\n",
    "    # write to placeholder to test\n",
    "    srcIdLen = len(js_srcId[\"response\"][\"docs\"])\n",
    "    clear_output(wait=False)\n",
    "    # https://stackoverflow.com/questions/24816237/ipython-notebook-clear-cell-output-in-code\n",
    "    print(\"len(js_srcId):\", srcIdLen)\n",
    "    for entry in np.arange(0, srcIdLen):\n",
    "        a = js_srcId[\"response\"][\"docs\"][entry]\n",
    "        instId = a[\"instance_id\"]\n",
    "        mstrJson[instId] = a        \n",
    "        if os.path.exists(oF):\n",
    "            os.remove(oF)\n",
    "        fH = open(oF, \"w\")\n",
    "        json.dump(a, fH, ensure_ascii=True, sort_keys=True, indent=4, separators=(\",\", \":\"),)\n",
    "        #json.dump(mstrJson, fH, ensure_ascii=True, sort_keys=True, indent=4, separators=(\",\", \":\"),)\n",
    "        fH.close()\n",
    "    #pdb.set_trace()\n",
    "print(\"All done\")\n",
    "# cleanup\n",
    "os.remove(oF)  # cleanup\n",
    "# Write all out\n",
    "oF = \"comp.json\"\n",
    "if os.path.exists(oF):\n",
    "    os.remove(oF)\n",
    "fH = open(oF, \"w\")\n",
    "json.dump(mstrJson, fH, ensure_ascii=True, sort_keys=True, indent=4, separators=(\",\", \":\"),)\n",
    "fH.close()"
   ]
  },
  {
   "cell_type": "markdown",
   "id": "e5446ac5-bb2b-44fe-9ae4-70aa78d759b3",
   "metadata": {},
   "source": [
    "## create input4MIPs_source_id.json"
   ]
  },
  {
   "cell_type": "code",
   "execution_count": null,
   "id": "3fbe7b15-5ce1-4bb9-91e5-7d8b54720456",
   "metadata": {},
   "outputs": [],
   "source": [
    "srcIdDict = {}\n",
    "srcIdDict[\"source_id\"] = {}\n",
    "keyList = [\n",
    "    \"_timestamp\", \"contact\", \"dataset_category\", \"data_node\", \"datetime_start\",\n",
    "    \"datetime_stop\", \"latest\", \"frequency\", \"institution_id\", \"mip_era\", \"realm\",\n",
    "    \"replica\", \"source_id\", \"source_version\", \"target_mip\", \"version\", \"xlink\"\n",
    "       ]\n",
    "# latest (bool)/deprecated (string)\n",
    "\n",
    "# loop through entries\n",
    "for c1, a in enumerate(mstrJson):\n",
    "    tmp = mstrJson[a]\n",
    "    srcId = tmp[\"source_id\"][0]\n",
    "    print(srcId)\n",
    "    if srcId not in srcIdDict.keys():\n",
    "        dic = [tmp.get(key) for key in keyList]\n",
    "        srcIdDict[\"source_id\"][srcId] = {}\n",
    "        for c2, b in enumerate(keyList):\n",
    "            c = dic[c2]\n",
    "            if isinstance(c, list):\n",
    "                c = c[0]\n",
    "            srcIdDict[\"source_id\"][srcId][keyList[c2]] = c\n",
    "      \n",
    "clear_output(wait=False)\n",
    "print(\"len(srcIdDict[\\\"source_id\\\"].keys()):\", len(srcIdDict[\"source_id\"].keys()))\n",
    "# Write all out\n",
    "oF = \"../input4MIPs_source_id.json\"\n",
    "if os.path.exists(oF):\n",
    "    os.remove(oF)\n",
    "fH = open(oF, \"w\")\n",
    "json.dump(srcIdDict, fH, ensure_ascii=True, sort_keys=True, indent=4, separators=(\",\", \":\"),)\n",
    "fH.close()"
   ]
  },
  {
   "cell_type": "markdown",
   "id": "247aa657-4b5b-451e-95f6-264f5d18f866",
   "metadata": {},
   "source": [
    "## create other *.json entries"
   ]
  },
  {
   "cell_type": "code",
   "execution_count": 10,
   "id": "58d314e7-cfc4-4512-b13a-ca24d0e93de8",
   "metadata": {
    "jupyter": {
     "source_hidden": true
    }
   },
   "outputs": [
    {
     "name": "stdout",
     "output_type": "stream",
     "text": [
      "processing: DRS\n",
      "../input4MIPs_DRS.json\n",
      "processing: activity_id\n",
      "../input4MIPs_activity_id.json\n",
      "processing: dataset_category\n",
      "../input4MIPs_dataset_category.json\n",
      "processing: license\n",
      "../input4MIPs_license.json\n",
      "processing: mip_era\n",
      "../input4MIPs_mip_era.json\n",
      "processing: product\n",
      "../input4MIPs_product.json\n",
      "processing: required_global_attributes\n",
      "../input4MIPs_required_global_attributes.json\n",
      "processing: target_mip\n",
      "../input4MIPs_target_mip.json\n",
      "processing: tracking_id\n",
      "../input4MIPs_tracking_id.json\n"
     ]
    }
   ],
   "source": [
    "keyDict = {\n",
    "    \"DRS\": {\n",
    "        \"directory_path_example\": \"input4MIPs/CMIP6Plus/CMIP/PCMDI/PCMDI-AMIP-1-1-9/ocean/mon/tos/gn/v20230512/\",\n",
    "        \"directory_path_template\": \"<activity_id><mip_era>/<target_mip>/<institution_id>/<source_id>/<realm>/<frequency>/<variable_id>/<grid_label>/<version>\",\n",
    "        \"filename_example\": \"tos_input4MIPs_SSTsAndSeaIce_CMIP_PCMDI-AMIP-1-1-9_gn_187001-202212.nc\",\n",
    "        \"filename_template\": \"<variable_id><activity_id><dataset_category><target_mip><source_id><grid_label>[_<time_range>].nc\"\n",
    "    },\n",
    "    \"activity_id\": {\n",
    "        \"input4MIPs\": {\n",
    "            \"URL\": \"https://pcmdi.llnl.gov/mips/input4MIPs/\",\n",
    "            \"long_name\": \"input forcing datasets for Model Intercomparison Projects\"\n",
    "        }\n",
    "    },\n",
    "    \"dataset_category\": [\n",
    "        \"GHGConcentrations\",\n",
    "        \"SSTsAndSeaIce\",\n",
    "        \"aerosolProperties\",\n",
    "        \"atmosphericState\",\n",
    "        \"emissions\",\n",
    "        \"landState\",\n",
    "        \"ozone\",\n",
    "        \"radiation\",\n",
    "        \"solar\",\n",
    "        \"surfaceAir\",\n",
    "        \"surfaceFluxes\"\n",
    "    ],\n",
    "    \"license\" : {\n",
    "        \"license\":\"<your_data_identifier> data produced by <Your Institution; see MIP_institution_id.json> is licensed under a <Creative Commons; select and insert a license_id; see below> License (<insert the matching license_url; see below>). Consult https://pcmdi.llnl.gov/CMIP6Plus/TermsOfUse for terms of use governing CMIP6Plus and input4MIPs output, including citation requirements and proper acknowledgment. Further information about this data, can be found at <URL_maintained_data_provider>. The data producers and data providers make no warranty, either express or implied, including, but not limited to, warranties of merchantability and fitness for a particular purpose. All liabilities arising from the supply of the information (including any liability arising in negligence) are excluded to the fullest extent permitted by law.\",\n",
    "        \"license_options\":{\n",
    "            \"CC BY 4.0\":{\n",
    "                \"license_id\":\"Creative Commons Attribution 4.0 International\",\n",
    "                \"license_url\":\"https://creativecommons.org/licenses/by/4.0/\"\n",
    "            },\n",
    "            \"CC0 1.0\":{\n",
    "                \"license_id\":\"Creative Commons CC0 1.0 Universal Public Domain Dedication\",\n",
    "                \"license_url\":\"https://creativecommons.org/publicdomain/zero/1.0/\"\n",
    "            }\n",
    "        }\n",
    "    },\n",
    "    \"mip_era\": [\n",
    "        \"CMIP5\",\n",
    "        \"CMIP6\",\n",
    "        \"CMIP6Plus\"\n",
    "    ],\n",
    "    \"product\": [\n",
    "        \"derived\",\n",
    "        \"observations\",\n",
    "        \"reanalysis\"\n",
    "    ],\n",
    "    \"required_global_attributes\": [\n",
    "        \"Conventions\",\n",
    "        \"activity_id\",\n",
    "        \"contact\",\n",
    "        \"creation_date\",\n",
    "        \"dataset_category\",\n",
    "        \"frequency\",\n",
    "        \"further_info_url\",\n",
    "        \"grid_label\",\n",
    "        \"institution\",\n",
    "        \"institution_id\",\n",
    "        \"license\",\n",
    "        \"mip_era\",\n",
    "        \"nominal_resolution\",\n",
    "        \"realm\",\n",
    "        \"region\",\n",
    "        \"source\",\n",
    "        \"source_id\",\n",
    "        \"source_version\",\n",
    "        \"table_id\",\n",
    "        \"target_mip\",\n",
    "        \"title\",\n",
    "        \"tracking_id\",\n",
    "        \"variable_id\"\n",
    "    ],\n",
    "    \"target_mip\": {\n",
    "        \"CMIP6\": {\n",
    "            \"AerChemMIP\":\"Aerosols and Chemistry Model Intercomparison Project\",\n",
    "            \"C4MIP\":\"Coupled Climate Carbon Cycle Model Intercomparison Project\",\n",
    "            \"CDRMIP\":\"Carbon Dioxide Removal Model Intercomparison Project\",\n",
    "            \"CFMIP\":\"Cloud Feedback Model Intercomparison Project\",\n",
    "            \"CMIP\":\"CMIP DECK: 1pctCO2, abrupt4xCO2, amip, esm-piControl, esm-historical, historical, and piControl experiments\",\n",
    "            \"CORDEX\":\"Coordinated Regional Climate Downscaling Experiment\",\n",
    "            \"DAMIP\":\"Detection and Attribution Model Intercomparison Project\",\n",
    "            \"DCPP\":\"Decadal Climate Prediction Project\",\n",
    "            \"DynVarMIP\":\"Dynamics and Variability Model Intercomparison Project\",\n",
    "            \"FAFMIP\":\"Flux-Anomaly-Forced Model Intercomparison Project\",\n",
    "            \"GMMIP\":\"Global Monsoons Model Intercomparison Project\",\n",
    "            \"GeoMIP\":\"Geoengineering Model Intercomparison Project\",\n",
    "            \"HighResMIP\":\"High-Resolution Model Intercomparison Project\",\n",
    "            \"ISMIP6\":\"Ice Sheet Model Intercomparison Project for CMIP6\",\n",
    "            \"LS3MIP\":\"Land Surface, Snow and Soil Moisture\",\n",
    "            \"LUMIP\":\"Land-Use Model Intercomparison Project\",\n",
    "            \"OMIP\":\"Ocean Model Intercomparison Project\",\n",
    "            \"PAMIP\":\"Polar Amplification Model Intercomparison Project\",\n",
    "            \"PMIP\":\"Palaeoclimate Modelling Intercomparison Project\",\n",
    "            \"RFMIP\":\"Radiative Forcing Model Intercomparison Project\",\n",
    "            \"SIMIP\":\"Sea Ice Model Intercomparison Project\",\n",
    "            \"ScenarioMIP\":\"Scenario Model Intercomparison Project\",\n",
    "            \"VIACSAB\":\"Vulnerability, Impacts, Adaptation and Climate Services Advisory Board\",\n",
    "            \"VolMIP\":\"Volcanic Forcings Model Intercomparison Project\"\n",
    "        },\n",
    "        \"CMIP6Plus\": {\n",
    "            \"CMIP\": {\n",
    "                \"URL\": \"https://gmd.copernicus.org/articles/9/1937/2016/gmd-9-1937-2016.pdf\",\n",
    "                \"long_name\": \"CMIP DECK: 1pctCO2, abrupt4xCO2, amip, esm-piControl, esm-historical, historical, and piControl experiments\"\n",
    "            },\n",
    "            \"LESFMIP\": {\n",
    "                \"URL\": \"https://www.frontiersin.org/articles/10.3389/fclim.2022.955414/full\",\n",
    "                \"long_name\": \"The Large Ensemble Single Forcing Model Intercomparison Project\"\n",
    "            }\n",
    "        }\n",
    "    },\n",
    "    \"tracking_id\": [\n",
    "        \"hdl:21.14100/.*\"\n",
    "    ],\n",
    "}\n",
    "# Write all out\n",
    "for key in keyDict.keys():\n",
    "    print(\"processing:\", key)\n",
    "    oF = \"\".join([\"../input4MIPs_\", key, \".json\"])\n",
    "    print(oF)\n",
    "    #pdb.set_trace()\n",
    "    # add dict identifier\n",
    "    tmp = {}\n",
    "    tmp[key] = keyDict[key]\n",
    "    # write to file\n",
    "    if os.path.exists(oF):\n",
    "        os.remove(oF)\n",
    "    fH = open(oF, \"w\")\n",
    "    json.dump(tmp, fH, ensure_ascii=True, sort_keys=True, indent=4, separators=(\",\", \":\"),)\n",
    "    fH.close()"
   ]
  },
  {
   "cell_type": "markdown",
   "id": "6c245c7e-af83-41c3-a1f1-fa0c5759043b",
   "metadata": {},
   "source": [
    "## create institution_id from source_id entries"
   ]
  },
  {
   "cell_type": "code",
   "execution_count": 14,
   "id": "04adc6fa-7554-4bf0-b089-5cf21a1f48b8",
   "metadata": {},
   "outputs": [],
   "source": [
    "# load data\n",
    "srcIdPath = \"../input4MIPs_source_id.json\"\n",
    "with open(srcIdPath, 'r') as fH:\n",
    "    js_srcId = json.load(fH)\n",
    "\n",
    "#js_srcId[\"source_id\"].keys()\n",
    "#js_srcId[\"source_id\"][\"ACCESS1-3-rcp85-1-0\"][\"institution_id\"]"
   ]
  },
  {
   "cell_type": "code",
   "execution_count": 25,
   "id": "96eff421-3156-4d8a-93f1-4230d5fc354d",
   "metadata": {},
   "outputs": [
    {
     "data": {
      "text/plain": [
       "['CCCma',\n",
       " 'CNRM-Cerfacs',\n",
       " 'IACETH',\n",
       " 'IAMC',\n",
       " 'ImperialCollege',\n",
       " 'MOHC',\n",
       " 'MPI-B',\n",
       " 'MPI-M',\n",
       " 'MRI',\n",
       " 'NASA-GSFC',\n",
       " 'NCAR',\n",
       " 'NCAS',\n",
       " 'PCMDI',\n",
       " 'PNNL-JGCRI',\n",
       " 'SOLARIS-HEPPA',\n",
       " 'UCI',\n",
       " 'UColorado',\n",
       " 'UReading',\n",
       " 'UoM',\n",
       " 'UofMD',\n",
       " 'VUA']"
      ]
     },
     "execution_count": 25,
     "metadata": {},
     "output_type": "execute_result"
    }
   ],
   "source": [
    "# iterate through and catch\n",
    "instId = []\n",
    "for count, key in enumerate(js_srcId[\"source_id\"].keys()):\n",
    "    instIdTmp = js_srcId[\"source_id\"][key][\"institution_id\"]\n",
    "    #print(count, key, instIdTmp)\n",
    "    if instIdTmp not in instId:\n",
    "        instId.append(instIdTmp)\n",
    "instId.sort()\n",
    "instId"
   ]
  },
  {
   "cell_type": "code",
   "execution_count": 26,
   "id": "f021bd79-56f2-47b6-81ef-2b139ca2239a",
   "metadata": {},
   "outputs": [],
   "source": [
    "# write to input4MIPs_institution_id.json\n",
    "tmp = {}\n",
    "tmp[\"institution_id\"] = instId\n",
    "# Write all out\n",
    "oF = \"../input4MIPs_institution_id.json\"\n",
    "if os.path.exists(oF):\n",
    "    os.remove(oF)\n",
    "fH = open(oF, \"w\")\n",
    "json.dump(tmp, fH, ensure_ascii=True, sort_keys=True, indent=4, separators=(\",\", \":\"),)\n",
    "fH.close()"
   ]
  }
 ],
 "metadata": {
  "kernelspec": {
   "display_name": "Python 3 (ipykernel)",
   "language": "python",
   "name": "python3"
  },
  "language_info": {
   "codemirror_mode": {
    "name": "ipython",
    "version": 3
   },
   "file_extension": ".py",
   "mimetype": "text/x-python",
   "name": "python",
   "nbconvert_exporter": "python",
   "pygments_lexer": "ipython3",
   "version": "3.12.3"
  }
 },
 "nbformat": 4,
 "nbformat_minor": 5
}
