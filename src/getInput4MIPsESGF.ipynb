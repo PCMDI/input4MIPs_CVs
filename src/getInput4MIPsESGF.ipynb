{
 "cells": [
  {
   "cell_type": "markdown",
   "id": "f0a176d8-3c44-44cc-b253-0dcf5d933746",
   "metadata": {},
   "source": [
    "# Query ESGF input4MIPs index and extract source_id entries"
   ]
  },
  {
   "cell_type": "raw",
   "id": "20363c50-b6df-4b1b-8d87-8c9099479e6a",
   "metadata": {},
   "source": [
    "PJD 24 Oct 2023 - Started to query LLNL-ESGF input4MIPs index and extract all published source_id entries\n",
    "PJD 25 Oct 2023 - Updated with valid solr queries\n",
    "PJD 26 Oct 2023 - Added File-based solr search (augmenting Dataset)\n",
    "PJD 27 Oct 2023 - Updated project to input4MIPs (Sasha fixed all entries - replacing \"&fq=project:(input4mips%20OR%20input4MIPs)\" as the project)\n",
    "PJD 20 Nov 2023 - Updating to allow srcIds to be reused\n",
    "PJD 21 Nov 2023 - Start iterating through source_id's\n",
    "PJD 21 Nov 2023 - Updated to write out composite entries"
   ]
  },
  {
   "cell_type": "markdown",
   "id": "ccf97c08-e120-4513-8cf3-25e97110ddd8",
   "metadata": {},
   "source": [
    "## notes"
   ]
  },
  {
   "cell_type": "raw",
   "id": "1af44764-8e4a-46f4-a542-b18d2212cf45",
   "metadata": {},
   "source": [
    "# Notes\n",
    "Datasets with no source_id 231026\n",
    "input4mips.ImperialCollege.atmosphericState.C4MIP-OMIP.ImperialCollege-1-0.yr.Delta14co2-in-air.gz.v20170428\n",
    "input4mips.ImperialCollege.atmosphericState.C4MIP-OMIP.ImperialCollege-1-0.yr.delta13co2-in-air.gm.v20170428\n",
    "input4MIPs.ImperialCollege.atmosphericState.C4MIP-OMIP.ImperialCollege-1-0.yr.delta13co2-in-air.gm.v20170428\n",
    "\n",
    "# Links\n",
    "https://search.google.com/search-console\n",
    "\n",
    "# CMIP6Plus\n",
    "(base) ml-9953350:CMIP6Plus_CVs durack1$ ls -1\n",
    "CMIP6Plus_DRS.json\n",
    "CMIP6Plus_activity_id.json\n",
    "CMIP6Plus_experiment_id.json\n",
    "CMIP6Plus_license.json\n",
    "CMIP6Plus_mip_era.json\n",
    "CMIP6Plus_required_global_attributes.json\n",
    "CMIP6Plus_source_id.json\n",
    "CMIP6Plus_sub_experiment_id.json\n",
    "CMIP6Plus_tracking_id.json"
   ]
  },
  {
   "cell_type": "markdown",
   "id": "41322843-6c92-423b-a468-f1e0a7fe022b",
   "metadata": {},
   "source": [
    "## imports"
   ]
  },
  {
   "cell_type": "code",
   "execution_count": 1,
   "id": "727c54fa-d454-4adc-953d-1c93a0abf392",
   "metadata": {},
   "outputs": [],
   "source": [
    "import json\n",
    "import numpy as np\n",
    "import os\n",
    "import pdb\n",
    "import requests\n",
    "from IPython.display import clear_output"
   ]
  },
  {
   "cell_type": "markdown",
   "id": "fe77200e-f8c7-4f7a-98e9-7c38ad218ab3",
   "metadata": {},
   "source": [
    "## example source_id queries"
   ]
  },
  {
   "cell_type": "raw",
   "id": "bb92413c-8bf8-4b48-ae3b-a0563b7edd4c",
   "metadata": {},
   "source": [
    "esgf-search\n",
    "https://esgf-node.llnl.gov/esg-search/search/?limit=0&format=application%2Fsolr%2Bjson&facets=variable_id&project=input4mips&project=input4MIPs&distrib=false 5879\n",
    "https://esgf-node.llnl.gov/esg-search/search/?limit=0&format=application%2Fsolr%2Bjson&facets=source_id&project=input4mips&project=input4MIPs&distrib=false 5879\n",
    "https://esgf-node.llnl.gov/esg-search/search?activity_id=input4MIPs&offset=0&limit=0&type=Dataset&format=application%2Fsolr%2Bjson&facets=source_id&latest=true&distrib=false 5221\n",
    "\n",
    "solr\n",
    "solr - json - Dataset - input4MIPs - 5876\n",
    "https://esgf-node.llnl.gov/solr/datasets/select?q=*:*&rows=0&wt=json&facet=true&fq=type:Dataset&fq=replica:false&fq=project:input4MIPs&facet.field=source_id\n",
    "solr - json - File - input4MIPs - 9373\n",
    "https://esgf-node.llnl.gov/solr/files/select?q=*:*&rows=0&wt=json&facet=true&fq=type:File&fq=replica:false&fq=project:input4MIPs&facet.field=source_id"
   ]
  },
  {
   "cell_type": "markdown",
   "id": "e6082ca0-bbcb-44b4-a1b8-8e6750dfbda5",
   "metadata": {},
   "source": [
    "## get source_id entries"
   ]
  },
  {
   "cell_type": "code",
   "execution_count": 2,
   "id": "25d88e25-1c25-4800-93a2-d8838ee05d8c",
   "metadata": {},
   "outputs": [
    {
     "name": "stdout",
     "output_type": "stream",
     "text": [
      "https://esgf-node.llnl.gov/solr/datasets/select?q=*:*&rows=0&wt=json&facet=true&fq=type:Dataset&fq=replica:false&fq=project:input4MIPs&facet.field=source_id\n",
      "https://esgf-node.llnl.gov/solr/files/select?q=*:*&rows=0&wt=json&facet=true&fq=type:File&fq=replica:false&fq=project:input4MIPs&facet.field=source_id\n"
     ]
    }
   ],
   "source": [
    "# both input4MIPs and input4mips\n",
    "project = \"input4MIPs\"\n",
    "\n",
    "# Dataset search\n",
    "inputsD = \"https://esgf-node.llnl.gov/solr/datasets/select?q=*:*&rows=0&wt=json&facet=true&\" \\\n",
    "         \"fq=type:Dataset&fq=replica:false&fq=project:\" + project + \"&facet.field=source_id\"\n",
    "js = requests.get(inputsD)\n",
    "js_mipsD = json.loads(js.text)\n",
    "print(inputsD)\n",
    "\n",
    "# File search\n",
    "inputsF = \"https://esgf-node.llnl.gov/solr/files/select?q=*:*&rows=0&wt=json&facet=true&\" \\\n",
    "          \"fq=type:File&fq=replica:false&fq=project:\" + project + \"&facet.field=source_id\"\n",
    "js = requests.get(inputsF)\n",
    "js_mipsF = json.loads(js.text)\n",
    "print(inputsF)"
   ]
  },
  {
   "cell_type": "markdown",
   "id": "2a85a901-e7fa-4e59-8e50-a8ea10024dfc",
   "metadata": {},
   "source": [
    "## extract source_id entries and composite"
   ]
  },
  {
   "cell_type": "code",
   "execution_count": 3,
   "id": "7d4c32c8-07a6-433a-b755-73d55bc97e3e",
   "metadata": {},
   "outputs": [
    {
     "name": "stdout",
     "output_type": "stream",
     "text": [
      "len(dicInpmD): 368\n",
      "len(dicInpmF): 346\n"
     ]
    }
   ],
   "source": [
    "dicInpmD = js_mipsD[\"facet_counts\"][\"facet_fields\"][\"source_id\"]\n",
    "print(\"len(dicInpmD):\", len(dicInpmD))\n",
    "dicInpmF = js_mipsF[\"facet_counts\"][\"facet_fields\"][\"source_id\"]\n",
    "print(\"len(dicInpmF):\", len(dicInpmF))\n",
    "#print(dicInpmD)\n",
    "#print(dicInpmF)"
   ]
  },
  {
   "cell_type": "code",
   "execution_count": 4,
   "id": "9b721c24-d533-4fdd-b687-561a3a7d0fe7",
   "metadata": {},
   "outputs": [
    {
     "name": "stdout",
     "output_type": "stream",
     "text": [
      "srcIdDLen: 368\n",
      "len(srcIdDDict.keys()): 184\n",
      "dataset counts: 5876\n",
      "srcIdFLen: 346\n",
      "len(srcIdFDict.keys()): 173\n",
      "dataset counts: 9373\n",
      "Search results: Dataset includes, excluded from File searches:\n"
     ]
    },
    {
     "data": {
      "text/plain": [
       "{'CCMI-hist-nat-1-0',\n",
       " 'CCMI-hist-sol-1-0',\n",
       " 'CCMI-hist-volc-1-0',\n",
       " 'IAMC-AIM-ssp370-1-0',\n",
       " 'IAMC-GCAM4-ssp434-1-0',\n",
       " 'IAMC-GCAM4-ssp460-1-0',\n",
       " 'IAMC-IMAGE-ssp119-1-0',\n",
       " 'IAMC-IMAGE-ssp126-1-0',\n",
       " 'IAMC-MESSAGE-GLOBIOM-ssp245-1-0',\n",
       " 'IAMC-REMIND-MAGPIE-ssp534-over-1-0',\n",
       " 'IAMC-REMIND-MAGPIE-ssp585-1-0'}"
      ]
     },
     "execution_count": 4,
     "metadata": {},
     "output_type": "execute_result"
    }
   ],
   "source": [
    "# datasets\n",
    "srcIdLen = len(dicInpmD)\n",
    "print(\"srcIdDLen:\", srcIdLen)\n",
    "els = np.arange(0, srcIdLen, 2)\n",
    "srcIdDDict = {}\n",
    "srcIds = dicInpmD  # reset to generic variable name\n",
    "counts = 0\n",
    "for cnt, srcId in enumerate(els.tolist()):\n",
    "    #print(cnt, srcId)\n",
    "    srcIdDDict[srcIds[srcId]] = srcIds[srcId+1]\n",
    "    counts += int(srcIds[srcId+1])\n",
    "\n",
    "print(\"len(srcIdDDict.keys()):\", len(srcIdDDict.keys()))\n",
    "print(\"dataset counts:\", counts)\n",
    "# sort dictionary\n",
    "#sorted(srcIdDDict.items())\n",
    "#print(srcIdDDict)\n",
    "srcIdDDictList = list(sorted(srcIdDDict.keys()))\n",
    "#print(srcIdDDictList)\n",
    "\n",
    "# files\n",
    "srcIdLen = len(dicInpmF)\n",
    "print(\"srcIdFLen:\", srcIdLen)\n",
    "els = np.arange(0, srcIdLen, 2)\n",
    "srcIdFDict = {}\n",
    "srcIds = dicInpmF  # reset to generic variable name\n",
    "counts = 0\n",
    "for cnt, srcId in enumerate(els.tolist()):\n",
    "    #print(cnt, srcId)\n",
    "    srcIdFDict[srcIds[srcId]] = srcIds[srcId+1]\n",
    "    counts += int(srcIds[srcId+1])\n",
    "\n",
    "print(\"len(srcIdFDict.keys()):\", len(srcIdFDict.keys()))\n",
    "print(\"dataset counts:\", counts)\n",
    "# sort dictionary\n",
    "srcIdFDictList = list(sorted(srcIdFDict.keys()))\n",
    "#print(srcIdFDictList)\n",
    "\n",
    "# determine missing\n",
    "print(\"Search results: Dataset includes, excluded from File searches:\")\n",
    "set(srcIdDDictList).difference(srcIdFDictList)"
   ]
  },
  {
   "cell_type": "markdown",
   "id": "2c5c1e35-7625-4011-9b18-70925fb0ee7e",
   "metadata": {},
   "source": [
    "## example source_id queries"
   ]
  },
  {
   "cell_type": "raw",
   "id": "bcfe3550-90aa-4774-b7e5-7ec48605557c",
   "metadata": {},
   "source": [
    "do something else\n",
    "https://esgf-node.llnl.gov/esg-search/search/?limit=1000&format=application%2Fsolr%2Bjson&source_id=ACCESS1-3-rcp85-1-0&project=input4mips&project=input4MIPs&distrib=false&fields=_timestamp - timestamps only\n",
    "\n",
    "https://esgf-node.llnl.gov/esg-search/search/?limit=1000&format=application%2Fsolr%2Bjson&source_id=ACCESS1-3-rcp85-1-0&project=input4mips&project=input4MIPs&distrib=false&fields=* - wildcard, all index entries, 4 files/variables"
   ]
  },
  {
   "cell_type": "markdown",
   "id": "f9cef7e5-0c2a-4cdf-af0e-0a72863486ca",
   "metadata": {},
   "source": [
    "## using source_id entries from Dataset search build a library"
   ]
  },
  {
   "cell_type": "code",
   "execution_count": 6,
   "id": "84724d0f-29bf-42b2-91ae-b54fa7e1ca0a",
   "metadata": {},
   "outputs": [
    {
     "name": "stdout",
     "output_type": "stream",
     "text": [
      "len(js_srcId): 247\n",
      "All done\n"
     ]
    }
   ],
   "source": [
    "solrQry = \"https://esgf-node.llnl.gov/esg-search/search/?limit=1000&format=application%2Fsolr%2Bjson&source_id=\" \\\n",
    "          \"PLACEHOLDER\" + \"&project=input4mips&project=input4MIPs&distrib=false&fields=*\"  # all fields\n",
    "mstrJson = {}  # create catch dictionary\n",
    "oF = \"tmp.json\"\n",
    "for count, srcId in enumerate(srcIdDDict.keys()):\n",
    "    print(count, srcId)\n",
    "    qryStr = solrQry.replace(\"PLACEHOLDER\", srcId)\n",
    "    #print(\"qryStr:\", qryStr)\n",
    "    js = requests.get(qryStr)\n",
    "    js_srcId = json.loads(js.text)\n",
    "    #print(js_srcId[\"response\"][\"docs\"][0])\n",
    "    # write to placeholder to test\n",
    "    srcIdLen = len(js_srcId[\"response\"][\"docs\"])\n",
    "    #print(\"\\033[H\\033[xJ\", end=\"\")  # This should clean screen\n",
    "    # https://stackoverflow.com/questions/517970/how-to-clear-the-interpreter-console\n",
    "    clear_output(wait=False)\n",
    "    # https://stackoverflow.com/questions/24816237/ipython-notebook-clear-cell-output-in-code\n",
    "    print(\"len(js_srcId):\", srcIdLen)\n",
    "    for entry in np.arange(0, srcIdLen):\n",
    "        a = js_srcId[\"response\"][\"docs\"][entry]\n",
    "        instId = a[\"instance_id\"]\n",
    "        mstrJson[instId] = a        \n",
    "        if os.path.exists(oF):\n",
    "            os.remove(oF)\n",
    "        fH = open(oF, \"w\")\n",
    "        json.dump(a, fH, ensure_ascii=True, sort_keys=True, indent=4, separators=(\",\", \":\"),)\n",
    "        #json.dump(mstrJson, fH, ensure_ascii=True, sort_keys=True, indent=4, separators=(\",\", \":\"),)\n",
    "        fH.close()\n",
    "    #pdb.set_trace()\n",
    "print(\"All done\")\n",
    "# Write all out\n",
    "oF = \"comp.json\"\n",
    "if os.path.exists(oF):\n",
    "    os.remove(oF)\n",
    "fH = open(oF, \"w\")\n",
    "json.dump(mstrJson, fH, ensure_ascii=True, sort_keys=True, indent=4, separators=(\",\", \":\"),)\n",
    "fH.close()"
   ]
  },
  {
   "cell_type": "code",
   "execution_count": null,
   "id": "cb88aa1e-70bf-4f06-84ad-7e8475466d1b",
   "metadata": {},
   "outputs": [],
   "source": []
  }
 ],
 "metadata": {
  "kernelspec": {
   "display_name": "Python 3 (ipykernel)",
   "language": "python",
   "name": "python3"
  },
  "language_info": {
   "codemirror_mode": {
    "name": "ipython",
    "version": 3
   },
   "file_extension": ".py",
   "mimetype": "text/x-python",
   "name": "python",
   "nbconvert_exporter": "python",
   "pygments_lexer": "ipython3",
   "version": "3.11.4"
  }
 },
 "nbformat": 4,
 "nbformat_minor": 5
}
